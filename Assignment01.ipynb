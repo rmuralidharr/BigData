{
 "cells": [
  {
   "attachments": {},
   "cell_type": "markdown",
   "metadata": {},
   "source": [
    "# ISM6562 -- Big Data for Business\n",
    "\n",
    "## Name: Muralidhar Reddy [U64546777]\n",
    "\n",
    "### introduction: With the advent of social media and IoT (internet of things), the data volume in organizations has increased rapidly in recent years. With the increased data volume to terabytes and even petabytes, more than the traditional database and analytical techniques are required. In this course, you will learn various big data technologies and how they can be used for data management and data analytics purposes to handle such massive datasets. The first half of the course will focus on big data storage technologies such as No-SQL databases and distributed file systems. The second half of the course will focus on big data computational platforms such as Hadoop map-reduce and Spark. The course will cover in-depth spark programming on a big data platform.\n",
    "\n",
    "## Assignment 01\n",
    "- 1) Create a new repo in your GitHub account (make sure that the repo is public so that the TA and I will be able to view it)\n",
    "\n",
    "- 2) Clone this repo to your local machine\n",
    "\n",
    "- 3) Use VSCode to create a new notebook; call it hello_world.ipynb. Add something to this notebook (know a good joke?)\n",
    "\n",
    "- 4) Add this new notebook to the staging area\n",
    "\n",
    "- 5) Commit this notebook - use the commit message that includes your name and that this is your first commit.\n",
    "\n",
    "- 6) Push (sync) your local repo to your GitHub repo\n",
    "\n",
    "- 7) Both your notebook and the URL to your repo \n",
    "\n"
   ]
  },
  {
   "cell_type": "code",
   "execution_count": 1,
   "metadata": {},
   "outputs": [
    {
     "name": "stdout",
     "output_type": "stream",
     "text": [
      "Hello World\n"
     ]
    }
   ],
   "source": [
    "print(\"Hello World\")"
   ]
  }
 ],
 "metadata": {
  "kernelspec": {
   "display_name": "Python 3",
   "language": "python",
   "name": "python3"
  },
  "language_info": {
   "codemirror_mode": {
    "name": "ipython",
    "version": 3
   },
   "file_extension": ".py",
   "mimetype": "text/x-python",
   "name": "python",
   "nbconvert_exporter": "python",
   "pygments_lexer": "ipython3",
   "version": "3.11.0"
  },
  "orig_nbformat": 4,
  "vscode": {
   "interpreter": {
    "hash": "b8fbae7f1d0e715b4c3a31ab80c530ee851d78c98eee71e9b46725062cb8d1bd"
   }
  }
 },
 "nbformat": 4,
 "nbformat_minor": 2
}
