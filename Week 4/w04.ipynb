{
 "cells": [
  {
   "cell_type": "markdown",
   "metadata": {},
   "source": []
  },
  {
   "cell_type": "markdown",
   "metadata": {},
   "source": [
    "# W04 Cassandra Python Tutorial"
   ]
  },
  {
   "attachments": {},
   "cell_type": "markdown",
   "metadata": {},
   "source": [
    "### Import packages"
   ]
  },
  {
   "cell_type": "code",
   "execution_count": 47,
   "metadata": {},
   "outputs": [],
   "source": [
    "import pandas as pd\n",
    "from cassandra.cluster import Cluster"
   ]
  },
  {
   "attachments": {},
   "cell_type": "markdown",
   "metadata": {},
   "source": [
    "### Load data"
   ]
  },
  {
   "cell_type": "code",
   "execution_count": 48,
   "metadata": {},
   "outputs": [
    {
     "data": {
      "text/html": [
       "<div>\n",
       "<style scoped>\n",
       "    .dataframe tbody tr th:only-of-type {\n",
       "        vertical-align: middle;\n",
       "    }\n",
       "\n",
       "    .dataframe tbody tr th {\n",
       "        vertical-align: top;\n",
       "    }\n",
       "\n",
       "    .dataframe thead th {\n",
       "        text-align: right;\n",
       "    }\n",
       "</style>\n",
       "<table border=\"1\" class=\"dataframe\">\n",
       "  <thead>\n",
       "    <tr style=\"text-align: right;\">\n",
       "      <th></th>\n",
       "      <th>student_id</th>\n",
       "      <th>f_name</th>\n",
       "      <th>l_name</th>\n",
       "      <th>email</th>\n",
       "      <th>gpa</th>\n",
       "    </tr>\n",
       "  </thead>\n",
       "  <tbody>\n",
       "    <tr>\n",
       "      <th>0</th>\n",
       "      <td>'00001'</td>\n",
       "      <td>'Tim'</td>\n",
       "      <td>'Smith'</td>\n",
       "      <td>'smith515@usf.edu'</td>\n",
       "      <td>4.0</td>\n",
       "    </tr>\n",
       "    <tr>\n",
       "      <th>1</th>\n",
       "      <td>'00002'</td>\n",
       "      <td>'John'</td>\n",
       "      <td>'Jones'</td>\n",
       "      <td>'jjones@somewhere.com'</td>\n",
       "      <td>3.0</td>\n",
       "    </tr>\n",
       "    <tr>\n",
       "      <th>2</th>\n",
       "      <td>'00003'</td>\n",
       "      <td>'Jane'</td>\n",
       "      <td>'Williams'</td>\n",
       "      <td>'jane@somewhere.com'</td>\n",
       "      <td>3.5</td>\n",
       "    </tr>\n",
       "    <tr>\n",
       "      <th>3</th>\n",
       "      <td>'00004'</td>\n",
       "      <td>'Betty'</td>\n",
       "      <td>'Johnson'</td>\n",
       "      <td>'bjohn@somewhere.com'</td>\n",
       "      <td>2.2</td>\n",
       "    </tr>\n",
       "    <tr>\n",
       "      <th>4</th>\n",
       "      <td>'00005'</td>\n",
       "      <td>'Jim'</td>\n",
       "      <td>'Bean'</td>\n",
       "      <td>'jbean@somewhere.com'</td>\n",
       "      <td>3.1</td>\n",
       "    </tr>\n",
       "    <tr>\n",
       "      <th>5</th>\n",
       "      <td>'00006'</td>\n",
       "      <td>'Frank'</td>\n",
       "      <td>'Gambali'</td>\n",
       "      <td>'frankg@somewhere.com'</td>\n",
       "      <td>2.7</td>\n",
       "    </tr>\n",
       "    <tr>\n",
       "      <th>6</th>\n",
       "      <td>'00007'</td>\n",
       "      <td>'Judy'</td>\n",
       "      <td>'Garland'</td>\n",
       "      <td>'judy@somewhere.com'</td>\n",
       "      <td>3.9</td>\n",
       "    </tr>\n",
       "  </tbody>\n",
       "</table>\n",
       "</div>"
      ],
      "text/plain": [
       "  student_id    f_name       l_name                    email   gpa\n",
       "0    '00001'     'Tim'      'Smith'       'smith515@usf.edu'   4.0\n",
       "1    '00002'    'John'      'Jones'   'jjones@somewhere.com'   3.0\n",
       "2    '00003'    'Jane'   'Williams'     'jane@somewhere.com'   3.5\n",
       "3    '00004'   'Betty'    'Johnson'    'bjohn@somewhere.com'   2.2\n",
       "4    '00005'     'Jim'       'Bean'    'jbean@somewhere.com'   3.1\n",
       "5    '00006'   'Frank'    'Gambali'   'frankg@somewhere.com'   2.7\n",
       "6    '00007'    'Judy'    'Garland'     'judy@somewhere.com'   3.9"
      ]
     },
     "execution_count": 48,
     "metadata": {},
     "output_type": "execute_result"
    }
   ],
   "source": [
    "df = pd.read_csv('./w04.csv')\n",
    "df"
   ]
  },
  {
   "attachments": {},
   "cell_type": "markdown",
   "metadata": {},
   "source": [
    "### Create a session connection to Cassandra cluster"
   ]
  },
  {
   "cell_type": "code",
   "execution_count": 49,
   "metadata": {},
   "outputs": [],
   "source": [
    "clstr = Cluster()\n",
    "session = clstr.connect()"
   ]
  },
  {
   "attachments": {},
   "cell_type": "markdown",
   "metadata": {},
   "source": [
    "### Use session to 'talk' to cassandra"
   ]
  },
  {
   "cell_type": "code",
   "execution_count": 50,
   "metadata": {},
   "outputs": [
    {
     "data": {
      "text/plain": [
       "<cassandra.cluster.ResultSet at 0x7fd75824b7f0>"
      ]
     },
     "execution_count": 50,
     "metadata": {},
     "output_type": "execute_result"
    }
   ],
   "source": [
    "session.execute(\"CREATE KEYSPACE IF NOT EXISTS w04python WITH REPLICATION = {'class':'SimpleStrategy', 'replication_factor':1}\")"
   ]
  },
  {
   "cell_type": "code",
   "execution_count": 51,
   "metadata": {},
   "outputs": [],
   "source": [
    "rows = session.execute(\"desc keyspaces\")"
   ]
  },
  {
   "cell_type": "code",
   "execution_count": 52,
   "metadata": {},
   "outputs": [
    {
     "name": "stdout",
     "output_type": "stream",
     "text": [
      "cassandratutorial\n",
      "system\n",
      "system_auth\n",
      "system_distributed\n",
      "system_schema\n",
      "system_traces\n",
      "system_views\n",
      "system_virtual_schema\n",
      "w04\n",
      "w04python\n"
     ]
    }
   ],
   "source": [
    "rows = session.execute(\"desc keyspaces\")\n",
    "for row in rows:\n",
    "    print(f\"{row[0]}\")"
   ]
  },
  {
   "cell_type": "code",
   "execution_count": 53,
   "metadata": {},
   "outputs": [
    {
     "data": {
      "text/plain": [
       "<cassandra.cluster.ResultSet at 0x7fd75825d090>"
      ]
     },
     "execution_count": 53,
     "metadata": {},
     "output_type": "execute_result"
    }
   ],
   "source": [
    "session.execute(\"\"\"\n",
    "CREATE TABLE IF NOT EXISTS w04python.student ( \n",
    "    student_id TEXT, \n",
    "    f_name TEXT, \n",
    "    l_name TEXT, \n",
    "    email TEXT, \n",
    "    gpa FLOAT, \n",
    "    PRIMARY KEY(student_id)\n",
    ");\n",
    "\"\"\")"
   ]
  },
  {
   "cell_type": "code",
   "execution_count": 54,
   "metadata": {},
   "outputs": [
    {
     "data": {
      "text/html": [
       "<div>\n",
       "<style scoped>\n",
       "    .dataframe tbody tr th:only-of-type {\n",
       "        vertical-align: middle;\n",
       "    }\n",
       "\n",
       "    .dataframe tbody tr th {\n",
       "        vertical-align: top;\n",
       "    }\n",
       "\n",
       "    .dataframe thead th {\n",
       "        text-align: right;\n",
       "    }\n",
       "</style>\n",
       "<table border=\"1\" class=\"dataframe\">\n",
       "  <thead>\n",
       "    <tr style=\"text-align: right;\">\n",
       "      <th></th>\n",
       "      <th>student_id</th>\n",
       "      <th>f_name</th>\n",
       "      <th>l_name</th>\n",
       "      <th>email</th>\n",
       "      <th>gpa</th>\n",
       "    </tr>\n",
       "  </thead>\n",
       "  <tbody>\n",
       "    <tr>\n",
       "      <th>0</th>\n",
       "      <td>'00001'</td>\n",
       "      <td>'Tim'</td>\n",
       "      <td>'Smith'</td>\n",
       "      <td>'smith515@usf.edu'</td>\n",
       "      <td>4.0</td>\n",
       "    </tr>\n",
       "    <tr>\n",
       "      <th>1</th>\n",
       "      <td>'00002'</td>\n",
       "      <td>'John'</td>\n",
       "      <td>'Jones'</td>\n",
       "      <td>'jjones@somewhere.com'</td>\n",
       "      <td>3.0</td>\n",
       "    </tr>\n",
       "    <tr>\n",
       "      <th>2</th>\n",
       "      <td>'00003'</td>\n",
       "      <td>'Jane'</td>\n",
       "      <td>'Williams'</td>\n",
       "      <td>'jane@somewhere.com'</td>\n",
       "      <td>3.5</td>\n",
       "    </tr>\n",
       "  </tbody>\n",
       "</table>\n",
       "</div>"
      ],
      "text/plain": [
       "  student_id   f_name       l_name                    email   gpa\n",
       "0    '00001'    'Tim'      'Smith'       'smith515@usf.edu'   4.0\n",
       "1    '00002'   'John'      'Jones'   'jjones@somewhere.com'   3.0\n",
       "2    '00003'   'Jane'   'Williams'     'jane@somewhere.com'   3.5"
      ]
     },
     "execution_count": 54,
     "metadata": {},
     "output_type": "execute_result"
    }
   ],
   "source": [
    "df.head(3)"
   ]
  },
  {
   "cell_type": "code",
   "execution_count": 55,
   "metadata": {},
   "outputs": [
    {
     "name": "stdout",
     "output_type": "stream",
     "text": [
      "student_id = '00001', f_name =  'Tim', l_name =  'Smith', email =  'smith515@usf.edu', gpa = 4.0\n",
      "student_id = '00002', f_name =  'John', l_name =  'Jones', email =  'jjones@somewhere.com', gpa = 3.0\n",
      "student_id = '00003', f_name =  'Jane', l_name =  'Williams', email =  'jane@somewhere.com', gpa = 3.5\n",
      "student_id = '00004', f_name =  'Betty', l_name =  'Johnson', email =  'bjohn@somewhere.com', gpa = 2.2\n",
      "student_id = '00005', f_name =  'Jim', l_name =  'Bean', email =  'jbean@somewhere.com', gpa = 3.1\n",
      "student_id = '00006', f_name =  'Frank', l_name =  'Gambali', email =  'frankg@somewhere.com', gpa = 2.7\n",
      "student_id = '00007', f_name =  'Judy', l_name =  'Garland', email =  'judy@somewhere.com', gpa = 3.9\n"
     ]
    }
   ],
   "source": [
    "for index, row in df.iterrows():\n",
    "    print(f\"student_id = {row[0]}, f_name = {row[1]}, l_name = {row[2]}, email = {row[3]}, gpa = {row[4]}\")"
   ]
  },
  {
   "cell_type": "code",
   "execution_count": 56,
   "metadata": {},
   "outputs": [],
   "source": [
    "for index, row in df.iterrows():\n",
    "    session.execute(f\"\"\"\n",
    "        INSERT INTO w04python.student (student_id, f_name, l_name, email, gpa)     \n",
    "        VALUES ({row[0]}, {row[1]}, {row[2]}, {row[3]}, {row[4]});\n",
    "        \"\"\"\n",
    "       )\n",
    "\n"
   ]
  },
  {
   "cell_type": "code",
   "execution_count": 61,
   "metadata": {},
   "outputs": [
    {
     "name": "stdout",
     "output_type": "stream",
     "text": [
      "student_id=00004, f_name=Betty, l_name=Johnson, email=bjohn@somewhere.com, gpa=2.200000047683716\n",
      "student_id=00006, f_name=Frank, l_name=Gambali, email=frankg@somewhere.com, gpa=2.700000047683716\n",
      "student_id=00002, f_name=John, l_name=Jones, email=jjones@somewhere.com, gpa=3.0\n",
      "student_id=00007, f_name=Judy, l_name=Garland, email=judy@somewhere.com, gpa=3.9000000953674316\n",
      "student_id=00001, f_name=Tim, l_name=Smith, email=smith515@usf.edu, gpa=4.0\n",
      "student_id=00003, f_name=Jane, l_name=Williams, email=jane@somewhere.com, gpa=3.5\n",
      "student_id=00005, f_name=Jim, l_name=Bean, email=jbean@somewhere.com, gpa=3.0999999046325684\n"
     ]
    }
   ],
   "source": [
    "rows = session.execute(\"select (student_id, f_name, l_name, email, gpa) from w04python.student\")\n",
    "for row in rows:\n",
    "    print(f\"student_id={row[0][0]}, f_name={row[0][1]}, l_name={row[0][2]}, email={row[0][3]}, gpa={row[0][4]}\")\n"
   ]
  },
  {
   "cell_type": "code",
   "execution_count": 63,
   "metadata": {},
   "outputs": [
    {
     "name": "stdout",
     "output_type": "stream",
     "text": [
      "student_id=00007, f_name=Judy, l_name=Garland, email=judy@somewhere.com, gpa=3.9000000953674316\n",
      "student_id=00001, f_name=Tim, l_name=Smith, email=smith515@usf.edu, gpa=4.0\n"
     ]
    }
   ],
   "source": [
    "rows = session.execute(\"select (student_id, f_name, l_name, email, gpa) from w04python.student where gpa > 3.7 ALLOW FILTERING\")\n",
    "for row in rows:\n",
    "    print(f\"student_id={row[0][0]}, f_name={row[0][1]}, l_name={row[0][2]}, email={row[0][3]}, gpa={row[0][4]}\")"
   ]
  },
  {
   "attachments": {},
   "cell_type": "markdown",
   "metadata": {},
   "source": [
    "## Challenge\n",
    "\n",
    "Let's say we want to split students into honors, good, at_risk, and failing (honors is for students >= 3.7, good is >=3, at_risk >= 2.5, and failing < 2.5)\n",
    "\n",
    "Can you come up with a way to search for students belonging to one of these categories? WITHOUT ALLOW FILTERING?\n"
   ]
  }
 ],
 "metadata": {
  "kernelspec": {
   "display_name": "base",
   "language": "python",
   "name": "python3"
  },
  "language_info": {
   "codemirror_mode": {
    "name": "ipython",
    "version": 3
   },
   "file_extension": ".py",
   "mimetype": "text/x-python",
   "name": "python",
   "nbconvert_exporter": "python",
   "pygments_lexer": "ipython3",
   "version": "3.10.8"
  },
  "orig_nbformat": 4,
  "vscode": {
   "interpreter": {
    "hash": "c774f5f42cb3e70515ef7cb909d9051370cc09a28b296d74902002ebc2249cb4"
   }
  }
 },
 "nbformat": 4,
 "nbformat_minor": 2
}
