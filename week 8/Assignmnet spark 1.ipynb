{
 "cells": [
  {
   "attachments": {},
   "cell_type": "markdown",
   "id": "33d6c4bd",
   "metadata": {},
   "source": [
    "ISM6562.002S23\n",
    "\n",
    "Team: APEX\n",
    "\n",
    "Team mebers: Aswith Reddy Kovvuri, Muralidhar Reddy Reddem, Sindhura Alla\n"
   ]
  },
  {
   "attachments": {},
   "cell_type": "markdown",
   "id": "183f42f3",
   "metadata": {},
   "source": [
    "##### About the Dataset:\n",
    "\n",
    "We have chosen one of the most happening cities, New York, for our analysis. The dataset includes 32,500 properties  which are listed in the Airbnb website.\n",
    "\n",
    "Listings, including full descriptions,Host details,Availabilty,Beds ,Bathroom count,Property type, review scores, Reviews, including unique id for each listing the price and availability for that day,\n",
    "\n",
    "About the Source:\n",
    "Airbnb, Inc is an American company that operates an online marketplace for lodging, primarily homestays for vacation rentals, and tourism activities. Based in San Francisco, California, the platform is accessible via website and mobile app. Airbnb does not own any of the listed properties; instead, it profits by receiving commission from each booking. The company was founded in 2008. Airbnb is a shortened version of its original name, AirBedandBreakfast.com.\n",
    "Inside Airbnb is a mission driven project that provides data and advocacy about Airbnb's impact on residential communities, where data and information empower communities to understand, decide and control the role of renting residential homes to tourists.\n",
    "\n",
    "Collaborators\n",
    "Inside Airbnb relies on the kind contribution of a variety of collaborators and partners.\n",
    "* Murray Cox.,\n",
    "* Taylor Higgins. \n",
    "* Alice Corona.\n",
    "* Luca Lamonaca. \n",
    "* Michael \"Ziggy\" Mintz. \n",
    "\n",
    "Technology\n",
    "The site uses the following Open Source technologies:- \n",
    "D3, Bootstrap, Python, PostgreSQL and Google Fonts.\n",
    "Maps are designed in Mapbox with OpenStreetMap data and hosted via Mapbox.\n",
    "The site is served by an Amazon S3 \"bucket\"."
   ]
  },
  {
   "attachments": {},
   "cell_type": "markdown",
   "id": "1ec84f43",
   "metadata": {},
   "source": [
    "##### Importing the Required poackages"
   ]
  },
  {
   "cell_type": "code",
   "execution_count": 1,
   "id": "b0700f58",
   "metadata": {},
   "outputs": [],
   "source": [
    "import pandas as pd"
   ]
  },
  {
   "attachments": {},
   "cell_type": "markdown",
   "id": "c606e37d",
   "metadata": {},
   "source": [
    "##### Reading the data directly from the source"
   ]
  },
  {
   "cell_type": "code",
   "execution_count": 2,
   "id": "1b3d0b8f",
   "metadata": {},
   "outputs": [
    {
     "data": {
      "text/html": [
       "<div>\n",
       "<style scoped>\n",
       "    .dataframe tbody tr th:only-of-type {\n",
       "        vertical-align: middle;\n",
       "    }\n",
       "\n",
       "    .dataframe tbody tr th {\n",
       "        vertical-align: top;\n",
       "    }\n",
       "\n",
       "    .dataframe thead th {\n",
       "        text-align: right;\n",
       "    }\n",
       "</style>\n",
       "<table border=\"1\" class=\"dataframe\">\n",
       "  <thead>\n",
       "    <tr style=\"text-align: right;\">\n",
       "      <th></th>\n",
       "      <th>id</th>\n",
       "      <th>listing_url</th>\n",
       "      <th>scrape_id</th>\n",
       "      <th>last_scraped</th>\n",
       "      <th>source</th>\n",
       "      <th>name</th>\n",
       "      <th>description</th>\n",
       "      <th>neighborhood_overview</th>\n",
       "      <th>picture_url</th>\n",
       "      <th>host_id</th>\n",
       "      <th>...</th>\n",
       "      <th>review_scores_communication</th>\n",
       "      <th>review_scores_location</th>\n",
       "      <th>review_scores_value</th>\n",
       "      <th>license</th>\n",
       "      <th>instant_bookable</th>\n",
       "      <th>calculated_host_listings_count</th>\n",
       "      <th>calculated_host_listings_count_entire_homes</th>\n",
       "      <th>calculated_host_listings_count_private_rooms</th>\n",
       "      <th>calculated_host_listings_count_shared_rooms</th>\n",
       "      <th>reviews_per_month</th>\n",
       "    </tr>\n",
       "  </thead>\n",
       "  <tbody>\n",
       "    <tr>\n",
       "      <th>0</th>\n",
       "      <td>801749842377802394</td>\n",
       "      <td>https://www.airbnb.com/rooms/801749842377802394</td>\n",
       "      <td>20230306014634</td>\n",
       "      <td>2023-03-06</td>\n",
       "      <td>city scrape</td>\n",
       "      <td>A home away from home</td>\n",
       "      <td>The whole group will be comfortable in this sp...</td>\n",
       "      <td>NaN</td>\n",
       "      <td>https://a0.muscache.com/pictures/miso/Hosting-...</td>\n",
       "      <td>495455523</td>\n",
       "      <td>...</td>\n",
       "      <td>NaN</td>\n",
       "      <td>NaN</td>\n",
       "      <td>NaN</td>\n",
       "      <td>NaN</td>\n",
       "      <td>f</td>\n",
       "      <td>1</td>\n",
       "      <td>0</td>\n",
       "      <td>1</td>\n",
       "      <td>0</td>\n",
       "      <td>NaN</td>\n",
       "    </tr>\n",
       "    <tr>\n",
       "      <th>1</th>\n",
       "      <td>765948794133787266</td>\n",
       "      <td>https://www.airbnb.com/rooms/765948794133787266</td>\n",
       "      <td>20230306014634</td>\n",
       "      <td>2023-03-06</td>\n",
       "      <td>city scrape</td>\n",
       "      <td>Brooklyn Refuge</td>\n",
       "      <td>Take a break and unwind at this peaceful oasis.</td>\n",
       "      <td>NaN</td>\n",
       "      <td>https://a0.muscache.com/pictures/miso/Hosting-...</td>\n",
       "      <td>488760226</td>\n",
       "      <td>...</td>\n",
       "      <td>4.92</td>\n",
       "      <td>4.85</td>\n",
       "      <td>4.92</td>\n",
       "      <td>NaN</td>\n",
       "      <td>t</td>\n",
       "      <td>2</td>\n",
       "      <td>1</td>\n",
       "      <td>1</td>\n",
       "      <td>0</td>\n",
       "      <td>4.29</td>\n",
       "    </tr>\n",
       "    <tr>\n",
       "      <th>2</th>\n",
       "      <td>636274456676328779</td>\n",
       "      <td>https://www.airbnb.com/rooms/636274456676328779</td>\n",
       "      <td>20230306014634</td>\n",
       "      <td>2023-03-06</td>\n",
       "      <td>city scrape</td>\n",
       "      <td>Villa Masino.</td>\n",
       "      <td>Close to beach   Peaceful walk to park &amp; beach...</td>\n",
       "      <td>NaN</td>\n",
       "      <td>https://a0.muscache.com/pictures/miso/Hosting-...</td>\n",
       "      <td>461263600</td>\n",
       "      <td>...</td>\n",
       "      <td>NaN</td>\n",
       "      <td>NaN</td>\n",
       "      <td>NaN</td>\n",
       "      <td>NaN</td>\n",
       "      <td>f</td>\n",
       "      <td>1</td>\n",
       "      <td>1</td>\n",
       "      <td>0</td>\n",
       "      <td>0</td>\n",
       "      <td>NaN</td>\n",
       "    </tr>\n",
       "    <tr>\n",
       "      <th>3</th>\n",
       "      <td>768125251187660469</td>\n",
       "      <td>https://www.airbnb.com/rooms/768125251187660469</td>\n",
       "      <td>20230306014634</td>\n",
       "      <td>2023-03-06</td>\n",
       "      <td>city scrape</td>\n",
       "      <td>1-Bedroom Private Room with King Size Bed</td>\n",
       "      <td>Private room with king size bedroom near Sheep...</td>\n",
       "      <td>NaN</td>\n",
       "      <td>https://a0.muscache.com/pictures/miso/Hosting-...</td>\n",
       "      <td>475699129</td>\n",
       "      <td>...</td>\n",
       "      <td>5.00</td>\n",
       "      <td>5.00</td>\n",
       "      <td>5.00</td>\n",
       "      <td>NaN</td>\n",
       "      <td>t</td>\n",
       "      <td>7</td>\n",
       "      <td>0</td>\n",
       "      <td>7</td>\n",
       "      <td>0</td>\n",
       "      <td>5.17</td>\n",
       "    </tr>\n",
       "    <tr>\n",
       "      <th>4</th>\n",
       "      <td>49248255</td>\n",
       "      <td>https://www.airbnb.com/rooms/49248255</td>\n",
       "      <td>20230306014634</td>\n",
       "      <td>2023-03-06</td>\n",
       "      <td>city scrape</td>\n",
       "      <td>Get the best of both worlds in Riverdale!</td>\n",
       "      <td>Welcome to the greatest location if you desire...</td>\n",
       "      <td>You will find within walking distance the Metr...</td>\n",
       "      <td>https://a0.muscache.com/pictures/e8e13cf7-44e9...</td>\n",
       "      <td>397288055</td>\n",
       "      <td>...</td>\n",
       "      <td>4.88</td>\n",
       "      <td>4.72</td>\n",
       "      <td>4.64</td>\n",
       "      <td>NaN</td>\n",
       "      <td>f</td>\n",
       "      <td>1</td>\n",
       "      <td>1</td>\n",
       "      <td>0</td>\n",
       "      <td>0</td>\n",
       "      <td>1.11</td>\n",
       "    </tr>\n",
       "  </tbody>\n",
       "</table>\n",
       "<p>5 rows × 75 columns</p>\n",
       "</div>"
      ],
      "text/plain": [
       "                   id                                      listing_url  \\\n",
       "0  801749842377802394  https://www.airbnb.com/rooms/801749842377802394   \n",
       "1  765948794133787266  https://www.airbnb.com/rooms/765948794133787266   \n",
       "2  636274456676328779  https://www.airbnb.com/rooms/636274456676328779   \n",
       "3  768125251187660469  https://www.airbnb.com/rooms/768125251187660469   \n",
       "4            49248255            https://www.airbnb.com/rooms/49248255   \n",
       "\n",
       "        scrape_id last_scraped       source  \\\n",
       "0  20230306014634   2023-03-06  city scrape   \n",
       "1  20230306014634   2023-03-06  city scrape   \n",
       "2  20230306014634   2023-03-06  city scrape   \n",
       "3  20230306014634   2023-03-06  city scrape   \n",
       "4  20230306014634   2023-03-06  city scrape   \n",
       "\n",
       "                                        name  \\\n",
       "0                      A home away from home   \n",
       "1                            Brooklyn Refuge   \n",
       "2                              Villa Masino.   \n",
       "3  1-Bedroom Private Room with King Size Bed   \n",
       "4  Get the best of both worlds in Riverdale!   \n",
       "\n",
       "                                         description  \\\n",
       "0  The whole group will be comfortable in this sp...   \n",
       "1    Take a break and unwind at this peaceful oasis.   \n",
       "2  Close to beach   Peaceful walk to park & beach...   \n",
       "3  Private room with king size bedroom near Sheep...   \n",
       "4  Welcome to the greatest location if you desire...   \n",
       "\n",
       "                               neighborhood_overview  \\\n",
       "0                                                NaN   \n",
       "1                                                NaN   \n",
       "2                                                NaN   \n",
       "3                                                NaN   \n",
       "4  You will find within walking distance the Metr...   \n",
       "\n",
       "                                         picture_url    host_id  ...  \\\n",
       "0  https://a0.muscache.com/pictures/miso/Hosting-...  495455523  ...   \n",
       "1  https://a0.muscache.com/pictures/miso/Hosting-...  488760226  ...   \n",
       "2  https://a0.muscache.com/pictures/miso/Hosting-...  461263600  ...   \n",
       "3  https://a0.muscache.com/pictures/miso/Hosting-...  475699129  ...   \n",
       "4  https://a0.muscache.com/pictures/e8e13cf7-44e9...  397288055  ...   \n",
       "\n",
       "  review_scores_communication review_scores_location review_scores_value  \\\n",
       "0                         NaN                    NaN                 NaN   \n",
       "1                        4.92                   4.85                4.92   \n",
       "2                         NaN                    NaN                 NaN   \n",
       "3                        5.00                   5.00                5.00   \n",
       "4                        4.88                   4.72                4.64   \n",
       "\n",
       "  license instant_bookable calculated_host_listings_count  \\\n",
       "0     NaN                f                              1   \n",
       "1     NaN                t                              2   \n",
       "2     NaN                f                              1   \n",
       "3     NaN                t                              7   \n",
       "4     NaN                f                              1   \n",
       "\n",
       "  calculated_host_listings_count_entire_homes  \\\n",
       "0                                           0   \n",
       "1                                           1   \n",
       "2                                           1   \n",
       "3                                           0   \n",
       "4                                           1   \n",
       "\n",
       "  calculated_host_listings_count_private_rooms  \\\n",
       "0                                            1   \n",
       "1                                            1   \n",
       "2                                            0   \n",
       "3                                            7   \n",
       "4                                            0   \n",
       "\n",
       "  calculated_host_listings_count_shared_rooms reviews_per_month  \n",
       "0                                           0               NaN  \n",
       "1                                           0              4.29  \n",
       "2                                           0               NaN  \n",
       "3                                           0              5.17  \n",
       "4                                           0              1.11  \n",
       "\n",
       "[5 rows x 75 columns]"
      ]
     },
     "execution_count": 2,
     "metadata": {},
     "output_type": "execute_result"
    }
   ],
   "source": [
    "data_df = pd.read_csv('http://data.insideairbnb.com/united-states/ny/new-york-city/2023-03-06/data/listings.csv.gz', low_memory=False)\n",
    "data_df.head()"
   ]
  },
  {
   "attachments": {},
   "cell_type": "markdown",
   "id": "bff2b003",
   "metadata": {},
   "source": [
    "#### Removing redundant columns:"
   ]
  },
  {
   "cell_type": "code",
   "execution_count": 3,
   "id": "a1399731",
   "metadata": {},
   "outputs": [],
   "source": [
    "\n",
    "cols_to_delete = ['listing_url', 'scrape_id', 'last_scraped', 'source', 'neighborhood_overview', 'host_location', \n",
    "                  'host_about', 'picture_url','host_url','host_since','host_thumbnail_url', 'host_picture_url', \n",
    "                  'host_neighbourhood', 'host_listings_count', 'host_verifications', 'host_has_profile_pic', \n",
    "                  'neighbourhood', 'latitude', 'longitude', 'bathrooms', 'amenities', 'minimum_minimum_nights',\n",
    "                  'maximum_minimum_nights', 'minimum_maximum_nights', 'maximum_maximum_nights', \n",
    "                  'minimum_nights_avg_ntm', 'maximum_nights_avg_ntm', 'calendar_updated', 'calendar_last_scraped', \n",
    "                  'number_of_reviews_ltm', 'number_of_reviews_l30d', 'first_review', 'last_review', 'license', \n",
    "                  'calculated_host_listings_count', 'calculated_host_listings_count_entire_homes', \n",
    "                  'calculated_host_listings_count_private_rooms', 'calculated_host_listings_count_shared_rooms', \n",
    "                  'host_response_time', 'host_response_rate', 'host_acceptance_rate']"
   ]
  },
  {
   "cell_type": "code",
   "execution_count": 4,
   "id": "b495841f",
   "metadata": {},
   "outputs": [
    {
     "data": {
      "text/html": [
       "<div>\n",
       "<style scoped>\n",
       "    .dataframe tbody tr th:only-of-type {\n",
       "        vertical-align: middle;\n",
       "    }\n",
       "\n",
       "    .dataframe tbody tr th {\n",
       "        vertical-align: top;\n",
       "    }\n",
       "\n",
       "    .dataframe thead th {\n",
       "        text-align: right;\n",
       "    }\n",
       "</style>\n",
       "<table border=\"1\" class=\"dataframe\">\n",
       "  <thead>\n",
       "    <tr style=\"text-align: right;\">\n",
       "      <th></th>\n",
       "      <th>id</th>\n",
       "      <th>name</th>\n",
       "      <th>description</th>\n",
       "      <th>host_id</th>\n",
       "      <th>host_name</th>\n",
       "      <th>host_is_superhost</th>\n",
       "      <th>host_total_listings_count</th>\n",
       "      <th>host_identity_verified</th>\n",
       "      <th>neighbourhood_cleansed</th>\n",
       "      <th>neighbourhood_group_cleansed</th>\n",
       "      <th>...</th>\n",
       "      <th>number_of_reviews</th>\n",
       "      <th>review_scores_rating</th>\n",
       "      <th>review_scores_accuracy</th>\n",
       "      <th>review_scores_cleanliness</th>\n",
       "      <th>review_scores_checkin</th>\n",
       "      <th>review_scores_communication</th>\n",
       "      <th>review_scores_location</th>\n",
       "      <th>review_scores_value</th>\n",
       "      <th>instant_bookable</th>\n",
       "      <th>reviews_per_month</th>\n",
       "    </tr>\n",
       "  </thead>\n",
       "  <tbody>\n",
       "    <tr>\n",
       "      <th>0</th>\n",
       "      <td>801749842377802394</td>\n",
       "      <td>A home away from home</td>\n",
       "      <td>The whole group will be comfortable in this sp...</td>\n",
       "      <td>495455523</td>\n",
       "      <td>Michael</td>\n",
       "      <td>f</td>\n",
       "      <td>1.0</td>\n",
       "      <td>f</td>\n",
       "      <td>Canarsie</td>\n",
       "      <td>Brooklyn</td>\n",
       "      <td>...</td>\n",
       "      <td>0</td>\n",
       "      <td>NaN</td>\n",
       "      <td>NaN</td>\n",
       "      <td>NaN</td>\n",
       "      <td>NaN</td>\n",
       "      <td>NaN</td>\n",
       "      <td>NaN</td>\n",
       "      <td>NaN</td>\n",
       "      <td>f</td>\n",
       "      <td>NaN</td>\n",
       "    </tr>\n",
       "    <tr>\n",
       "      <th>1</th>\n",
       "      <td>765948794133787266</td>\n",
       "      <td>Brooklyn Refuge</td>\n",
       "      <td>Take a break and unwind at this peaceful oasis.</td>\n",
       "      <td>488760226</td>\n",
       "      <td>Eric</td>\n",
       "      <td>f</td>\n",
       "      <td>5.0</td>\n",
       "      <td>t</td>\n",
       "      <td>Canarsie</td>\n",
       "      <td>Brooklyn</td>\n",
       "      <td>...</td>\n",
       "      <td>13</td>\n",
       "      <td>4.85</td>\n",
       "      <td>4.77</td>\n",
       "      <td>4.77</td>\n",
       "      <td>4.85</td>\n",
       "      <td>4.92</td>\n",
       "      <td>4.85</td>\n",
       "      <td>4.92</td>\n",
       "      <td>t</td>\n",
       "      <td>4.29</td>\n",
       "    </tr>\n",
       "    <tr>\n",
       "      <th>2</th>\n",
       "      <td>636274456676328779</td>\n",
       "      <td>Villa Masino.</td>\n",
       "      <td>Close to beach   Peaceful walk to park &amp; beach...</td>\n",
       "      <td>461263600</td>\n",
       "      <td>Tommaso</td>\n",
       "      <td>f</td>\n",
       "      <td>1.0</td>\n",
       "      <td>f</td>\n",
       "      <td>Tottenville</td>\n",
       "      <td>Staten Island</td>\n",
       "      <td>...</td>\n",
       "      <td>0</td>\n",
       "      <td>NaN</td>\n",
       "      <td>NaN</td>\n",
       "      <td>NaN</td>\n",
       "      <td>NaN</td>\n",
       "      <td>NaN</td>\n",
       "      <td>NaN</td>\n",
       "      <td>NaN</td>\n",
       "      <td>f</td>\n",
       "      <td>NaN</td>\n",
       "    </tr>\n",
       "    <tr>\n",
       "      <th>3</th>\n",
       "      <td>768125251187660469</td>\n",
       "      <td>1-Bedroom Private Room with King Size Bed</td>\n",
       "      <td>Private room with king size bedroom near Sheep...</td>\n",
       "      <td>475699129</td>\n",
       "      <td>Suliman</td>\n",
       "      <td>t</td>\n",
       "      <td>7.0</td>\n",
       "      <td>t</td>\n",
       "      <td>Sheepshead Bay</td>\n",
       "      <td>Brooklyn</td>\n",
       "      <td>...</td>\n",
       "      <td>15</td>\n",
       "      <td>5.00</td>\n",
       "      <td>5.00</td>\n",
       "      <td>4.87</td>\n",
       "      <td>5.00</td>\n",
       "      <td>5.00</td>\n",
       "      <td>5.00</td>\n",
       "      <td>5.00</td>\n",
       "      <td>t</td>\n",
       "      <td>5.17</td>\n",
       "    </tr>\n",
       "    <tr>\n",
       "      <th>4</th>\n",
       "      <td>49248255</td>\n",
       "      <td>Get the best of both worlds in Riverdale!</td>\n",
       "      <td>Welcome to the greatest location if you desire...</td>\n",
       "      <td>397288055</td>\n",
       "      <td>Katherine</td>\n",
       "      <td>f</td>\n",
       "      <td>2.0</td>\n",
       "      <td>t</td>\n",
       "      <td>North Riverdale</td>\n",
       "      <td>Bronx</td>\n",
       "      <td>...</td>\n",
       "      <td>25</td>\n",
       "      <td>4.48</td>\n",
       "      <td>4.56</td>\n",
       "      <td>4.44</td>\n",
       "      <td>4.72</td>\n",
       "      <td>4.88</td>\n",
       "      <td>4.72</td>\n",
       "      <td>4.64</td>\n",
       "      <td>f</td>\n",
       "      <td>1.11</td>\n",
       "    </tr>\n",
       "  </tbody>\n",
       "</table>\n",
       "<p>5 rows × 34 columns</p>\n",
       "</div>"
      ],
      "text/plain": [
       "                   id                                       name  \\\n",
       "0  801749842377802394                      A home away from home   \n",
       "1  765948794133787266                            Brooklyn Refuge   \n",
       "2  636274456676328779                              Villa Masino.   \n",
       "3  768125251187660469  1-Bedroom Private Room with King Size Bed   \n",
       "4            49248255  Get the best of both worlds in Riverdale!   \n",
       "\n",
       "                                         description    host_id  host_name  \\\n",
       "0  The whole group will be comfortable in this sp...  495455523    Michael   \n",
       "1    Take a break and unwind at this peaceful oasis.  488760226       Eric   \n",
       "2  Close to beach   Peaceful walk to park & beach...  461263600    Tommaso   \n",
       "3  Private room with king size bedroom near Sheep...  475699129    Suliman   \n",
       "4  Welcome to the greatest location if you desire...  397288055  Katherine   \n",
       "\n",
       "  host_is_superhost  host_total_listings_count host_identity_verified  \\\n",
       "0                 f                        1.0                      f   \n",
       "1                 f                        5.0                      t   \n",
       "2                 f                        1.0                      f   \n",
       "3                 t                        7.0                      t   \n",
       "4                 f                        2.0                      t   \n",
       "\n",
       "  neighbourhood_cleansed neighbourhood_group_cleansed  ... number_of_reviews  \\\n",
       "0               Canarsie                     Brooklyn  ...                 0   \n",
       "1               Canarsie                     Brooklyn  ...                13   \n",
       "2            Tottenville                Staten Island  ...                 0   \n",
       "3         Sheepshead Bay                     Brooklyn  ...                15   \n",
       "4        North Riverdale                        Bronx  ...                25   \n",
       "\n",
       "  review_scores_rating  review_scores_accuracy review_scores_cleanliness  \\\n",
       "0                  NaN                     NaN                       NaN   \n",
       "1                 4.85                    4.77                      4.77   \n",
       "2                  NaN                     NaN                       NaN   \n",
       "3                 5.00                    5.00                      4.87   \n",
       "4                 4.48                    4.56                      4.44   \n",
       "\n",
       "   review_scores_checkin  review_scores_communication review_scores_location  \\\n",
       "0                    NaN                          NaN                    NaN   \n",
       "1                   4.85                         4.92                   4.85   \n",
       "2                    NaN                          NaN                    NaN   \n",
       "3                   5.00                         5.00                   5.00   \n",
       "4                   4.72                         4.88                   4.72   \n",
       "\n",
       "   review_scores_value  instant_bookable reviews_per_month  \n",
       "0                  NaN                 f               NaN  \n",
       "1                 4.92                 t              4.29  \n",
       "2                  NaN                 f               NaN  \n",
       "3                 5.00                 t              5.17  \n",
       "4                 4.64                 f              1.11  \n",
       "\n",
       "[5 rows x 34 columns]"
      ]
     },
     "execution_count": 4,
     "metadata": {},
     "output_type": "execute_result"
    }
   ],
   "source": [
    "data_df = data_df.drop(cols_to_delete, axis=1)\n",
    "data_df.head()"
   ]
  },
  {
   "attachments": {},
   "cell_type": "markdown",
   "id": "3399cd25",
   "metadata": {},
   "source": [
    "#### Renaming the columns"
   ]
  },
  {
   "cell_type": "code",
   "execution_count": 5,
   "id": "9fa5d3fa",
   "metadata": {},
   "outputs": [
    {
     "name": "stdout",
     "output_type": "stream",
     "text": [
      "Index(['id', 'name', 'description', 'host_id', 'host_name',\n",
      "       'host_is_superhost', 'host_total_listings_count',\n",
      "       'host_identity_verified', 'neighbourhood_cleansed',\n",
      "       'neighbourhood_group_cleansed', 'property_type', 'room_type',\n",
      "       'accommodates', 'bathrooms_text', 'bedrooms', 'beds', 'price',\n",
      "       'minimum_nights', 'maximum_nights', 'has_availability',\n",
      "       'availability_30', 'availability_60', 'availability_90',\n",
      "       'availability_365', 'number_of_reviews', 'review_scores_rating',\n",
      "       'review_scores_accuracy', 'review_scores_cleanliness',\n",
      "       'review_scores_checkin', 'review_scores_communication',\n",
      "       'review_scores_location', 'review_scores_value', 'instant_bookable',\n",
      "       'reviews_per_month'],\n",
      "      dtype='object')\n",
      "Index(['id', 'name', 'description', 'host_id', 'host_name',\n",
      "       'host_is_superhost', 'host_total_listings_count',\n",
      "       'host_identity_verified', 'neighbourhood', 'neighbourhood_group',\n",
      "       'property_type', 'room_type', 'accommodates', 'bathrooms', 'bedrooms',\n",
      "       'beds', 'price', 'minimum_nights', 'maximum_nights', 'has_availability',\n",
      "       'availability_30', 'availability_60', 'availability_90',\n",
      "       'availability_365', 'number_of_reviews', 'review_scores_rating',\n",
      "       'review_scores_accuracy', 'review_scores_cleanliness',\n",
      "       'review_scores_checkin', 'review_scores_communication',\n",
      "       'review_scores_location', 'review_scores_value', 'instant_bookable',\n",
      "       'reviews_per_month'],\n",
      "      dtype='object')\n"
     ]
    },
    {
     "data": {
      "text/html": [
       "<div>\n",
       "<style scoped>\n",
       "    .dataframe tbody tr th:only-of-type {\n",
       "        vertical-align: middle;\n",
       "    }\n",
       "\n",
       "    .dataframe tbody tr th {\n",
       "        vertical-align: top;\n",
       "    }\n",
       "\n",
       "    .dataframe thead th {\n",
       "        text-align: right;\n",
       "    }\n",
       "</style>\n",
       "<table border=\"1\" class=\"dataframe\">\n",
       "  <thead>\n",
       "    <tr style=\"text-align: right;\">\n",
       "      <th></th>\n",
       "      <th>id</th>\n",
       "      <th>name</th>\n",
       "      <th>description</th>\n",
       "      <th>host_id</th>\n",
       "      <th>host_name</th>\n",
       "      <th>host_is_superhost</th>\n",
       "      <th>host_total_listings_count</th>\n",
       "      <th>host_identity_verified</th>\n",
       "      <th>neighbourhood</th>\n",
       "      <th>neighbourhood_group</th>\n",
       "      <th>...</th>\n",
       "      <th>number_of_reviews</th>\n",
       "      <th>review_scores_rating</th>\n",
       "      <th>review_scores_accuracy</th>\n",
       "      <th>review_scores_cleanliness</th>\n",
       "      <th>review_scores_checkin</th>\n",
       "      <th>review_scores_communication</th>\n",
       "      <th>review_scores_location</th>\n",
       "      <th>review_scores_value</th>\n",
       "      <th>instant_bookable</th>\n",
       "      <th>reviews_per_month</th>\n",
       "    </tr>\n",
       "  </thead>\n",
       "  <tbody>\n",
       "    <tr>\n",
       "      <th>0</th>\n",
       "      <td>801749842377802394</td>\n",
       "      <td>A home away from home</td>\n",
       "      <td>The whole group will be comfortable in this sp...</td>\n",
       "      <td>495455523</td>\n",
       "      <td>Michael</td>\n",
       "      <td>f</td>\n",
       "      <td>1.0</td>\n",
       "      <td>f</td>\n",
       "      <td>Canarsie</td>\n",
       "      <td>Brooklyn</td>\n",
       "      <td>...</td>\n",
       "      <td>0</td>\n",
       "      <td>NaN</td>\n",
       "      <td>NaN</td>\n",
       "      <td>NaN</td>\n",
       "      <td>NaN</td>\n",
       "      <td>NaN</td>\n",
       "      <td>NaN</td>\n",
       "      <td>NaN</td>\n",
       "      <td>f</td>\n",
       "      <td>NaN</td>\n",
       "    </tr>\n",
       "    <tr>\n",
       "      <th>1</th>\n",
       "      <td>765948794133787266</td>\n",
       "      <td>Brooklyn Refuge</td>\n",
       "      <td>Take a break and unwind at this peaceful oasis.</td>\n",
       "      <td>488760226</td>\n",
       "      <td>Eric</td>\n",
       "      <td>f</td>\n",
       "      <td>5.0</td>\n",
       "      <td>t</td>\n",
       "      <td>Canarsie</td>\n",
       "      <td>Brooklyn</td>\n",
       "      <td>...</td>\n",
       "      <td>13</td>\n",
       "      <td>4.85</td>\n",
       "      <td>4.77</td>\n",
       "      <td>4.77</td>\n",
       "      <td>4.85</td>\n",
       "      <td>4.92</td>\n",
       "      <td>4.85</td>\n",
       "      <td>4.92</td>\n",
       "      <td>t</td>\n",
       "      <td>4.29</td>\n",
       "    </tr>\n",
       "    <tr>\n",
       "      <th>2</th>\n",
       "      <td>636274456676328779</td>\n",
       "      <td>Villa Masino.</td>\n",
       "      <td>Close to beach   Peaceful walk to park &amp; beach...</td>\n",
       "      <td>461263600</td>\n",
       "      <td>Tommaso</td>\n",
       "      <td>f</td>\n",
       "      <td>1.0</td>\n",
       "      <td>f</td>\n",
       "      <td>Tottenville</td>\n",
       "      <td>Staten Island</td>\n",
       "      <td>...</td>\n",
       "      <td>0</td>\n",
       "      <td>NaN</td>\n",
       "      <td>NaN</td>\n",
       "      <td>NaN</td>\n",
       "      <td>NaN</td>\n",
       "      <td>NaN</td>\n",
       "      <td>NaN</td>\n",
       "      <td>NaN</td>\n",
       "      <td>f</td>\n",
       "      <td>NaN</td>\n",
       "    </tr>\n",
       "    <tr>\n",
       "      <th>3</th>\n",
       "      <td>768125251187660469</td>\n",
       "      <td>1-Bedroom Private Room with King Size Bed</td>\n",
       "      <td>Private room with king size bedroom near Sheep...</td>\n",
       "      <td>475699129</td>\n",
       "      <td>Suliman</td>\n",
       "      <td>t</td>\n",
       "      <td>7.0</td>\n",
       "      <td>t</td>\n",
       "      <td>Sheepshead Bay</td>\n",
       "      <td>Brooklyn</td>\n",
       "      <td>...</td>\n",
       "      <td>15</td>\n",
       "      <td>5.00</td>\n",
       "      <td>5.00</td>\n",
       "      <td>4.87</td>\n",
       "      <td>5.00</td>\n",
       "      <td>5.00</td>\n",
       "      <td>5.00</td>\n",
       "      <td>5.00</td>\n",
       "      <td>t</td>\n",
       "      <td>5.17</td>\n",
       "    </tr>\n",
       "    <tr>\n",
       "      <th>4</th>\n",
       "      <td>49248255</td>\n",
       "      <td>Get the best of both worlds in Riverdale!</td>\n",
       "      <td>Welcome to the greatest location if you desire...</td>\n",
       "      <td>397288055</td>\n",
       "      <td>Katherine</td>\n",
       "      <td>f</td>\n",
       "      <td>2.0</td>\n",
       "      <td>t</td>\n",
       "      <td>North Riverdale</td>\n",
       "      <td>Bronx</td>\n",
       "      <td>...</td>\n",
       "      <td>25</td>\n",
       "      <td>4.48</td>\n",
       "      <td>4.56</td>\n",
       "      <td>4.44</td>\n",
       "      <td>4.72</td>\n",
       "      <td>4.88</td>\n",
       "      <td>4.72</td>\n",
       "      <td>4.64</td>\n",
       "      <td>f</td>\n",
       "      <td>1.11</td>\n",
       "    </tr>\n",
       "  </tbody>\n",
       "</table>\n",
       "<p>5 rows × 34 columns</p>\n",
       "</div>"
      ],
      "text/plain": [
       "                   id                                       name  \\\n",
       "0  801749842377802394                      A home away from home   \n",
       "1  765948794133787266                            Brooklyn Refuge   \n",
       "2  636274456676328779                              Villa Masino.   \n",
       "3  768125251187660469  1-Bedroom Private Room with King Size Bed   \n",
       "4            49248255  Get the best of both worlds in Riverdale!   \n",
       "\n",
       "                                         description    host_id  host_name  \\\n",
       "0  The whole group will be comfortable in this sp...  495455523    Michael   \n",
       "1    Take a break and unwind at this peaceful oasis.  488760226       Eric   \n",
       "2  Close to beach   Peaceful walk to park & beach...  461263600    Tommaso   \n",
       "3  Private room with king size bedroom near Sheep...  475699129    Suliman   \n",
       "4  Welcome to the greatest location if you desire...  397288055  Katherine   \n",
       "\n",
       "  host_is_superhost  host_total_listings_count host_identity_verified  \\\n",
       "0                 f                        1.0                      f   \n",
       "1                 f                        5.0                      t   \n",
       "2                 f                        1.0                      f   \n",
       "3                 t                        7.0                      t   \n",
       "4                 f                        2.0                      t   \n",
       "\n",
       "     neighbourhood neighbourhood_group  ... number_of_reviews  \\\n",
       "0         Canarsie            Brooklyn  ...                 0   \n",
       "1         Canarsie            Brooklyn  ...                13   \n",
       "2      Tottenville       Staten Island  ...                 0   \n",
       "3   Sheepshead Bay            Brooklyn  ...                15   \n",
       "4  North Riverdale               Bronx  ...                25   \n",
       "\n",
       "  review_scores_rating  review_scores_accuracy review_scores_cleanliness  \\\n",
       "0                  NaN                     NaN                       NaN   \n",
       "1                 4.85                    4.77                      4.77   \n",
       "2                  NaN                     NaN                       NaN   \n",
       "3                 5.00                    5.00                      4.87   \n",
       "4                 4.48                    4.56                      4.44   \n",
       "\n",
       "   review_scores_checkin  review_scores_communication review_scores_location  \\\n",
       "0                    NaN                          NaN                    NaN   \n",
       "1                   4.85                         4.92                   4.85   \n",
       "2                    NaN                          NaN                    NaN   \n",
       "3                   5.00                         5.00                   5.00   \n",
       "4                   4.72                         4.88                   4.72   \n",
       "\n",
       "   review_scores_value  instant_bookable reviews_per_month  \n",
       "0                  NaN                 f               NaN  \n",
       "1                 4.92                 t              4.29  \n",
       "2                  NaN                 f               NaN  \n",
       "3                 5.00                 t              5.17  \n",
       "4                 4.64                 f              1.11  \n",
       "\n",
       "[5 rows x 34 columns]"
      ]
     },
     "execution_count": 5,
     "metadata": {},
     "output_type": "execute_result"
    }
   ],
   "source": [
    "\n",
    "print(data_df.columns)\n",
    "data_df = data_df.rename(columns={'neighbourhood_cleansed': 'neighbourhood', \n",
    "                                  'neighbourhood_group_cleansed': 'neighbourhood_group',\n",
    "                                  'bathrooms_text': 'bathrooms'})\n",
    "print(data_df.columns)\n",
    "data_df.head()"
   ]
  },
  {
   "attachments": {},
   "cell_type": "markdown",
   "id": "5ad56eb5",
   "metadata": {},
   "source": [
    "#### Cleaning and reformating thd data"
   ]
  },
  {
   "cell_type": "code",
   "execution_count": 6,
   "id": "bc3baed8",
   "metadata": {},
   "outputs": [],
   "source": [
    "\n",
    "# Removing rows with null ratings as ratings are important factor for price\n",
    "data_df = data_df[~data_df['review_scores_rating'].isna()]\n",
    "# Other review columns that are null can be reasonably assumed to have same rating as review_scores_rating\n",
    "for rating_col in ['review_scores_accuracy', 'review_scores_cleanliness', 'review_scores_checkin', 'review_scores_communication', 'review_scores_location', 'review_scores_value']:\n",
    "    idx = data_df[rating_col].isna()\n",
    "    data_df.loc[idx, rating_col] = data_df.loc[idx, 'review_scores_rating']"
   ]
  },
  {
   "cell_type": "code",
   "execution_count": 7,
   "id": "74d356dd",
   "metadata": {},
   "outputs": [
    {
     "name": "stdout",
     "output_type": "stream",
     "text": [
      "[1. 2. 3. 6. 4.]\n"
     ]
    }
   ],
   "source": [
    "# Handling beds and bedrooms nan values\n",
    "# Handling cases where there are number of beds but not bedrooms\n",
    "idx = (data_df['bedrooms'].isna() & ~data_df['beds'].isna())\n",
    "print(data_df.loc[idx, 'beds'].unique())\n",
    "# Assuming 1 bedroom beds 2 people, use beds to determine number of bedrooms\n",
    "data_df.loc[idx, 'bedrooms'] = data_df.loc[idx, 'beds'] / 2\n",
    "# Using same assumption, fill na values in beds if there are bedrooms\n",
    "idx = (~data_df['bedrooms'].isna()) & (data_df['beds'].isna())\n",
    "data_df.loc[idx, 'beds'] = data_df.loc[idx, 'bedrooms'] * 2\n",
    "# Finally removing rows that have no beds or bedrooms\n",
    "data_df = data_df.dropna(subset=['beds', 'bedrooms'], axis=0)"
   ]
  },
  {
   "cell_type": "code",
   "execution_count": 8,
   "id": "f3d6cf5c",
   "metadata": {},
   "outputs": [],
   "source": [
    "# Replacing f, t in boolean columns to 0, 1\n",
    "bool_cols = ['host_is_superhost', 'host_identity_verified', 'has_availability', 'instant_bookable']\n",
    "for bool_col in bool_cols:\n",
    "    data_df[bool_col] = data_df[bool_col].fillna('f')\n",
    "    data_df[bool_col] = data_df[bool_col].map({'f': 0, 't': 1})"
   ]
  },
  {
   "cell_type": "code",
   "execution_count": 9,
   "id": "586c22d4",
   "metadata": {},
   "outputs": [
    {
     "name": "stderr",
     "output_type": "stream",
     "text": [
      "C:\\Users\\rmura\\AppData\\Local\\Temp\\ipykernel_12016\\828959481.py:3: FutureWarning: The default value of regex will change from True to False in a future version. In addition, single character regular expressions will *not* be treated as literal strings when regex=True.\n",
      "  data_df['price'] = data_df['price'].str.replace('$', '').str.replace(',', '').astype('float')\n"
     ]
    }
   ],
   "source": [
    "# Removing rows that have 0 price as it's erroneous to have zero price for a listing\n",
    "# Converting string to float column\n",
    "data_df['price'] = data_df['price'].str.replace('$', '').str.replace(',', '').astype('float')\n",
    "data_df = data_df[data_df['price'] > 1]"
   ]
  },
  {
   "cell_type": "code",
   "execution_count": 10,
   "id": "59f82929",
   "metadata": {},
   "outputs": [],
   "source": [
    "# Replacing nan in str columns to Unknown\n",
    "str_cols = ['name', 'description', 'host_name', 'bathrooms']\n",
    "for str_col in str_cols:\n",
    "    data_df[str_col] = data_df[str_col].fillna('Unknown')"
   ]
  },
  {
   "cell_type": "code",
   "execution_count": 11,
   "id": "cc824413",
   "metadata": {},
   "outputs": [],
   "source": [
    "# # Approx 3 rows with nan for host_total_listings_count, reasonable to replace with 1\n",
    "data_df['host_total_listings_count'] = data_df['host_total_listings_count'].fillna(1)"
   ]
  },
  {
   "cell_type": "code",
   "execution_count": 12,
   "id": "5e5990e7",
   "metadata": {},
   "outputs": [
    {
     "data": {
      "text/plain": [
       "1     30.0\n",
       "3     89.0\n",
       "4    125.0\n",
       "5     63.0\n",
       "7    118.0\n",
       "Name: price, dtype: float64"
      ]
     },
     "execution_count": 12,
     "metadata": {},
     "output_type": "execute_result"
    }
   ],
   "source": [
    "data_df['price'].head()"
   ]
  },
  {
   "cell_type": "code",
   "execution_count": 13,
   "id": "eef4009f",
   "metadata": {},
   "outputs": [
    {
     "name": "stdout",
     "output_type": "stream",
     "text": [
      "<class 'pandas.core.frame.DataFrame'>\n",
      "Int64Index: 32504 entries, 1 to 42930\n",
      "Data columns (total 34 columns):\n",
      " #   Column                       Non-Null Count  Dtype  \n",
      "---  ------                       --------------  -----  \n",
      " 0   id                           32504 non-null  int64  \n",
      " 1   name                         32504 non-null  object \n",
      " 2   description                  32504 non-null  object \n",
      " 3   host_id                      32504 non-null  int64  \n",
      " 4   host_name                    32504 non-null  object \n",
      " 5   host_is_superhost            32504 non-null  int64  \n",
      " 6   host_total_listings_count    32504 non-null  float64\n",
      " 7   host_identity_verified       32504 non-null  int64  \n",
      " 8   neighbourhood                32504 non-null  object \n",
      " 9   neighbourhood_group          32504 non-null  object \n",
      " 10  property_type                32504 non-null  object \n",
      " 11  room_type                    32504 non-null  object \n",
      " 12  accommodates                 32504 non-null  int64  \n",
      " 13  bathrooms                    32504 non-null  object \n",
      " 14  bedrooms                     32504 non-null  float64\n",
      " 15  beds                         32504 non-null  float64\n",
      " 16  price                        32504 non-null  float64\n",
      " 17  minimum_nights               32504 non-null  int64  \n",
      " 18  maximum_nights               32504 non-null  int64  \n",
      " 19  has_availability             32504 non-null  int64  \n",
      " 20  availability_30              32504 non-null  int64  \n",
      " 21  availability_60              32504 non-null  int64  \n",
      " 22  availability_90              32504 non-null  int64  \n",
      " 23  availability_365             32504 non-null  int64  \n",
      " 24  number_of_reviews            32504 non-null  int64  \n",
      " 25  review_scores_rating         32504 non-null  float64\n",
      " 26  review_scores_accuracy       32504 non-null  float64\n",
      " 27  review_scores_cleanliness    32504 non-null  float64\n",
      " 28  review_scores_checkin        32504 non-null  float64\n",
      " 29  review_scores_communication  32504 non-null  float64\n",
      " 30  review_scores_location       32504 non-null  float64\n",
      " 31  review_scores_value          32504 non-null  float64\n",
      " 32  instant_bookable             32504 non-null  int64  \n",
      " 33  reviews_per_month            32504 non-null  float64\n",
      "dtypes: float64(12), int64(14), object(8)\n",
      "memory usage: 8.7+ MB\n"
     ]
    }
   ],
   "source": [
    "data_df.info()"
   ]
  },
  {
   "attachments": {},
   "cell_type": "markdown",
   "id": "3e58b9fa",
   "metadata": {},
   "source": [
    "import required pyspark and findspark related"
   ]
  },
  {
   "cell_type": "code",
   "execution_count": 14,
   "id": "2b0674f8",
   "metadata": {},
   "outputs": [],
   "source": [
    "import findspark\n",
    "from pyspark.sql import SparkSession;\n",
    "import pandas as pd\n",
    "findspark.init()"
   ]
  },
  {
   "attachments": {},
   "cell_type": "markdown",
   "id": "d8fa57b2",
   "metadata": {},
   "source": [
    "##### Create spark session with required ports"
   ]
  },
  {
   "cell_type": "code",
   "execution_count": 15,
   "id": "397c8d3c",
   "metadata": {},
   "outputs": [
    {
     "name": "stdout",
     "output_type": "stream",
     "text": [
      "Spark Session WebUI Port: 4040\n"
     ]
    }
   ],
   "source": [
    "spark = SparkSession.builder.master(\"local[4]\").appName(\"ISM6562 Spark App01\").enableHiveSupport().getOrCreate();\n",
    "spark_session_port = spark.sparkContext.uiWebUrl.split(\":\")[-1]\n",
    "print(\"Spark Session WebUI Port: \" + spark_session_port)"
   ]
  },
  {
   "attachments": {},
   "cell_type": "markdown",
   "id": "63e1102c",
   "metadata": {},
   "source": [
    "##### craete sprak content while allow python to perfom operaton in spark"
   ]
  },
  {
   "cell_type": "code",
   "execution_count": 16,
   "id": "1bc9d945",
   "metadata": {},
   "outputs": [],
   "source": [
    "sc=spark.sparkContext\n"
   ]
  },
  {
   "attachments": {},
   "cell_type": "markdown",
   "id": "31e132b9",
   "metadata": {},
   "source": [
    "##### Setting only log error in spark log set"
   ]
  },
  {
   "cell_type": "code",
   "execution_count": 17,
   "id": "9e50bb29",
   "metadata": {},
   "outputs": [],
   "source": [
    "sc.setLogLevel(\"ERROR\")"
   ]
  },
  {
   "cell_type": "code",
   "execution_count": null,
   "id": "38bdd0fe",
   "metadata": {},
   "outputs": [],
   "source": []
  },
  {
   "attachments": {},
   "cell_type": "markdown",
   "id": "9a862033",
   "metadata": {},
   "source": [
    "# read data using pandas & pass pandas data frame to spark"
   ]
  },
  {
   "cell_type": "code",
   "execution_count": 18,
   "id": "ef40f6a9",
   "metadata": {},
   "outputs": [],
   "source": [
    "# airbnb_df = pd.read_csv('Airbnb2.csv')\n",
    "# airbnb_df.head()"
   ]
  },
  {
   "cell_type": "code",
   "execution_count": 19,
   "id": "075fb117",
   "metadata": {},
   "outputs": [],
   "source": [
    "# #airbnb_df_spark = spark.createDataFrame(airbnb_df,  )\n",
    "# airbnb_df_spark = spark.read.csv(\"airbnb2.csv\",header= True)\n",
    "# airbnb_df_spark.show()\n"
   ]
  },
  {
   "attachments": {},
   "cell_type": "markdown",
   "id": "97bdf6f3",
   "metadata": {},
   "source": [
    "##### import required spark data types for"
   ]
  },
  {
   "cell_type": "code",
   "execution_count": 20,
   "id": "aaed7763",
   "metadata": {},
   "outputs": [],
   "source": [
    "from pyspark.sql.types import StructType,DoubleType,StructField,BooleanType,FloatType,StringType, IntegerType, DateType, LongType"
   ]
  },
  {
   "cell_type": "code",
   "execution_count": 21,
   "id": "724d3eaf",
   "metadata": {},
   "outputs": [],
   "source": [
    "\n",
    "mySchema = StructType([ StructField(\"id\", LongType(), True),\n",
    "StructField(\"name\", StringType(), True),\n",
    "StructField(\"description\", StringType(), True),\n",
    "StructField(\"host_id\", StringType(), True),\n",
    "StructField(\"host_name\", StringType(), True),\n",
    "StructField(\"host_is_superhost\", StringType(), True),\n",
    "StructField(\"host_total_listings_count\", StringType(), True),\n",
    "StructField(\"host_identity_verified\", StringType(), True),\n",
    "StructField(\"neighbourhood\", StringType(), True),\n",
    "StructField(\"neighbourhood_group\", StringType(), True),\n",
    "StructField(\"property_type\", StringType(), True),\n",
    "StructField(\"room_type\", StringType(), True),\n",
    "StructField(\"accommodates\", StringType(), True),\n",
    "StructField(\"bathrooms\", StringType(), True),\n",
    "StructField(\"bedrooms\", StringType(), True),\n",
    "StructField(\"beds\", IntegerType(), True),\n",
    "StructField(\"price\", FloatType(), True),\n",
    "StructField(\"maximum_nights\", StringType(), True),\n",
    "StructField(\"minimum_nights\", StringType(), True),\n",
    "StructField(\"has_availability\", StringType(), True),\n",
    "StructField(\"availability_30\", StringType(), True),\n",
    "StructField(\"availability_60\", StringType(), True),\n",
    "StructField(\"availability_90\", StringType(), True),\n",
    "StructField(\"availability_365\", StringType(), True),\n",
    "StructField(\"number_of_reviews\", StringType(), True),\n",
    "StructField(\"review_scores_rating\", StringType(), True),\n",
    "StructField(\"review_scores_accuracy\", StringType(), True),\n",
    "StructField(\"review_scores_cleanliness\", StringType(), True),\n",
    "StructField(\"review_scores_checkin\", StringType(), True),\n",
    "StructField(\"review_scores_communication\", StringType(), True),\n",
    "StructField(\"review_scores_location\", StringType(), True),\n",
    "StructField(\"review_scores_value\", StringType(), True),\n",
    "StructField(\"instant_bookable\", StringType(), True),\n",
    "StructField(\"reviews_per_month\", StringType(), True)])"
   ]
  },
  {
   "cell_type": "code",
   "execution_count": 22,
   "id": "29a6eaaa",
   "metadata": {},
   "outputs": [
    {
     "name": "stdout",
     "output_type": "stream",
     "text": [
      "+--------+--------------------+-------------------------------------+--------------------+--------------------+-----------------+-------------------------+----------------------+--------------------+-------------------+--------------------+---------------+------------+---------+--------+----+-----+--------------+---------------+----------------+---------------+---------------+---------------+----------------+-----------------+--------------------+----------------------+-------------------------+---------------------+---------------------------+----------------------+-------------------+----------------+-----------------+\n",
      "|      id|                name|                          description|             host_id|           host_name|host_is_superhost|host_total_listings_count|host_identity_verified|       neighbourhood|neighbourhood_group|       property_type|      room_type|accommodates|bathrooms|bedrooms|beds|price|maximum_nights| minimum_nights|has_availability|availability_30|availability_60|availability_90|availability_365|number_of_reviews|review_scores_rating|review_scores_accuracy|review_scores_cleanliness|review_scores_checkin|review_scores_communication|review_scores_location|review_scores_value|instant_bookable|reviews_per_month|\n",
      "+--------+--------------------+-------------------------------------+--------------------+--------------------+-----------------+-------------------------+----------------------+--------------------+-------------------+--------------------+---------------+------------+---------+--------+----+-----+--------------+---------------+----------------+---------------+---------------+---------------+----------------+-----------------+--------------------+----------------------+-------------------------+---------------------+---------------------------+----------------------+-------------------+----------------+-----------------+\n",
      "|    null|A home away from ...|                 The whole group w...|           495455523|             Michael|                f|                        1|                     f|                null|           Brooklyn|Private room in home|   Private room|           2|     null|       1|   1|143.0|             2|             30|               t|             30|             60|             90|             364|                0|                null|                  null|                     null|                 null|                       null|                  null|               null|               f|             null|\n",
      "|    null|     Brooklyn Refuge|                 Take a break and ...|           488760226|                Eric|                f|                        5|                     t|                null|           Brooklyn|Private room in r...|   Private room|           1|     null|       1|   1| 30.0|             2|           1125|               t|             15|             19|             38|              41|               13|                4.85|                  4.77|                     4.77|                 4.85|                       4.92|                  4.85|               4.92|               t|             4.29|\n",
      "|    null|       Villa Masino.|                 Close to beach   ...|           461263600|             Tommaso|                f|                        1|                     f|                null|      Staten Island|        Entire villa|Entire home/apt|           6|     null|       2|   2|157.0|             1|            365|               t|             30|             60|             90|             364|                0|                null|                  null|                     null|                 null|                       null|                  null|               null|               f|             null|\n",
      "|    null|1-Bedroom Private...|                 Private room with...|           475699129|             Suliman|                t|                        7|                     t|                null|           Brooklyn|Private room in home|   Private room|           2|     null|       3|   1| 89.0|             1|             20|               t|             30|             60|             90|             364|               15|                   5|                     5|                     4.87|                    5|                          5|                     5|                  5|               t|             5.17|\n",
      "|49248255|Get the best of b...|                 Welcome to the gr...|           397288055|           Katherine|                f|                        2|                     t|The Bronx, New Yo...|              Bronx|  Entire rental unit|Entire home/apt|           3|     null|       2|   2|125.0|             3|             21|               t|              3|             17|             46|              46|               25|                4.48|                  4.56|                     4.44|                 4.72|                       4.88|                  4.72|               4.64|               f|             1.11|\n",
      "|52059982|              Room 1|房间内带有两个标准的单人床，室内带...|           239139334|               Helen|                f|                        7|                     t|Queens, New York,...|             Queens|Private room in r...|   Private room|           3|     null|       1|   1| 63.0|             2|            365|               t|             14|             44|             74|             349|               40|                4.68|                  4.88|                     4.55|                 4.78|                       4.78|                  4.93|               4.68|               t|             2.26|\n",
      "|    null|        Welcome home|                 Disfruta de una e...|           426682883|              Carlos|                f|                        1|                     f|                null|             Queens|Private room in home|   Private room|           2|     null|       1|   1| 82.0|             1|             30|               t|             30|             60|             89|              89|                0|                null|                  null|                     null|                 null|                       null|                  null|               null|               f|             null|\n",
      "|39125813|Brand new constru...|                 The apartment is ...|            77290831|                 Nas|                f|                        1|                     t|                null|      Staten Island|  Entire rental unit|Entire home/apt|           3|     null|       1|   3|118.0|             7|             60|               t|             30|             60|             90|             179|                3|                   5|                     5|                        5|                    5|                          5|                     5|                  5|               f|             0.32|\n",
      "|    null|Room in Newly Ren...|                 Private, air-cond...|            51426218|              Sherry|                f|                       20|                     t|                null|             Queens|Private room in home|   Private room|           1|     null|       1|   1| 49.0|             5|           1125|               t|             26|             37|             67|             342|                1|                   5|                     5|                        5|                    5|                          5|                     5|                  5|               f|             0.31|\n",
      "| 6726337|Beautiful 2 Bedro...|                 Beautiful 2 bedro...|            21444167|                Rony|                t|                        2|                     t|RIVERDALE, New Yo...|              Bronx|  Entire rental unit|Entire home/apt|           4|     null|       2|   2|115.0|            30|           1125|               t|             18|             48|             78|             209|               16|                   5|                  4.93|                     4.93|                 4.93|                       4.93|                   4.8|               4.73|               f|             0.17|\n",
      "|    null|nice home by the ...|                 Make some memorie...|           343405281|                Zaid|                f|                        2|                     t|                null|             Queens| Shared room in home|    Shared room|           2|     null|       1|   1|975.0|             1|            365|               t|             30|             60|             90|             364|                0|                null|                  null|                     null|                 null|                       null|                  null|               null|               t|             null|\n",
      "|    null|Queens Haunted Ho...|                 \"Unique listing! ...| mini lounge area...| Queen sized bed....|          kitchen|                 bathroom|            3 bedrooms| 6 beds<br /><br ...|        please lea\"|           486718434|        Janette|           f|        1|       f|null| null|   Entire home|Entire home/apt|               4|           null|              3|              5|             179|                1|                1125|                     t|                       27|                   54|                         84|                   359|                  2|               5|                5|\n",
      "|    null|Apartamento espac...|                 Diviértete con to...|           479109924|               Angel|                f|                        2|                     f|                null|             Queens|  Entire rental unit|Entire home/apt|           7|     null|       3|   5|172.0|             1|             30|               t|             28|             57|             87|             356|               17|                4.76|                  4.82|                     4.88|                    5|                       4.82|                  4.24|               4.82|               f|                3|\n",
      "|49484842|Beautiful cozy ro...|                                 null|           179951095|           Balwinder|                f|                        2|                     t|                null|             Queens|Private room in home|   Private room|           1|     null|       1|   1| 68.0|             1|              5|               t|              0|              0|              0|              95|                6|                   5|                  4.83|                     4.83|                 4.83|                          5|                  4.83|               4.83|               f|             0.28|\n",
      "|    null|         Beach house|                 Take a break and ...|           246499229|               Masha|                f|                        1|                     t|                null|             Queens|Private room in home|   Private room|           2|     null|       1|   1|100.0|             1|             31|               t|             30|             60|             90|             364|                0|                null|                  null|                     null|                 null|                       null|                  null|               null|               t|             null|\n",
      "|    null|2-bedroom beach h...|                 Bring the whole f...|           380729610|               Shawn|                t|                        3|                     t|Queens, New York,...|             Queens|         Entire home|Entire home/apt|           6|     null|       2|   3|380.0|             1|           1125|               t|             30|             60|             88|             346|                8|                4.88|                  4.88|                        5|                    5|                          5|                  4.88|               4.75|               f|             0.74|\n",
      "|51499702|Walking distance ...|                 Location,location...|           413506029|                Dung|                f|                        1|                     t|Staten Island, Ne...|      Staten Island|   Entire guesthouse|Entire home/apt|           7|     null|       3|   4|175.0|             2|           1125|               t|             17|             38|             60|             131|               77|                4.61|                  4.77|                     4.55|                 4.88|                        4.9|                  4.82|               4.68|               f|             4.05|\n",
      "|35275920|Cozy summer relax...|                 This house has a ...|           265576141|              Sharon|                f|                        2|                     f|Queens, New York,...|             Queens|Private room in home|   Private room|           2|     null|       1|   1| 60.0|             7|             62|               t|             26|             56|             86|             328|               13|                4.54|                  4.62|                     4.31|                 4.62|                       4.77|                  4.46|               4.38|               f|             0.29|\n",
      "|39549128|New2BR/PreWar bui...|                 Privacy of your o...|           302253393|               Frits|                f|                       21|                     f|                null|              Bronx|Shared room in condo|    Shared room|           1|     null|       1|   4|301.0|            30|           1125|               t|             23|             53|             82|              82|                0|                null|                  null|                     null|                 null|                       null|                  null|               null|               t|             null|\n",
      "|53457149|☆Cozy 1BR Apartme...|                 Modern 1 Bedroom ...|           264728394|                Alex|                f|                        6|                     t|                null|           Brooklyn|  Entire rental unit|Entire home/apt|           4|     null|       1|   2|109.0|             5|           1125|               t|             30|             60|             90|             179|                6|                4.83|                  4.83|                     4.83|                 4.83|                       4.83|                  4.83|               4.83|               f|             0.53|\n",
      "+--------+--------------------+-------------------------------------+--------------------+--------------------+-----------------+-------------------------+----------------------+--------------------+-------------------+--------------------+---------------+------------+---------+--------+----+-----+--------------+---------------+----------------+---------------+---------------+---------------+----------------+-----------------+--------------------+----------------------+-------------------------+---------------------+---------------------------+----------------------+-------------------+----------------+-----------------+\n",
      "only showing top 20 rows\n",
      "\n"
     ]
    }
   ],
   "source": [
    "airbnb_local = spark.read.csv('listings.csv', header=True, schema=mySchema,nullValue=\"NA\");\n",
    "airbnb_local.show()"
   ]
  },
  {
   "cell_type": "code",
   "execution_count": null,
   "id": "e51ecbcd",
   "metadata": {},
   "outputs": [],
   "source": []
  },
  {
   "cell_type": "code",
   "execution_count": 23,
   "id": "774d5db1",
   "metadata": {},
   "outputs": [
    {
     "name": "stdout",
     "output_type": "stream",
     "text": [
      "root\n",
      " |-- id: long (nullable = true)\n",
      " |-- name: string (nullable = true)\n",
      " |-- description: string (nullable = true)\n",
      " |-- host_id: string (nullable = true)\n",
      " |-- host_name: string (nullable = true)\n",
      " |-- host_is_superhost: string (nullable = true)\n",
      " |-- host_total_listings_count: string (nullable = true)\n",
      " |-- host_identity_verified: string (nullable = true)\n",
      " |-- neighbourhood: string (nullable = true)\n",
      " |-- neighbourhood_group: string (nullable = true)\n",
      " |-- property_type: string (nullable = true)\n",
      " |-- room_type: string (nullable = true)\n",
      " |-- accommodates: string (nullable = true)\n",
      " |-- bathrooms: string (nullable = true)\n",
      " |-- bedrooms: string (nullable = true)\n",
      " |-- beds: integer (nullable = true)\n",
      " |-- price: float (nullable = true)\n",
      " |-- maximum_nights: string (nullable = true)\n",
      " |-- minimum_nights: string (nullable = true)\n",
      " |-- has_availability: string (nullable = true)\n",
      " |-- availability_30: string (nullable = true)\n",
      " |-- availability_60: string (nullable = true)\n",
      " |-- availability_90: string (nullable = true)\n",
      " |-- availability_365: string (nullable = true)\n",
      " |-- number_of_reviews: string (nullable = true)\n",
      " |-- review_scores_rating: string (nullable = true)\n",
      " |-- review_scores_accuracy: string (nullable = true)\n",
      " |-- review_scores_cleanliness: string (nullable = true)\n",
      " |-- review_scores_checkin: string (nullable = true)\n",
      " |-- review_scores_communication: string (nullable = true)\n",
      " |-- review_scores_location: string (nullable = true)\n",
      " |-- review_scores_value: string (nullable = true)\n",
      " |-- instant_bookable: string (nullable = true)\n",
      " |-- reviews_per_month: string (nullable = true)\n",
      "\n"
     ]
    }
   ],
   "source": [
    "airbnb_local.printSchema()"
   ]
  },
  {
   "cell_type": "code",
   "execution_count": 24,
   "id": "e8652350",
   "metadata": {},
   "outputs": [],
   "source": [
    "# airbnb_df_spark1 = spark.createDataFrame(\"listings.csv\",schema=mySchema,header=True)\n",
    "# airbnb_df_spark1.show()"
   ]
  },
  {
   "attachments": {},
   "cell_type": "markdown",
   "id": "3c450923",
   "metadata": {},
   "source": [
    "##### load pandas data frame to spark"
   ]
  },
  {
   "cell_type": "code",
   "execution_count": 25,
   "id": "31ecba99",
   "metadata": {},
   "outputs": [
    {
     "name": "stderr",
     "output_type": "stream",
     "text": [
      "c:\\Users\\rmura\\anaconda3\\envs\\spark\\lib\\site-packages\\pyspark\\sql\\pandas\\conversion.py:371: FutureWarning: iteritems is deprecated and will be removed in a future version. Use .items instead.\n",
      "  for column, series in pdf.iteritems():\n"
     ]
    },
    {
     "name": "stdout",
     "output_type": "stream",
     "text": [
      "+------------------+--------------------+-------------------------------------+---------+---------+-----------------+-------------------------+----------------------+---------------+-------------------+--------------------+---------------+------------+----------------+--------+----+-----+--------------+--------------+----------------+---------------+---------------+---------------+----------------+-----------------+--------------------+----------------------+-------------------------+---------------------+---------------------------+----------------------+-------------------+----------------+-----------------+\n",
      "|                id|                name|                          description|  host_id|host_name|host_is_superhost|host_total_listings_count|host_identity_verified|  neighbourhood|neighbourhood_group|       property_type|      room_type|accommodates|       bathrooms|bedrooms|beds|price|minimum_nights|maximum_nights|has_availability|availability_30|availability_60|availability_90|availability_365|number_of_reviews|review_scores_rating|review_scores_accuracy|review_scores_cleanliness|review_scores_checkin|review_scores_communication|review_scores_location|review_scores_value|instant_bookable|reviews_per_month|\n",
      "+------------------+--------------------+-------------------------------------+---------+---------+-----------------+-------------------------+----------------------+---------------+-------------------+--------------------+---------------+------------+----------------+--------+----+-----+--------------+--------------+----------------+---------------+---------------+---------------+----------------+-----------------+--------------------+----------------------+-------------------------+---------------------+---------------------------+----------------------+-------------------+----------------+-----------------+\n",
      "|765948794133787266|     Brooklyn Refuge|                 Take a break and ...|488760226|     Eric|                0|                      5.0|                     1|       Canarsie|           Brooklyn|Private room in r...|   Private room|           1|   1 shared bath|     1.0| 1.0| 30.0|             2|          1125|               1|             15|             19|             38|              41|               13|                4.85|                  4.77|                     4.77|                 4.85|                       4.92|                  4.85|               4.92|               1|             4.29|\n",
      "|768125251187660469|1-Bedroom Private...|                 Private room with...|475699129|  Suliman|                1|                      7.0|                     1| Sheepshead Bay|           Brooklyn|Private room in home|   Private room|           2|         2 baths|     3.0| 1.0| 89.0|             1|            20|               1|             30|             60|             90|             364|               15|                 5.0|                   5.0|                     4.87|                  5.0|                        5.0|                   5.0|                5.0|               1|             5.17|\n",
      "|          49248255|Get the best of b...|                 Welcome to the gr...|397288055|Katherine|                0|                      2.0|                     1|North Riverdale|              Bronx|  Entire rental unit|Entire home/apt|           3|          1 bath|     2.0| 2.0|125.0|             3|            21|               1|              3|             17|             46|              46|               25|                4.48|                  4.56|                     4.44|                 4.72|                       4.88|                  4.72|               4.64|               0|             1.11|\n",
      "|          52059982|              Room 1|房间内带有两个标准的单人床，室内带...|239139334|    Helen|                0|                      7.0|                     1|       Flushing|             Queens|Private room in r...|   Private room|           3|   1 shared bath|     1.0| 1.0| 63.0|             2|           365|               1|             14|             44|             74|             349|               40|                4.68|                  4.88|                     4.55|                 4.78|                       4.78|                  4.93|               4.68|               1|             2.26|\n",
      "|          39125813|Brand new constru...|                 The apartment is ...| 77290831|      Nas|                0|                      1.0|                     1|   Prince's Bay|      Staten Island|  Entire rental unit|Entire home/apt|           3|          1 bath|     1.0| 3.0|118.0|             7|            60|               1|             30|             60|             90|             179|                3|                 5.0|                   5.0|                      5.0|                  5.0|                        5.0|                   5.0|                5.0|               0|             0.32|\n",
      "|654508528815045267|Room in Newly Ren...|                 Private, air-cond...| 51426218|   Sherry|                0|                     20.0|                     1|  Richmond Hill|             Queens|Private room in home|   Private room|           1|   1 shared bath|     1.0| 1.0| 49.0|             5|          1125|               1|             26|             37|             67|             342|                1|                 5.0|                   5.0|                      5.0|                  5.0|                        5.0|                   5.0|                5.0|               0|             0.31|\n",
      "|           6726337|Beautiful 2 Bedro...|                 Beautiful 2 bedro...| 21444167|     Rony|                1|                      2.0|                     1|    Kingsbridge|              Bronx|  Entire rental unit|Entire home/apt|           4|          1 bath|     2.0| 2.0|115.0|            30|          1125|               1|             18|             48|             78|             209|               16|                 5.0|                  4.93|                     4.93|                 4.93|                       4.93|                   4.8|               4.73|               0|             0.17|\n",
      "|754903813460937923|Queens Haunted Ho...|                 Unique listing! T...|486718434|  Janette|                0|                      1.0|                     0| Queens Village|             Queens|         Entire home|Entire home/apt|           4|          1 bath|     3.0| 5.0|179.0|             1|          1125|               1|             27|             54|             84|             359|                2|                 5.0|                   5.0|                      5.0|                  5.0|                        5.0|                   5.0|                5.0|               1|              2.0|\n",
      "|713836647349232871|Apartamento espac...|                 Diviértete con to...|479109924|    Angel|                0|                      2.0|                     0|   Far Rockaway|             Queens|  Entire rental unit|Entire home/apt|           7|          1 bath|     3.0| 5.0|172.0|             1|            30|               1|             28|             57|             87|             356|               17|                4.76|                  4.82|                     4.88|                  5.0|                       4.82|                  4.24|               4.82|               0|              3.0|\n",
      "|          49484842|Beautiful cozy ro...|                              Unknown|179951095|Balwinder|                0|                      2.0|                     1|  Richmond Hill|             Queens|Private room in home|   Private room|           1|   1 shared bath|     1.0| 1.0| 68.0|             1|             5|               1|              0|              0|              0|              95|                6|                 5.0|                  4.83|                     4.83|                 4.83|                        5.0|                  4.83|               4.83|               0|             0.28|\n",
      "|599521385504516024|2-bedroom beach h...|                 Bring the whole f...|380729610|    Shawn|                1|                      3.0|                     1|       Edgemere|             Queens|         Entire home|Entire home/apt|           6|         2 baths|     2.0| 3.0|380.0|             1|          1125|               1|             30|             60|             88|             346|                8|                4.88|                  4.88|                      5.0|                  5.0|                        5.0|                  4.88|               4.75|               0|             0.74|\n",
      "|          51499702|Walking distance ...|                 Location,location...|413506029|     Dung|                0|                      1.0|                     1|   Dongan Hills|      Staten Island|   Entire guesthouse|Entire home/apt|           7|       1.5 baths|     3.0| 4.0|175.0|             2|          1125|               1|             17|             38|             60|             131|               77|                4.61|                  4.77|                     4.55|                 4.88|                        4.9|                  4.82|               4.68|               0|             4.05|\n",
      "|          35275920|Cozy summer relax...|                 This house has a ...|265576141|   Sharon|                0|                      2.0|                     0| Rockaway Beach|             Queens|Private room in home|   Private room|           2|1.5 shared baths|     1.0| 1.0| 60.0|             7|            62|               1|             26|             56|             86|             328|               13|                4.54|                  4.62|                     4.31|                 4.62|                       4.77|                  4.46|               4.38|               0|             0.29|\n",
      "|          53457149|☆Cozy 1BR Apartme...|                 Modern 1 Bedroom ...|264728394|     Alex|                0|                      6.0|                     1| Brighton Beach|           Brooklyn|  Entire rental unit|Entire home/apt|           4|          1 bath|     1.0| 2.0|109.0|             5|          1125|               1|             30|             60|             90|             179|                6|                4.83|                  4.83|                     4.83|                 4.83|                       4.83|                  4.83|               4.83|               0|             0.53|\n",
      "|          40177066|Apartment with wa...|                              Unknown| 42486495|    Benco|                0|                     13.0|                     1|   Far Rockaway|             Queens|Private room in home|   Private room|           1|   1 shared bath|     1.0| 2.0|105.0|             1|            28|               1|             30|             60|             89|              89|                1|                 5.0|                   5.0|                      5.0|                  5.0|                        5.0|                   5.0|                5.0|               0|             0.88|\n",
      "|618451653506979162|Base Apt (Basemen...|                 Take it easy at t...|371008926|  Patrick|                0|                     10.0|                     0| Queens Village|             Queens|  Entire rental unit|Entire home/apt|           2|          1 bath|     0.5| 1.0| 80.0|            30|           365|               1|             30|             60|             90|             364|                3|                4.67|                   5.0|                     4.67|                  5.0|                        5.0|                   5.0|                5.0|               1|             0.33|\n",
      "|          29756137|1 bedroom Apartment.|                 1Bedroom Apartmen...|215041024|      Ife|                0|                      1.0|                     1|       Edgemere|             Queens|         Entire home|Entire home/apt|           2|          1 bath|     1.0| 1.0| 90.0|             4|             7|               1|             29|             59|             88|              88|               13|                4.31|                  4.77|                     4.46|                 4.69|                       4.54|                  4.38|               4.54|               0|             0.29|\n",
      "|          52206067|Stylish and luxur...|                 This room is offe...|422579287| Evyiatar|                0|                      2.0|                     1|      Bayswater|             Queens|Private room in home|   Private room|           2|   1 shared bath|     1.0| 1.0| 85.0|            31|           365|               1|             30|             60|             90|             364|                2|                 5.0|                   5.0|                      4.5|                  5.0|                        5.0|                   5.0|                5.0|               0|              0.3|\n",
      "|712595606533295666|Lovely 2 bedroom ...|                 Take it easy at t...|478887744|   Rachel|                0|                      1.0|                     1|   Far Rockaway|             Queens|Private room in r...|   Private room|           2|         2 baths|     2.0| 1.0| 99.0|             6|            13|               1|             30|             60|             90|             364|                1|                 5.0|                   5.0|                      5.0|                  4.0|                        5.0|                   4.0|                5.0|               1|             0.19|\n",
      "|          47004464|Bohemian NYC Apt ...|                 Have fun with the...|379993600|      Rob|                1|                      4.0|                     1|        Bayside|             Queens|  Entire rental unit|Entire home/apt|           6|          1 bath|     2.0| 2.0|216.0|             1|           180|               1|             12|             24|             40|             202|               86|                4.95|                  4.97|                     4.97|                 4.95|                       4.95|                  4.99|                4.9|               0|             3.87|\n",
      "+------------------+--------------------+-------------------------------------+---------+---------+-----------------+-------------------------+----------------------+---------------+-------------------+--------------------+---------------+------------+----------------+--------+----+-----+--------------+--------------+----------------+---------------+---------------+---------------+----------------+-----------------+--------------------+----------------------+-------------------------+---------------------+---------------------------+----------------------+-------------------+----------------+-----------------+\n",
      "only showing top 20 rows\n",
      "\n"
     ]
    }
   ],
   "source": [
    "\n",
    "airbnb_df_spark = spark.createDataFrame(data_df)\n",
    "airbnb_df_spark.show()\n"
   ]
  },
  {
   "attachments": {},
   "cell_type": "markdown",
   "id": "a8a05e50",
   "metadata": {},
   "source": [
    "##### displayschema from  load daat frame to spark "
   ]
  },
  {
   "cell_type": "code",
   "execution_count": 26,
   "id": "5f07f94e",
   "metadata": {},
   "outputs": [
    {
     "name": "stdout",
     "output_type": "stream",
     "text": [
      "root\n",
      " |-- id: long (nullable = true)\n",
      " |-- name: string (nullable = true)\n",
      " |-- description: string (nullable = true)\n",
      " |-- host_id: long (nullable = true)\n",
      " |-- host_name: string (nullable = true)\n",
      " |-- host_is_superhost: long (nullable = true)\n",
      " |-- host_total_listings_count: double (nullable = true)\n",
      " |-- host_identity_verified: long (nullable = true)\n",
      " |-- neighbourhood: string (nullable = true)\n",
      " |-- neighbourhood_group: string (nullable = true)\n",
      " |-- property_type: string (nullable = true)\n",
      " |-- room_type: string (nullable = true)\n",
      " |-- accommodates: long (nullable = true)\n",
      " |-- bathrooms: string (nullable = true)\n",
      " |-- bedrooms: double (nullable = true)\n",
      " |-- beds: double (nullable = true)\n",
      " |-- price: double (nullable = true)\n",
      " |-- minimum_nights: long (nullable = true)\n",
      " |-- maximum_nights: long (nullable = true)\n",
      " |-- has_availability: long (nullable = true)\n",
      " |-- availability_30: long (nullable = true)\n",
      " |-- availability_60: long (nullable = true)\n",
      " |-- availability_90: long (nullable = true)\n",
      " |-- availability_365: long (nullable = true)\n",
      " |-- number_of_reviews: long (nullable = true)\n",
      " |-- review_scores_rating: double (nullable = true)\n",
      " |-- review_scores_accuracy: double (nullable = true)\n",
      " |-- review_scores_cleanliness: double (nullable = true)\n",
      " |-- review_scores_checkin: double (nullable = true)\n",
      " |-- review_scores_communication: double (nullable = true)\n",
      " |-- review_scores_location: double (nullable = true)\n",
      " |-- review_scores_value: double (nullable = true)\n",
      " |-- instant_bookable: long (nullable = true)\n",
      " |-- reviews_per_month: double (nullable = true)\n",
      "\n"
     ]
    }
   ],
   "source": [
    "airbnb_df_spark.printSchema()"
   ]
  },
  {
   "attachments": {},
   "cell_type": "markdown",
   "id": "4cab5fd9",
   "metadata": {},
   "source": [
    "##### Check if any na values available in data set."
   ]
  },
  {
   "cell_type": "code",
   "execution_count": 27,
   "metadata": {},
   "outputs": [
    {
     "data": {
      "text/plain": [
       "<bound method DataFrame.fillna of DataFrame[id: bigint, name: string, description: string, host_id: bigint, host_name: string, host_is_superhost: bigint, host_total_listings_count: double, host_identity_verified: bigint, neighbourhood: string, neighbourhood_group: string, property_type: string, room_type: string, accommodates: bigint, bathrooms: string, bedrooms: double, beds: double, price: double, minimum_nights: bigint, maximum_nights: bigint, has_availability: bigint, availability_30: bigint, availability_60: bigint, availability_90: bigint, availability_365: bigint, number_of_reviews: bigint, review_scores_rating: double, review_scores_accuracy: double, review_scores_cleanliness: double, review_scores_checkin: double, review_scores_communication: double, review_scores_location: double, review_scores_value: double, instant_bookable: bigint, reviews_per_month: double]>"
      ]
     },
     "execution_count": 27,
     "metadata": {},
     "output_type": "execute_result"
    }
   ],
   "source": [
    "airbnb_df_spark.fillna"
   ]
  },
  {
   "attachments": {},
   "cell_type": "markdown",
   "id": "28f9bb1a",
   "metadata": {},
   "source": [
    "##### CHceking the spark datatype"
   ]
  },
  {
   "cell_type": "code",
   "execution_count": 28,
   "id": "0b72f1d0",
   "metadata": {},
   "outputs": [
    {
     "data": {
      "text/plain": [
       "pyspark.sql.dataframe.DataFrame"
      ]
     },
     "execution_count": 28,
     "metadata": {},
     "output_type": "execute_result"
    }
   ],
   "source": [
    "type(airbnb_df_spark)"
   ]
  },
  {
   "attachments": {},
   "cell_type": "markdown",
   "id": "4b806fda",
   "metadata": {},
   "source": [
    "##### Show the avialble tables in tha Spark dataware house"
   ]
  },
  {
   "cell_type": "code",
   "execution_count": 29,
   "id": "2d91f92b",
   "metadata": {},
   "outputs": [
    {
     "data": {
      "text/plain": [
       "[]"
      ]
     },
     "execution_count": 29,
     "metadata": {},
     "output_type": "execute_result"
    }
   ],
   "source": [
    "spark.catalog.listTables()"
   ]
  },
  {
   "attachments": {},
   "cell_type": "markdown",
   "id": "0f9f5be8",
   "metadata": {},
   "source": [
    "##### Use default database a current user"
   ]
  },
  {
   "cell_type": "code",
   "execution_count": 30,
   "id": "3a000f71",
   "metadata": {},
   "outputs": [
    {
     "name": "stdout",
     "output_type": "stream",
     "text": [
      "++\n",
      "||\n",
      "++\n",
      "++\n",
      "\n"
     ]
    }
   ],
   "source": [
    "airbnb_dw=spark.sql(\"use default\").show()"
   ]
  },
  {
   "attachments": {},
   "cell_type": "markdown",
   "id": "e385f10e",
   "metadata": {},
   "source": [
    "##### Show available tablesnin the current user database"
   ]
  },
  {
   "cell_type": "code",
   "execution_count": 31,
   "id": "558a381b",
   "metadata": {},
   "outputs": [
    {
     "name": "stdout",
     "output_type": "stream",
     "text": [
      "+---------+---------+-----------+\n",
      "|namespace|tableName|isTemporary|\n",
      "+---------+---------+-----------+\n",
      "+---------+---------+-----------+\n",
      "\n"
     ]
    }
   ],
   "source": [
    "tables = spark.sql(\"show tables\").show()"
   ]
  },
  {
   "attachments": {},
   "cell_type": "markdown",
   "id": "aa233114",
   "metadata": {},
   "source": [
    "##### Install the spark SQL magic for simple interactions "
   ]
  },
  {
   "cell_type": "code",
   "execution_count": 32,
   "id": "02e987c2",
   "metadata": {},
   "outputs": [],
   "source": [
    "# ! pip install sparksql-magic"
   ]
  },
  {
   "attachments": {},
   "cell_type": "markdown",
   "id": "d8e5afd5",
   "metadata": {},
   "source": [
    "#### Create the data in the persistant table"
   ]
  },
  {
   "cell_type": "code",
   "execution_count": 33,
   "id": "196acb06",
   "metadata": {},
   "outputs": [
    {
     "name": "stdout",
     "output_type": "stream",
     "text": [
      "+------------------+--------------------+-------------------------------------+---------+---------+-----------------+-------------------------+----------------------+---------------+-------------------+--------------------+---------------+------------+----------------+--------+----+-----+--------------+--------------+----------------+---------------+---------------+---------------+----------------+-----------------+--------------------+----------------------+-------------------------+---------------------+---------------------------+----------------------+-------------------+----------------+-----------------+\n",
      "|                id|                name|                          description|  host_id|host_name|host_is_superhost|host_total_listings_count|host_identity_verified|  neighbourhood|neighbourhood_group|       property_type|      room_type|accommodates|       bathrooms|bedrooms|beds|price|minimum_nights|maximum_nights|has_availability|availability_30|availability_60|availability_90|availability_365|number_of_reviews|review_scores_rating|review_scores_accuracy|review_scores_cleanliness|review_scores_checkin|review_scores_communication|review_scores_location|review_scores_value|instant_bookable|reviews_per_month|\n",
      "+------------------+--------------------+-------------------------------------+---------+---------+-----------------+-------------------------+----------------------+---------------+-------------------+--------------------+---------------+------------+----------------+--------+----+-----+--------------+--------------+----------------+---------------+---------------+---------------+----------------+-----------------+--------------------+----------------------+-------------------------+---------------------+---------------------------+----------------------+-------------------+----------------+-----------------+\n",
      "|765948794133787266|     Brooklyn Refuge|                 Take a break and ...|488760226|     Eric|                0|                      5.0|                     1|       Canarsie|           Brooklyn|Private room in r...|   Private room|           1|   1 shared bath|     1.0| 1.0| 30.0|             2|          1125|               1|             15|             19|             38|              41|               13|                4.85|                  4.77|                     4.77|                 4.85|                       4.92|                  4.85|               4.92|               1|             4.29|\n",
      "|768125251187660469|1-Bedroom Private...|                 Private room with...|475699129|  Suliman|                1|                      7.0|                     1| Sheepshead Bay|           Brooklyn|Private room in home|   Private room|           2|         2 baths|     3.0| 1.0| 89.0|             1|            20|               1|             30|             60|             90|             364|               15|                 5.0|                   5.0|                     4.87|                  5.0|                        5.0|                   5.0|                5.0|               1|             5.17|\n",
      "|          49248255|Get the best of b...|                 Welcome to the gr...|397288055|Katherine|                0|                      2.0|                     1|North Riverdale|              Bronx|  Entire rental unit|Entire home/apt|           3|          1 bath|     2.0| 2.0|125.0|             3|            21|               1|              3|             17|             46|              46|               25|                4.48|                  4.56|                     4.44|                 4.72|                       4.88|                  4.72|               4.64|               0|             1.11|\n",
      "|          52059982|              Room 1|房间内带有两个标准的单人床，室内带...|239139334|    Helen|                0|                      7.0|                     1|       Flushing|             Queens|Private room in r...|   Private room|           3|   1 shared bath|     1.0| 1.0| 63.0|             2|           365|               1|             14|             44|             74|             349|               40|                4.68|                  4.88|                     4.55|                 4.78|                       4.78|                  4.93|               4.68|               1|             2.26|\n",
      "|          39125813|Brand new constru...|                 The apartment is ...| 77290831|      Nas|                0|                      1.0|                     1|   Prince's Bay|      Staten Island|  Entire rental unit|Entire home/apt|           3|          1 bath|     1.0| 3.0|118.0|             7|            60|               1|             30|             60|             90|             179|                3|                 5.0|                   5.0|                      5.0|                  5.0|                        5.0|                   5.0|                5.0|               0|             0.32|\n",
      "|654508528815045267|Room in Newly Ren...|                 Private, air-cond...| 51426218|   Sherry|                0|                     20.0|                     1|  Richmond Hill|             Queens|Private room in home|   Private room|           1|   1 shared bath|     1.0| 1.0| 49.0|             5|          1125|               1|             26|             37|             67|             342|                1|                 5.0|                   5.0|                      5.0|                  5.0|                        5.0|                   5.0|                5.0|               0|             0.31|\n",
      "|           6726337|Beautiful 2 Bedro...|                 Beautiful 2 bedro...| 21444167|     Rony|                1|                      2.0|                     1|    Kingsbridge|              Bronx|  Entire rental unit|Entire home/apt|           4|          1 bath|     2.0| 2.0|115.0|            30|          1125|               1|             18|             48|             78|             209|               16|                 5.0|                  4.93|                     4.93|                 4.93|                       4.93|                   4.8|               4.73|               0|             0.17|\n",
      "|754903813460937923|Queens Haunted Ho...|                 Unique listing! T...|486718434|  Janette|                0|                      1.0|                     0| Queens Village|             Queens|         Entire home|Entire home/apt|           4|          1 bath|     3.0| 5.0|179.0|             1|          1125|               1|             27|             54|             84|             359|                2|                 5.0|                   5.0|                      5.0|                  5.0|                        5.0|                   5.0|                5.0|               1|              2.0|\n",
      "|713836647349232871|Apartamento espac...|                 Diviértete con to...|479109924|    Angel|                0|                      2.0|                     0|   Far Rockaway|             Queens|  Entire rental unit|Entire home/apt|           7|          1 bath|     3.0| 5.0|172.0|             1|            30|               1|             28|             57|             87|             356|               17|                4.76|                  4.82|                     4.88|                  5.0|                       4.82|                  4.24|               4.82|               0|              3.0|\n",
      "|          49484842|Beautiful cozy ro...|                              Unknown|179951095|Balwinder|                0|                      2.0|                     1|  Richmond Hill|             Queens|Private room in home|   Private room|           1|   1 shared bath|     1.0| 1.0| 68.0|             1|             5|               1|              0|              0|              0|              95|                6|                 5.0|                  4.83|                     4.83|                 4.83|                        5.0|                  4.83|               4.83|               0|             0.28|\n",
      "|599521385504516024|2-bedroom beach h...|                 Bring the whole f...|380729610|    Shawn|                1|                      3.0|                     1|       Edgemere|             Queens|         Entire home|Entire home/apt|           6|         2 baths|     2.0| 3.0|380.0|             1|          1125|               1|             30|             60|             88|             346|                8|                4.88|                  4.88|                      5.0|                  5.0|                        5.0|                  4.88|               4.75|               0|             0.74|\n",
      "|          51499702|Walking distance ...|                 Location,location...|413506029|     Dung|                0|                      1.0|                     1|   Dongan Hills|      Staten Island|   Entire guesthouse|Entire home/apt|           7|       1.5 baths|     3.0| 4.0|175.0|             2|          1125|               1|             17|             38|             60|             131|               77|                4.61|                  4.77|                     4.55|                 4.88|                        4.9|                  4.82|               4.68|               0|             4.05|\n",
      "|          35275920|Cozy summer relax...|                 This house has a ...|265576141|   Sharon|                0|                      2.0|                     0| Rockaway Beach|             Queens|Private room in home|   Private room|           2|1.5 shared baths|     1.0| 1.0| 60.0|             7|            62|               1|             26|             56|             86|             328|               13|                4.54|                  4.62|                     4.31|                 4.62|                       4.77|                  4.46|               4.38|               0|             0.29|\n",
      "|          53457149|☆Cozy 1BR Apartme...|                 Modern 1 Bedroom ...|264728394|     Alex|                0|                      6.0|                     1| Brighton Beach|           Brooklyn|  Entire rental unit|Entire home/apt|           4|          1 bath|     1.0| 2.0|109.0|             5|          1125|               1|             30|             60|             90|             179|                6|                4.83|                  4.83|                     4.83|                 4.83|                       4.83|                  4.83|               4.83|               0|             0.53|\n",
      "|          40177066|Apartment with wa...|                              Unknown| 42486495|    Benco|                0|                     13.0|                     1|   Far Rockaway|             Queens|Private room in home|   Private room|           1|   1 shared bath|     1.0| 2.0|105.0|             1|            28|               1|             30|             60|             89|              89|                1|                 5.0|                   5.0|                      5.0|                  5.0|                        5.0|                   5.0|                5.0|               0|             0.88|\n",
      "|618451653506979162|Base Apt (Basemen...|                 Take it easy at t...|371008926|  Patrick|                0|                     10.0|                     0| Queens Village|             Queens|  Entire rental unit|Entire home/apt|           2|          1 bath|     0.5| 1.0| 80.0|            30|           365|               1|             30|             60|             90|             364|                3|                4.67|                   5.0|                     4.67|                  5.0|                        5.0|                   5.0|                5.0|               1|             0.33|\n",
      "|          29756137|1 bedroom Apartment.|                 1Bedroom Apartmen...|215041024|      Ife|                0|                      1.0|                     1|       Edgemere|             Queens|         Entire home|Entire home/apt|           2|          1 bath|     1.0| 1.0| 90.0|             4|             7|               1|             29|             59|             88|              88|               13|                4.31|                  4.77|                     4.46|                 4.69|                       4.54|                  4.38|               4.54|               0|             0.29|\n",
      "|          52206067|Stylish and luxur...|                 This room is offe...|422579287| Evyiatar|                0|                      2.0|                     1|      Bayswater|             Queens|Private room in home|   Private room|           2|   1 shared bath|     1.0| 1.0| 85.0|            31|           365|               1|             30|             60|             90|             364|                2|                 5.0|                   5.0|                      4.5|                  5.0|                        5.0|                   5.0|                5.0|               0|              0.3|\n",
      "|712595606533295666|Lovely 2 bedroom ...|                 Take it easy at t...|478887744|   Rachel|                0|                      1.0|                     1|   Far Rockaway|             Queens|Private room in r...|   Private room|           2|         2 baths|     2.0| 1.0| 99.0|             6|            13|               1|             30|             60|             90|             364|                1|                 5.0|                   5.0|                      5.0|                  4.0|                        5.0|                   4.0|                5.0|               1|             0.19|\n",
      "|          47004464|Bohemian NYC Apt ...|                 Have fun with the...|379993600|      Rob|                1|                      4.0|                     1|        Bayside|             Queens|  Entire rental unit|Entire home/apt|           6|          1 bath|     2.0| 2.0|216.0|             1|           180|               1|             12|             24|             40|             202|               86|                4.95|                  4.97|                     4.97|                 4.95|                       4.95|                  4.99|                4.9|               0|             3.87|\n",
      "+------------------+--------------------+-------------------------------------+---------+---------+-----------------+-------------------------+----------------------+---------------+-------------------+--------------------+---------------+------------+----------------+--------+----+-----+--------------+--------------+----------------+---------------+---------------+---------------+----------------+-----------------+--------------------+----------------------+-------------------------+---------------------+---------------------------+----------------------+-------------------+----------------+-----------------+\n",
      "only showing top 20 rows\n",
      "\n"
     ]
    }
   ],
   "source": [
    "airbnb_df_spark.show()"
   ]
  },
  {
   "cell_type": "code",
   "execution_count": 34,
   "id": "1829e0f4",
   "metadata": {},
   "outputs": [
    {
     "ename": "SyntaxError",
     "evalue": "invalid syntax (4100392482.py, line 1)",
     "output_type": "error",
     "traceback": [
      "\u001b[1;36m  Cell \u001b[1;32mIn[34], line 1\u001b[1;36m\u001b[0m\n\u001b[1;33m    airbnb_df_spark.\u001b[0m\n\u001b[1;37m                    ^\u001b[0m\n\u001b[1;31mSyntaxError\u001b[0m\u001b[1;31m:\u001b[0m invalid syntax\n"
     ]
    }
   ],
   "source": [
    "airbnb_df_spark.\n"
   ]
  },
  {
   "attachments": {},
   "cell_type": "markdown",
   "id": "20d0fb04",
   "metadata": {},
   "source": [
    "#### Create a temporary variable without any filter from the original dataframe"
   ]
  },
  {
   "cell_type": "code",
   "execution_count": null,
   "id": "0770f1d2",
   "metadata": {},
   "outputs": [],
   "source": [
    "airbnb_df_spark.createOrReplaceTempView(\"airbnb_tmp_view\")"
   ]
  },
  {
   "attachments": {},
   "cell_type": "markdown",
   "id": "f8b66a15",
   "metadata": {},
   "source": [
    "##### Show tables"
   ]
  },
  {
   "cell_type": "code",
   "execution_count": null,
   "id": "ffca58d6",
   "metadata": {},
   "outputs": [],
   "source": [
    "tables = spark.sql(\"show tables\").show()"
   ]
  },
  {
   "attachments": {},
   "cell_type": "markdown",
   "id": "287f62b8",
   "metadata": {},
   "source": [
    "##### load the extension"
   ]
  },
  {
   "cell_type": "code",
   "execution_count": null,
   "id": "9e71df59",
   "metadata": {},
   "outputs": [],
   "source": [
    "%load_ext sparksql_magic"
   ]
  },
  {
   "attachments": {},
   "cell_type": "markdown",
   "id": "6670d8a1",
   "metadata": {},
   "source": [
    "##### Displaying top rows using Spark SQL Query format"
   ]
  },
  {
   "cell_type": "code",
   "execution_count": null,
   "id": "c15dc1e9",
   "metadata": {},
   "outputs": [],
   "source": [
    "%%sparksql\n",
    "select * from airbnb_tmp_view limit 2"
   ]
  },
  {
   "attachments": {},
   "cell_type": "markdown",
   "id": "43b020cf",
   "metadata": {},
   "source": [
    "##### Execute the SQL Spark query without extension"
   ]
  },
  {
   "cell_type": "code",
   "execution_count": null,
   "id": "895212ce",
   "metadata": {},
   "outputs": [],
   "source": [
    "spark.sql(\"select id from airbnb_tmp_view\").show(3)"
   ]
  },
  {
   "attachments": {},
   "cell_type": "markdown",
   "id": "e530c049",
   "metadata": {},
   "source": [
    "#### A query to get the count by using property type"
   ]
  },
  {
   "cell_type": "code",
   "execution_count": null,
   "id": "17945852",
   "metadata": {},
   "outputs": [],
   "source": [
    "%%sparksql \n",
    "select property_type, count(*) As AvgProperty from airbnb_tmp_view group by property_type"
   ]
  },
  {
   "attachments": {},
   "cell_type": "markdown",
   "id": "de4a20f1",
   "metadata": {},
   "source": [
    "#### A Query to get the DIstinct types of beds available"
   ]
  },
  {
   "cell_type": "code",
   "execution_count": null,
   "id": "5e57732e",
   "metadata": {},
   "outputs": [],
   "source": [
    "%%sparksql \n",
    "select DISTINCT(beds) from airbnb_tmp_view"
   ]
  },
  {
   "attachments": {},
   "cell_type": "markdown",
   "id": "2ee1f413",
   "metadata": {},
   "source": [
    "#### A query to get the price of rooms by grouping by property type"
   ]
  },
  {
   "cell_type": "code",
   "execution_count": null,
   "id": "a69c0c34",
   "metadata": {},
   "outputs": [],
   "source": [
    "%%sparksql \n",
    "select property_type, sum(price) As AvgProperty from airbnb_tmp_view group by property_type"
   ]
  },
  {
   "attachments": {},
   "cell_type": "markdown",
   "id": "c63c1f62",
   "metadata": {},
   "source": [
    "#### Creating the separte database only for property type of entire rental unit"
   ]
  },
  {
   "cell_type": "code",
   "execution_count": null,
   "id": "74e2994d",
   "metadata": {},
   "outputs": [],
   "source": [
    "df_unique_propertytype=airbnb_df_spark.filter(\"property_type=='Entire rental unit'\")"
   ]
  },
  {
   "attachments": {},
   "cell_type": "markdown",
   "id": "f9d00f54",
   "metadata": {},
   "source": [
    "#### Creating temporary view for created dataframe of entire rental unit property type"
   ]
  },
  {
   "cell_type": "code",
   "execution_count": null,
   "id": "9f731340",
   "metadata": {},
   "outputs": [],
   "source": [
    "df_unique_propertytype.createOrReplaceTempView(\"airbnb_tmp_view_enterroom\")"
   ]
  },
  {
   "cell_type": "code",
   "execution_count": null,
   "id": "597cccfb",
   "metadata": {},
   "outputs": [],
   "source": [
    "airbnb_dw=spark.sql(\"show tables\").show()"
   ]
  },
  {
   "attachments": {},
   "cell_type": "markdown",
   "id": "79b13e51",
   "metadata": {},
   "source": [
    "#### Query for getting the count of data in that created dataframe"
   ]
  },
  {
   "cell_type": "code",
   "execution_count": null,
   "metadata": {},
   "outputs": [],
   "source": [
    "%%sparksql \n",
    "select Count(*) from airbnb_tmp_view_enterroom"
   ]
  },
  {
   "cell_type": "code",
   "execution_count": null,
   "id": "0a4ad062",
   "metadata": {},
   "outputs": [],
   "source": [
    "%%sparksql \n",
    "select DISTINCT(beds) from airbnb_tmp_view_enterroom"
   ]
  },
  {
   "attachments": {},
   "cell_type": "markdown",
   "id": "df7364cf",
   "metadata": {},
   "source": [
    "##### From the above results, we can say that these are the distinct beds available in the property type of \"entire rent value\""
   ]
  },
  {
   "cell_type": "code",
   "execution_count": null,
   "id": "aa8140b5",
   "metadata": {},
   "outputs": [],
   "source": [
    "# spark.stop()"
   ]
  }
 ],
 "metadata": {
  "kernelspec": {
   "display_name": "spark",
   "language": "python",
   "name": "python3"
  },
  "language_info": {
   "codemirror_mode": {
    "name": "ipython",
    "version": 3
   },
   "file_extension": ".py",
   "mimetype": "text/x-python",
   "name": "python",
   "nbconvert_exporter": "python",
   "pygments_lexer": "ipython3",
   "version": "3.10.10"
  },
  "vscode": {
   "interpreter": {
    "hash": "69cfceaaa8400857ef80a2714b3cfcc0cbcf8331dd502837f1cb39fe233d78c4"
   }
  }
 },
 "nbformat": 4,
 "nbformat_minor": 5
}
