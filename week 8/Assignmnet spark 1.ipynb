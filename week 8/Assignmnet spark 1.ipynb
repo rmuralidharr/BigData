{
 "cells": [
  {
   "attachments": {},
   "cell_type": "markdown",
   "id": "33d6c4bd",
   "metadata": {},
   "source": [
    "ISM6562.002S23\n",
    "\n",
    "Team: APEX\n",
    "\n",
    "Team mebers: Aswith Reddy Kovvuri, Muralidhar Reddy Reddem, Sindhura Alla\n"
   ]
  },
  {
   "attachments": {},
   "cell_type": "markdown",
   "id": "183f42f3",
   "metadata": {},
   "source": [
    "##### About the Dataset:\n",
    "\n",
    "We have chosen one of the most happening cities, New York, for our analysis. The dataset includes 32,500 properties  which are listed in the Airbnb website.\n",
    "\n",
    "Listings, including full descriptions,Host details,Availabilty,Beds ,Bathroom count,Property type, review scores, Reviews, including unique id for each listing the price and availability for that day,\n",
    "\n",
    "About the Source:\n",
    "Airbnb, Inc is an American company that operates an online marketplace for lodging, primarily homestays for vacation rentals, and tourism activities. Based in San Francisco, California, the platform is accessible via website and mobile app. Airbnb does not own any of the listed properties; instead, it profits by receiving commission from each booking. The company was founded in 2008. Airbnb is a shortened version of its original name, AirBedandBreakfast.com.\n",
    "Inside Airbnb is a mission driven project that provides data and advocacy about Airbnb's impact on residential communities, where data and information empower communities to understand, decide and control the role of renting residential homes to tourists.\n",
    "\n",
    "Collaborators\n",
    "Inside Airbnb relies on the kind contribution of a variety of collaborators and partners.\n",
    "* Murray Cox.,\n",
    "* Taylor Higgins. \n",
    "* Alice Corona.\n",
    "* Luca Lamonaca. \n",
    "* Michael \"Ziggy\" Mintz. \n",
    "\n",
    "Technology\n",
    "The site uses the following Open Source technologies:- \n",
    "D3, Bootstrap, Python, PostgreSQL and Google Fonts.\n",
    "Maps are designed in Mapbox with OpenStreetMap data and hosted via Mapbox.\n",
    "The site is served by an Amazon S3 \"bucket\"."
   ]
  },
  {
   "attachments": {},
   "cell_type": "markdown",
   "id": "1ec84f43",
   "metadata": {},
   "source": [
    "##### Importing the Required poackages"
   ]
  },
  {
   "cell_type": "code",
   "execution_count": 1,
   "id": "b0700f58",
   "metadata": {},
   "outputs": [],
   "source": [
    "import pandas as pd"
   ]
  },
  {
   "attachments": {},
   "cell_type": "markdown",
   "id": "c606e37d",
   "metadata": {},
   "source": [
    "##### Reading the data directly from the source"
   ]
  },
  {
   "cell_type": "code",
   "execution_count": 2,
   "id": "1b3d0b8f",
   "metadata": {},
   "outputs": [
    {
     "data": {
      "text/html": [
       "<div>\n",
       "<style scoped>\n",
       "    .dataframe tbody tr th:only-of-type {\n",
       "        vertical-align: middle;\n",
       "    }\n",
       "\n",
       "    .dataframe tbody tr th {\n",
       "        vertical-align: top;\n",
       "    }\n",
       "\n",
       "    .dataframe thead th {\n",
       "        text-align: right;\n",
       "    }\n",
       "</style>\n",
       "<table border=\"1\" class=\"dataframe\">\n",
       "  <thead>\n",
       "    <tr style=\"text-align: right;\">\n",
       "      <th></th>\n",
       "      <th>id</th>\n",
       "      <th>listing_url</th>\n",
       "      <th>scrape_id</th>\n",
       "      <th>last_scraped</th>\n",
       "      <th>source</th>\n",
       "      <th>name</th>\n",
       "      <th>description</th>\n",
       "      <th>neighborhood_overview</th>\n",
       "      <th>picture_url</th>\n",
       "      <th>host_id</th>\n",
       "      <th>...</th>\n",
       "      <th>review_scores_communication</th>\n",
       "      <th>review_scores_location</th>\n",
       "      <th>review_scores_value</th>\n",
       "      <th>license</th>\n",
       "      <th>instant_bookable</th>\n",
       "      <th>calculated_host_listings_count</th>\n",
       "      <th>calculated_host_listings_count_entire_homes</th>\n",
       "      <th>calculated_host_listings_count_private_rooms</th>\n",
       "      <th>calculated_host_listings_count_shared_rooms</th>\n",
       "      <th>reviews_per_month</th>\n",
       "    </tr>\n",
       "  </thead>\n",
       "  <tbody>\n",
       "    <tr>\n",
       "      <th>0</th>\n",
       "      <td>801749842377802394</td>\n",
       "      <td>https://www.airbnb.com/rooms/801749842377802394</td>\n",
       "      <td>20230306014634</td>\n",
       "      <td>2023-03-06</td>\n",
       "      <td>city scrape</td>\n",
       "      <td>A home away from home</td>\n",
       "      <td>The whole group will be comfortable in this sp...</td>\n",
       "      <td>NaN</td>\n",
       "      <td>https://a0.muscache.com/pictures/miso/Hosting-...</td>\n",
       "      <td>495455523</td>\n",
       "      <td>...</td>\n",
       "      <td>NaN</td>\n",
       "      <td>NaN</td>\n",
       "      <td>NaN</td>\n",
       "      <td>NaN</td>\n",
       "      <td>f</td>\n",
       "      <td>1</td>\n",
       "      <td>0</td>\n",
       "      <td>1</td>\n",
       "      <td>0</td>\n",
       "      <td>NaN</td>\n",
       "    </tr>\n",
       "    <tr>\n",
       "      <th>1</th>\n",
       "      <td>765948794133787266</td>\n",
       "      <td>https://www.airbnb.com/rooms/765948794133787266</td>\n",
       "      <td>20230306014634</td>\n",
       "      <td>2023-03-06</td>\n",
       "      <td>city scrape</td>\n",
       "      <td>Brooklyn Refuge</td>\n",
       "      <td>Take a break and unwind at this peaceful oasis.</td>\n",
       "      <td>NaN</td>\n",
       "      <td>https://a0.muscache.com/pictures/miso/Hosting-...</td>\n",
       "      <td>488760226</td>\n",
       "      <td>...</td>\n",
       "      <td>4.92</td>\n",
       "      <td>4.85</td>\n",
       "      <td>4.92</td>\n",
       "      <td>NaN</td>\n",
       "      <td>t</td>\n",
       "      <td>2</td>\n",
       "      <td>1</td>\n",
       "      <td>1</td>\n",
       "      <td>0</td>\n",
       "      <td>4.29</td>\n",
       "    </tr>\n",
       "    <tr>\n",
       "      <th>2</th>\n",
       "      <td>636274456676328779</td>\n",
       "      <td>https://www.airbnb.com/rooms/636274456676328779</td>\n",
       "      <td>20230306014634</td>\n",
       "      <td>2023-03-06</td>\n",
       "      <td>city scrape</td>\n",
       "      <td>Villa Masino.</td>\n",
       "      <td>Close to beach   Peaceful walk to park &amp; beach...</td>\n",
       "      <td>NaN</td>\n",
       "      <td>https://a0.muscache.com/pictures/miso/Hosting-...</td>\n",
       "      <td>461263600</td>\n",
       "      <td>...</td>\n",
       "      <td>NaN</td>\n",
       "      <td>NaN</td>\n",
       "      <td>NaN</td>\n",
       "      <td>NaN</td>\n",
       "      <td>f</td>\n",
       "      <td>1</td>\n",
       "      <td>1</td>\n",
       "      <td>0</td>\n",
       "      <td>0</td>\n",
       "      <td>NaN</td>\n",
       "    </tr>\n",
       "    <tr>\n",
       "      <th>3</th>\n",
       "      <td>768125251187660469</td>\n",
       "      <td>https://www.airbnb.com/rooms/768125251187660469</td>\n",
       "      <td>20230306014634</td>\n",
       "      <td>2023-03-06</td>\n",
       "      <td>city scrape</td>\n",
       "      <td>1-Bedroom Private Room with King Size Bed</td>\n",
       "      <td>Private room with king size bedroom near Sheep...</td>\n",
       "      <td>NaN</td>\n",
       "      <td>https://a0.muscache.com/pictures/miso/Hosting-...</td>\n",
       "      <td>475699129</td>\n",
       "      <td>...</td>\n",
       "      <td>5.00</td>\n",
       "      <td>5.00</td>\n",
       "      <td>5.00</td>\n",
       "      <td>NaN</td>\n",
       "      <td>t</td>\n",
       "      <td>7</td>\n",
       "      <td>0</td>\n",
       "      <td>7</td>\n",
       "      <td>0</td>\n",
       "      <td>5.17</td>\n",
       "    </tr>\n",
       "    <tr>\n",
       "      <th>4</th>\n",
       "      <td>49248255</td>\n",
       "      <td>https://www.airbnb.com/rooms/49248255</td>\n",
       "      <td>20230306014634</td>\n",
       "      <td>2023-03-06</td>\n",
       "      <td>city scrape</td>\n",
       "      <td>Get the best of both worlds in Riverdale!</td>\n",
       "      <td>Welcome to the greatest location if you desire...</td>\n",
       "      <td>You will find within walking distance the Metr...</td>\n",
       "      <td>https://a0.muscache.com/pictures/e8e13cf7-44e9...</td>\n",
       "      <td>397288055</td>\n",
       "      <td>...</td>\n",
       "      <td>4.88</td>\n",
       "      <td>4.72</td>\n",
       "      <td>4.64</td>\n",
       "      <td>NaN</td>\n",
       "      <td>f</td>\n",
       "      <td>1</td>\n",
       "      <td>1</td>\n",
       "      <td>0</td>\n",
       "      <td>0</td>\n",
       "      <td>1.11</td>\n",
       "    </tr>\n",
       "  </tbody>\n",
       "</table>\n",
       "<p>5 rows × 75 columns</p>\n",
       "</div>"
      ],
      "text/plain": [
       "                   id                                      listing_url  \\\n",
       "0  801749842377802394  https://www.airbnb.com/rooms/801749842377802394   \n",
       "1  765948794133787266  https://www.airbnb.com/rooms/765948794133787266   \n",
       "2  636274456676328779  https://www.airbnb.com/rooms/636274456676328779   \n",
       "3  768125251187660469  https://www.airbnb.com/rooms/768125251187660469   \n",
       "4            49248255            https://www.airbnb.com/rooms/49248255   \n",
       "\n",
       "        scrape_id last_scraped       source  \\\n",
       "0  20230306014634   2023-03-06  city scrape   \n",
       "1  20230306014634   2023-03-06  city scrape   \n",
       "2  20230306014634   2023-03-06  city scrape   \n",
       "3  20230306014634   2023-03-06  city scrape   \n",
       "4  20230306014634   2023-03-06  city scrape   \n",
       "\n",
       "                                        name  \\\n",
       "0                      A home away from home   \n",
       "1                            Brooklyn Refuge   \n",
       "2                              Villa Masino.   \n",
       "3  1-Bedroom Private Room with King Size Bed   \n",
       "4  Get the best of both worlds in Riverdale!   \n",
       "\n",
       "                                         description  \\\n",
       "0  The whole group will be comfortable in this sp...   \n",
       "1    Take a break and unwind at this peaceful oasis.   \n",
       "2  Close to beach   Peaceful walk to park & beach...   \n",
       "3  Private room with king size bedroom near Sheep...   \n",
       "4  Welcome to the greatest location if you desire...   \n",
       "\n",
       "                               neighborhood_overview  \\\n",
       "0                                                NaN   \n",
       "1                                                NaN   \n",
       "2                                                NaN   \n",
       "3                                                NaN   \n",
       "4  You will find within walking distance the Metr...   \n",
       "\n",
       "                                         picture_url    host_id  ...  \\\n",
       "0  https://a0.muscache.com/pictures/miso/Hosting-...  495455523  ...   \n",
       "1  https://a0.muscache.com/pictures/miso/Hosting-...  488760226  ...   \n",
       "2  https://a0.muscache.com/pictures/miso/Hosting-...  461263600  ...   \n",
       "3  https://a0.muscache.com/pictures/miso/Hosting-...  475699129  ...   \n",
       "4  https://a0.muscache.com/pictures/e8e13cf7-44e9...  397288055  ...   \n",
       "\n",
       "  review_scores_communication review_scores_location review_scores_value  \\\n",
       "0                         NaN                    NaN                 NaN   \n",
       "1                        4.92                   4.85                4.92   \n",
       "2                         NaN                    NaN                 NaN   \n",
       "3                        5.00                   5.00                5.00   \n",
       "4                        4.88                   4.72                4.64   \n",
       "\n",
       "  license instant_bookable calculated_host_listings_count  \\\n",
       "0     NaN                f                              1   \n",
       "1     NaN                t                              2   \n",
       "2     NaN                f                              1   \n",
       "3     NaN                t                              7   \n",
       "4     NaN                f                              1   \n",
       "\n",
       "  calculated_host_listings_count_entire_homes  \\\n",
       "0                                           0   \n",
       "1                                           1   \n",
       "2                                           1   \n",
       "3                                           0   \n",
       "4                                           1   \n",
       "\n",
       "  calculated_host_listings_count_private_rooms  \\\n",
       "0                                            1   \n",
       "1                                            1   \n",
       "2                                            0   \n",
       "3                                            7   \n",
       "4                                            0   \n",
       "\n",
       "  calculated_host_listings_count_shared_rooms reviews_per_month  \n",
       "0                                           0               NaN  \n",
       "1                                           0              4.29  \n",
       "2                                           0               NaN  \n",
       "3                                           0              5.17  \n",
       "4                                           0              1.11  \n",
       "\n",
       "[5 rows x 75 columns]"
      ]
     },
     "execution_count": 2,
     "metadata": {},
     "output_type": "execute_result"
    }
   ],
   "source": [
    "data_df = pd.read_csv('http://data.insideairbnb.com/united-states/ny/new-york-city/2023-03-06/data/listings.csv.gz', low_memory=False)\n",
    "data_df.head()"
   ]
  },
  {
   "attachments": {},
   "cell_type": "markdown",
   "id": "bff2b003",
   "metadata": {},
   "source": [
    "#### Removing redundant columns:"
   ]
  },
  {
   "cell_type": "code",
   "execution_count": 3,
   "id": "a1399731",
   "metadata": {},
   "outputs": [],
   "source": [
    "\n",
    "cols_to_delete = ['listing_url', 'scrape_id', 'last_scraped', 'source', 'neighborhood_overview', 'host_location', \n",
    "                  'host_about', 'picture_url','host_url','host_since','host_thumbnail_url', 'host_picture_url', \n",
    "                  'host_neighbourhood', 'host_listings_count', 'host_verifications', 'host_has_profile_pic', \n",
    "                  'neighbourhood', 'latitude', 'longitude', 'bathrooms', 'amenities', 'minimum_minimum_nights',\n",
    "                  'maximum_minimum_nights', 'minimum_maximum_nights', 'maximum_maximum_nights', \n",
    "                  'minimum_nights_avg_ntm', 'maximum_nights_avg_ntm', 'calendar_updated', 'calendar_last_scraped', \n",
    "                  'number_of_reviews_ltm', 'number_of_reviews_l30d', 'first_review', 'last_review', 'license', \n",
    "                  'calculated_host_listings_count', 'calculated_host_listings_count_entire_homes', \n",
    "                  'calculated_host_listings_count_private_rooms', 'calculated_host_listings_count_shared_rooms', \n",
    "                  'host_response_time', 'host_response_rate', 'host_acceptance_rate']"
   ]
  },
  {
   "cell_type": "code",
   "execution_count": 4,
   "id": "b495841f",
   "metadata": {},
   "outputs": [
    {
     "data": {
      "text/html": [
       "<div>\n",
       "<style scoped>\n",
       "    .dataframe tbody tr th:only-of-type {\n",
       "        vertical-align: middle;\n",
       "    }\n",
       "\n",
       "    .dataframe tbody tr th {\n",
       "        vertical-align: top;\n",
       "    }\n",
       "\n",
       "    .dataframe thead th {\n",
       "        text-align: right;\n",
       "    }\n",
       "</style>\n",
       "<table border=\"1\" class=\"dataframe\">\n",
       "  <thead>\n",
       "    <tr style=\"text-align: right;\">\n",
       "      <th></th>\n",
       "      <th>id</th>\n",
       "      <th>name</th>\n",
       "      <th>description</th>\n",
       "      <th>host_id</th>\n",
       "      <th>host_name</th>\n",
       "      <th>host_is_superhost</th>\n",
       "      <th>host_total_listings_count</th>\n",
       "      <th>host_identity_verified</th>\n",
       "      <th>neighbourhood_cleansed</th>\n",
       "      <th>neighbourhood_group_cleansed</th>\n",
       "      <th>...</th>\n",
       "      <th>number_of_reviews</th>\n",
       "      <th>review_scores_rating</th>\n",
       "      <th>review_scores_accuracy</th>\n",
       "      <th>review_scores_cleanliness</th>\n",
       "      <th>review_scores_checkin</th>\n",
       "      <th>review_scores_communication</th>\n",
       "      <th>review_scores_location</th>\n",
       "      <th>review_scores_value</th>\n",
       "      <th>instant_bookable</th>\n",
       "      <th>reviews_per_month</th>\n",
       "    </tr>\n",
       "  </thead>\n",
       "  <tbody>\n",
       "    <tr>\n",
       "      <th>0</th>\n",
       "      <td>801749842377802394</td>\n",
       "      <td>A home away from home</td>\n",
       "      <td>The whole group will be comfortable in this sp...</td>\n",
       "      <td>495455523</td>\n",
       "      <td>Michael</td>\n",
       "      <td>f</td>\n",
       "      <td>1.0</td>\n",
       "      <td>f</td>\n",
       "      <td>Canarsie</td>\n",
       "      <td>Brooklyn</td>\n",
       "      <td>...</td>\n",
       "      <td>0</td>\n",
       "      <td>NaN</td>\n",
       "      <td>NaN</td>\n",
       "      <td>NaN</td>\n",
       "      <td>NaN</td>\n",
       "      <td>NaN</td>\n",
       "      <td>NaN</td>\n",
       "      <td>NaN</td>\n",
       "      <td>f</td>\n",
       "      <td>NaN</td>\n",
       "    </tr>\n",
       "    <tr>\n",
       "      <th>1</th>\n",
       "      <td>765948794133787266</td>\n",
       "      <td>Brooklyn Refuge</td>\n",
       "      <td>Take a break and unwind at this peaceful oasis.</td>\n",
       "      <td>488760226</td>\n",
       "      <td>Eric</td>\n",
       "      <td>f</td>\n",
       "      <td>5.0</td>\n",
       "      <td>t</td>\n",
       "      <td>Canarsie</td>\n",
       "      <td>Brooklyn</td>\n",
       "      <td>...</td>\n",
       "      <td>13</td>\n",
       "      <td>4.85</td>\n",
       "      <td>4.77</td>\n",
       "      <td>4.77</td>\n",
       "      <td>4.85</td>\n",
       "      <td>4.92</td>\n",
       "      <td>4.85</td>\n",
       "      <td>4.92</td>\n",
       "      <td>t</td>\n",
       "      <td>4.29</td>\n",
       "    </tr>\n",
       "    <tr>\n",
       "      <th>2</th>\n",
       "      <td>636274456676328779</td>\n",
       "      <td>Villa Masino.</td>\n",
       "      <td>Close to beach   Peaceful walk to park &amp; beach...</td>\n",
       "      <td>461263600</td>\n",
       "      <td>Tommaso</td>\n",
       "      <td>f</td>\n",
       "      <td>1.0</td>\n",
       "      <td>f</td>\n",
       "      <td>Tottenville</td>\n",
       "      <td>Staten Island</td>\n",
       "      <td>...</td>\n",
       "      <td>0</td>\n",
       "      <td>NaN</td>\n",
       "      <td>NaN</td>\n",
       "      <td>NaN</td>\n",
       "      <td>NaN</td>\n",
       "      <td>NaN</td>\n",
       "      <td>NaN</td>\n",
       "      <td>NaN</td>\n",
       "      <td>f</td>\n",
       "      <td>NaN</td>\n",
       "    </tr>\n",
       "    <tr>\n",
       "      <th>3</th>\n",
       "      <td>768125251187660469</td>\n",
       "      <td>1-Bedroom Private Room with King Size Bed</td>\n",
       "      <td>Private room with king size bedroom near Sheep...</td>\n",
       "      <td>475699129</td>\n",
       "      <td>Suliman</td>\n",
       "      <td>t</td>\n",
       "      <td>7.0</td>\n",
       "      <td>t</td>\n",
       "      <td>Sheepshead Bay</td>\n",
       "      <td>Brooklyn</td>\n",
       "      <td>...</td>\n",
       "      <td>15</td>\n",
       "      <td>5.00</td>\n",
       "      <td>5.00</td>\n",
       "      <td>4.87</td>\n",
       "      <td>5.00</td>\n",
       "      <td>5.00</td>\n",
       "      <td>5.00</td>\n",
       "      <td>5.00</td>\n",
       "      <td>t</td>\n",
       "      <td>5.17</td>\n",
       "    </tr>\n",
       "    <tr>\n",
       "      <th>4</th>\n",
       "      <td>49248255</td>\n",
       "      <td>Get the best of both worlds in Riverdale!</td>\n",
       "      <td>Welcome to the greatest location if you desire...</td>\n",
       "      <td>397288055</td>\n",
       "      <td>Katherine</td>\n",
       "      <td>f</td>\n",
       "      <td>2.0</td>\n",
       "      <td>t</td>\n",
       "      <td>North Riverdale</td>\n",
       "      <td>Bronx</td>\n",
       "      <td>...</td>\n",
       "      <td>25</td>\n",
       "      <td>4.48</td>\n",
       "      <td>4.56</td>\n",
       "      <td>4.44</td>\n",
       "      <td>4.72</td>\n",
       "      <td>4.88</td>\n",
       "      <td>4.72</td>\n",
       "      <td>4.64</td>\n",
       "      <td>f</td>\n",
       "      <td>1.11</td>\n",
       "    </tr>\n",
       "  </tbody>\n",
       "</table>\n",
       "<p>5 rows × 34 columns</p>\n",
       "</div>"
      ],
      "text/plain": [
       "                   id                                       name  \\\n",
       "0  801749842377802394                      A home away from home   \n",
       "1  765948794133787266                            Brooklyn Refuge   \n",
       "2  636274456676328779                              Villa Masino.   \n",
       "3  768125251187660469  1-Bedroom Private Room with King Size Bed   \n",
       "4            49248255  Get the best of both worlds in Riverdale!   \n",
       "\n",
       "                                         description    host_id  host_name  \\\n",
       "0  The whole group will be comfortable in this sp...  495455523    Michael   \n",
       "1    Take a break and unwind at this peaceful oasis.  488760226       Eric   \n",
       "2  Close to beach   Peaceful walk to park & beach...  461263600    Tommaso   \n",
       "3  Private room with king size bedroom near Sheep...  475699129    Suliman   \n",
       "4  Welcome to the greatest location if you desire...  397288055  Katherine   \n",
       "\n",
       "  host_is_superhost  host_total_listings_count host_identity_verified  \\\n",
       "0                 f                        1.0                      f   \n",
       "1                 f                        5.0                      t   \n",
       "2                 f                        1.0                      f   \n",
       "3                 t                        7.0                      t   \n",
       "4                 f                        2.0                      t   \n",
       "\n",
       "  neighbourhood_cleansed neighbourhood_group_cleansed  ... number_of_reviews  \\\n",
       "0               Canarsie                     Brooklyn  ...                 0   \n",
       "1               Canarsie                     Brooklyn  ...                13   \n",
       "2            Tottenville                Staten Island  ...                 0   \n",
       "3         Sheepshead Bay                     Brooklyn  ...                15   \n",
       "4        North Riverdale                        Bronx  ...                25   \n",
       "\n",
       "  review_scores_rating  review_scores_accuracy review_scores_cleanliness  \\\n",
       "0                  NaN                     NaN                       NaN   \n",
       "1                 4.85                    4.77                      4.77   \n",
       "2                  NaN                     NaN                       NaN   \n",
       "3                 5.00                    5.00                      4.87   \n",
       "4                 4.48                    4.56                      4.44   \n",
       "\n",
       "   review_scores_checkin  review_scores_communication review_scores_location  \\\n",
       "0                    NaN                          NaN                    NaN   \n",
       "1                   4.85                         4.92                   4.85   \n",
       "2                    NaN                          NaN                    NaN   \n",
       "3                   5.00                         5.00                   5.00   \n",
       "4                   4.72                         4.88                   4.72   \n",
       "\n",
       "   review_scores_value  instant_bookable reviews_per_month  \n",
       "0                  NaN                 f               NaN  \n",
       "1                 4.92                 t              4.29  \n",
       "2                  NaN                 f               NaN  \n",
       "3                 5.00                 t              5.17  \n",
       "4                 4.64                 f              1.11  \n",
       "\n",
       "[5 rows x 34 columns]"
      ]
     },
     "execution_count": 4,
     "metadata": {},
     "output_type": "execute_result"
    }
   ],
   "source": [
    "data_df = data_df.drop(cols_to_delete, axis=1)\n",
    "data_df.head()"
   ]
  },
  {
   "attachments": {},
   "cell_type": "markdown",
   "id": "3399cd25",
   "metadata": {},
   "source": [
    "#### Renaming the columns"
   ]
  },
  {
   "cell_type": "code",
   "execution_count": 5,
   "id": "9fa5d3fa",
   "metadata": {},
   "outputs": [
    {
     "name": "stdout",
     "output_type": "stream",
     "text": [
      "Index(['id', 'name', 'description', 'host_id', 'host_name',\n",
      "       'host_is_superhost', 'host_total_listings_count',\n",
      "       'host_identity_verified', 'neighbourhood_cleansed',\n",
      "       'neighbourhood_group_cleansed', 'property_type', 'room_type',\n",
      "       'accommodates', 'bathrooms_text', 'bedrooms', 'beds', 'price',\n",
      "       'minimum_nights', 'maximum_nights', 'has_availability',\n",
      "       'availability_30', 'availability_60', 'availability_90',\n",
      "       'availability_365', 'number_of_reviews', 'review_scores_rating',\n",
      "       'review_scores_accuracy', 'review_scores_cleanliness',\n",
      "       'review_scores_checkin', 'review_scores_communication',\n",
      "       'review_scores_location', 'review_scores_value', 'instant_bookable',\n",
      "       'reviews_per_month'],\n",
      "      dtype='object')\n",
      "Index(['id', 'name', 'description', 'host_id', 'host_name',\n",
      "       'host_is_superhost', 'host_total_listings_count',\n",
      "       'host_identity_verified', 'neighbourhood', 'neighbourhood_group',\n",
      "       'property_type', 'room_type', 'accommodates', 'bathrooms', 'bedrooms',\n",
      "       'beds', 'price', 'minimum_nights', 'maximum_nights', 'has_availability',\n",
      "       'availability_30', 'availability_60', 'availability_90',\n",
      "       'availability_365', 'number_of_reviews', 'review_scores_rating',\n",
      "       'review_scores_accuracy', 'review_scores_cleanliness',\n",
      "       'review_scores_checkin', 'review_scores_communication',\n",
      "       'review_scores_location', 'review_scores_value', 'instant_bookable',\n",
      "       'reviews_per_month'],\n",
      "      dtype='object')\n"
     ]
    },
    {
     "data": {
      "text/html": [
       "<div>\n",
       "<style scoped>\n",
       "    .dataframe tbody tr th:only-of-type {\n",
       "        vertical-align: middle;\n",
       "    }\n",
       "\n",
       "    .dataframe tbody tr th {\n",
       "        vertical-align: top;\n",
       "    }\n",
       "\n",
       "    .dataframe thead th {\n",
       "        text-align: right;\n",
       "    }\n",
       "</style>\n",
       "<table border=\"1\" class=\"dataframe\">\n",
       "  <thead>\n",
       "    <tr style=\"text-align: right;\">\n",
       "      <th></th>\n",
       "      <th>id</th>\n",
       "      <th>name</th>\n",
       "      <th>description</th>\n",
       "      <th>host_id</th>\n",
       "      <th>host_name</th>\n",
       "      <th>host_is_superhost</th>\n",
       "      <th>host_total_listings_count</th>\n",
       "      <th>host_identity_verified</th>\n",
       "      <th>neighbourhood</th>\n",
       "      <th>neighbourhood_group</th>\n",
       "      <th>...</th>\n",
       "      <th>number_of_reviews</th>\n",
       "      <th>review_scores_rating</th>\n",
       "      <th>review_scores_accuracy</th>\n",
       "      <th>review_scores_cleanliness</th>\n",
       "      <th>review_scores_checkin</th>\n",
       "      <th>review_scores_communication</th>\n",
       "      <th>review_scores_location</th>\n",
       "      <th>review_scores_value</th>\n",
       "      <th>instant_bookable</th>\n",
       "      <th>reviews_per_month</th>\n",
       "    </tr>\n",
       "  </thead>\n",
       "  <tbody>\n",
       "    <tr>\n",
       "      <th>0</th>\n",
       "      <td>801749842377802394</td>\n",
       "      <td>A home away from home</td>\n",
       "      <td>The whole group will be comfortable in this sp...</td>\n",
       "      <td>495455523</td>\n",
       "      <td>Michael</td>\n",
       "      <td>f</td>\n",
       "      <td>1.0</td>\n",
       "      <td>f</td>\n",
       "      <td>Canarsie</td>\n",
       "      <td>Brooklyn</td>\n",
       "      <td>...</td>\n",
       "      <td>0</td>\n",
       "      <td>NaN</td>\n",
       "      <td>NaN</td>\n",
       "      <td>NaN</td>\n",
       "      <td>NaN</td>\n",
       "      <td>NaN</td>\n",
       "      <td>NaN</td>\n",
       "      <td>NaN</td>\n",
       "      <td>f</td>\n",
       "      <td>NaN</td>\n",
       "    </tr>\n",
       "    <tr>\n",
       "      <th>1</th>\n",
       "      <td>765948794133787266</td>\n",
       "      <td>Brooklyn Refuge</td>\n",
       "      <td>Take a break and unwind at this peaceful oasis.</td>\n",
       "      <td>488760226</td>\n",
       "      <td>Eric</td>\n",
       "      <td>f</td>\n",
       "      <td>5.0</td>\n",
       "      <td>t</td>\n",
       "      <td>Canarsie</td>\n",
       "      <td>Brooklyn</td>\n",
       "      <td>...</td>\n",
       "      <td>13</td>\n",
       "      <td>4.85</td>\n",
       "      <td>4.77</td>\n",
       "      <td>4.77</td>\n",
       "      <td>4.85</td>\n",
       "      <td>4.92</td>\n",
       "      <td>4.85</td>\n",
       "      <td>4.92</td>\n",
       "      <td>t</td>\n",
       "      <td>4.29</td>\n",
       "    </tr>\n",
       "    <tr>\n",
       "      <th>2</th>\n",
       "      <td>636274456676328779</td>\n",
       "      <td>Villa Masino.</td>\n",
       "      <td>Close to beach   Peaceful walk to park &amp; beach...</td>\n",
       "      <td>461263600</td>\n",
       "      <td>Tommaso</td>\n",
       "      <td>f</td>\n",
       "      <td>1.0</td>\n",
       "      <td>f</td>\n",
       "      <td>Tottenville</td>\n",
       "      <td>Staten Island</td>\n",
       "      <td>...</td>\n",
       "      <td>0</td>\n",
       "      <td>NaN</td>\n",
       "      <td>NaN</td>\n",
       "      <td>NaN</td>\n",
       "      <td>NaN</td>\n",
       "      <td>NaN</td>\n",
       "      <td>NaN</td>\n",
       "      <td>NaN</td>\n",
       "      <td>f</td>\n",
       "      <td>NaN</td>\n",
       "    </tr>\n",
       "    <tr>\n",
       "      <th>3</th>\n",
       "      <td>768125251187660469</td>\n",
       "      <td>1-Bedroom Private Room with King Size Bed</td>\n",
       "      <td>Private room with king size bedroom near Sheep...</td>\n",
       "      <td>475699129</td>\n",
       "      <td>Suliman</td>\n",
       "      <td>t</td>\n",
       "      <td>7.0</td>\n",
       "      <td>t</td>\n",
       "      <td>Sheepshead Bay</td>\n",
       "      <td>Brooklyn</td>\n",
       "      <td>...</td>\n",
       "      <td>15</td>\n",
       "      <td>5.00</td>\n",
       "      <td>5.00</td>\n",
       "      <td>4.87</td>\n",
       "      <td>5.00</td>\n",
       "      <td>5.00</td>\n",
       "      <td>5.00</td>\n",
       "      <td>5.00</td>\n",
       "      <td>t</td>\n",
       "      <td>5.17</td>\n",
       "    </tr>\n",
       "    <tr>\n",
       "      <th>4</th>\n",
       "      <td>49248255</td>\n",
       "      <td>Get the best of both worlds in Riverdale!</td>\n",
       "      <td>Welcome to the greatest location if you desire...</td>\n",
       "      <td>397288055</td>\n",
       "      <td>Katherine</td>\n",
       "      <td>f</td>\n",
       "      <td>2.0</td>\n",
       "      <td>t</td>\n",
       "      <td>North Riverdale</td>\n",
       "      <td>Bronx</td>\n",
       "      <td>...</td>\n",
       "      <td>25</td>\n",
       "      <td>4.48</td>\n",
       "      <td>4.56</td>\n",
       "      <td>4.44</td>\n",
       "      <td>4.72</td>\n",
       "      <td>4.88</td>\n",
       "      <td>4.72</td>\n",
       "      <td>4.64</td>\n",
       "      <td>f</td>\n",
       "      <td>1.11</td>\n",
       "    </tr>\n",
       "  </tbody>\n",
       "</table>\n",
       "<p>5 rows × 34 columns</p>\n",
       "</div>"
      ],
      "text/plain": [
       "                   id                                       name  \\\n",
       "0  801749842377802394                      A home away from home   \n",
       "1  765948794133787266                            Brooklyn Refuge   \n",
       "2  636274456676328779                              Villa Masino.   \n",
       "3  768125251187660469  1-Bedroom Private Room with King Size Bed   \n",
       "4            49248255  Get the best of both worlds in Riverdale!   \n",
       "\n",
       "                                         description    host_id  host_name  \\\n",
       "0  The whole group will be comfortable in this sp...  495455523    Michael   \n",
       "1    Take a break and unwind at this peaceful oasis.  488760226       Eric   \n",
       "2  Close to beach   Peaceful walk to park & beach...  461263600    Tommaso   \n",
       "3  Private room with king size bedroom near Sheep...  475699129    Suliman   \n",
       "4  Welcome to the greatest location if you desire...  397288055  Katherine   \n",
       "\n",
       "  host_is_superhost  host_total_listings_count host_identity_verified  \\\n",
       "0                 f                        1.0                      f   \n",
       "1                 f                        5.0                      t   \n",
       "2                 f                        1.0                      f   \n",
       "3                 t                        7.0                      t   \n",
       "4                 f                        2.0                      t   \n",
       "\n",
       "     neighbourhood neighbourhood_group  ... number_of_reviews  \\\n",
       "0         Canarsie            Brooklyn  ...                 0   \n",
       "1         Canarsie            Brooklyn  ...                13   \n",
       "2      Tottenville       Staten Island  ...                 0   \n",
       "3   Sheepshead Bay            Brooklyn  ...                15   \n",
       "4  North Riverdale               Bronx  ...                25   \n",
       "\n",
       "  review_scores_rating  review_scores_accuracy review_scores_cleanliness  \\\n",
       "0                  NaN                     NaN                       NaN   \n",
       "1                 4.85                    4.77                      4.77   \n",
       "2                  NaN                     NaN                       NaN   \n",
       "3                 5.00                    5.00                      4.87   \n",
       "4                 4.48                    4.56                      4.44   \n",
       "\n",
       "   review_scores_checkin  review_scores_communication review_scores_location  \\\n",
       "0                    NaN                          NaN                    NaN   \n",
       "1                   4.85                         4.92                   4.85   \n",
       "2                    NaN                          NaN                    NaN   \n",
       "3                   5.00                         5.00                   5.00   \n",
       "4                   4.72                         4.88                   4.72   \n",
       "\n",
       "   review_scores_value  instant_bookable reviews_per_month  \n",
       "0                  NaN                 f               NaN  \n",
       "1                 4.92                 t              4.29  \n",
       "2                  NaN                 f               NaN  \n",
       "3                 5.00                 t              5.17  \n",
       "4                 4.64                 f              1.11  \n",
       "\n",
       "[5 rows x 34 columns]"
      ]
     },
     "execution_count": 5,
     "metadata": {},
     "output_type": "execute_result"
    }
   ],
   "source": [
    "\n",
    "print(data_df.columns)\n",
    "data_df = data_df.rename(columns={'neighbourhood_cleansed': 'neighbourhood', \n",
    "                                  'neighbourhood_group_cleansed': 'neighbourhood_group',\n",
    "                                  'bathrooms_text': 'bathrooms'})\n",
    "print(data_df.columns)\n",
    "data_df.head()"
   ]
  },
  {
   "attachments": {},
   "cell_type": "markdown",
   "id": "5ad56eb5",
   "metadata": {},
   "source": [
    "#### Cleaning and reformating thd data"
   ]
  },
  {
   "cell_type": "code",
   "execution_count": 6,
   "id": "bc3baed8",
   "metadata": {},
   "outputs": [],
   "source": [
    "\n",
    "# Removing rows with null ratings as ratings are important factor for price\n",
    "data_df = data_df[~data_df['review_scores_rating'].isna()]\n",
    "# Other review columns that are null can be reasonably assumed to have same rating as review_scores_rating\n",
    "for rating_col in ['review_scores_accuracy', 'review_scores_cleanliness', 'review_scores_checkin', 'review_scores_communication', 'review_scores_location', 'review_scores_value']:\n",
    "    idx = data_df[rating_col].isna()\n",
    "    data_df.loc[idx, rating_col] = data_df.loc[idx, 'review_scores_rating']"
   ]
  },
  {
   "cell_type": "code",
   "execution_count": 7,
   "id": "74d356dd",
   "metadata": {},
   "outputs": [
    {
     "name": "stdout",
     "output_type": "stream",
     "text": [
      "[1. 2. 3. 6. 4.]\n"
     ]
    }
   ],
   "source": [
    "# Handling beds and bedrooms nan values\n",
    "# Handling cases where there are number of beds but not bedrooms\n",
    "idx = (data_df['bedrooms'].isna() & ~data_df['beds'].isna())\n",
    "print(data_df.loc[idx, 'beds'].unique())\n",
    "# Assuming 1 bedroom beds 2 people, use beds to determine number of bedrooms\n",
    "data_df.loc[idx, 'bedrooms'] = data_df.loc[idx, 'beds'] / 2\n",
    "# Using same assumption, fill na values in beds if there are bedrooms\n",
    "idx = (~data_df['bedrooms'].isna()) & (data_df['beds'].isna())\n",
    "data_df.loc[idx, 'beds'] = data_df.loc[idx, 'bedrooms'] * 2\n",
    "# Finally removing rows that have no beds or bedrooms\n",
    "data_df = data_df.dropna(subset=['beds', 'bedrooms'], axis=0)"
   ]
  },
  {
   "cell_type": "code",
   "execution_count": 8,
   "id": "f3d6cf5c",
   "metadata": {},
   "outputs": [],
   "source": [
    "# Replacing f, t in boolean columns to 0, 1\n",
    "bool_cols = ['host_is_superhost', 'host_identity_verified', 'has_availability', 'instant_bookable']\n",
    "for bool_col in bool_cols:\n",
    "    data_df[bool_col] = data_df[bool_col].fillna('f')\n",
    "    data_df[bool_col] = data_df[bool_col].map({'f': 0, 't': 1})"
   ]
  },
  {
   "cell_type": "code",
   "execution_count": 9,
   "id": "586c22d4",
   "metadata": {},
   "outputs": [
    {
     "name": "stderr",
     "output_type": "stream",
     "text": [
      "C:\\Users\\rmura\\AppData\\Local\\Temp\\ipykernel_17732\\828959481.py:3: FutureWarning: The default value of regex will change from True to False in a future version. In addition, single character regular expressions will *not* be treated as literal strings when regex=True.\n",
      "  data_df['price'] = data_df['price'].str.replace('$', '').str.replace(',', '').astype('float')\n"
     ]
    }
   ],
   "source": [
    "# Removing rows that have 0 price as it's erroneous to have zero price for a listing\n",
    "# Converting string to float column\n",
    "data_df['price'] = data_df['price'].str.replace('$', '').str.replace(',', '').astype('float')\n",
    "data_df = data_df[data_df['price'] > 1]"
   ]
  },
  {
   "cell_type": "code",
   "execution_count": 10,
   "id": "59f82929",
   "metadata": {},
   "outputs": [],
   "source": [
    "# Replacing nan in str columns to Unknown\n",
    "str_cols = ['name', 'description', 'host_name', 'bathrooms']\n",
    "for str_col in str_cols:\n",
    "    data_df[str_col] = data_df[str_col].fillna('Unknown')"
   ]
  },
  {
   "cell_type": "code",
   "execution_count": 11,
   "id": "cc824413",
   "metadata": {},
   "outputs": [],
   "source": [
    "# # Approx 3 rows with nan for host_total_listings_count, reasonable to replace with 1\n",
    "data_df['host_total_listings_count'] = data_df['host_total_listings_count'].fillna(1)"
   ]
  },
  {
   "cell_type": "code",
   "execution_count": 12,
   "id": "5e5990e7",
   "metadata": {},
   "outputs": [
    {
     "data": {
      "text/plain": [
       "1     30.0\n",
       "3     89.0\n",
       "4    125.0\n",
       "5     63.0\n",
       "7    118.0\n",
       "Name: price, dtype: float64"
      ]
     },
     "execution_count": 12,
     "metadata": {},
     "output_type": "execute_result"
    }
   ],
   "source": [
    "data_df['price'].head()"
   ]
  },
  {
   "cell_type": "code",
   "execution_count": 13,
   "id": "eef4009f",
   "metadata": {},
   "outputs": [
    {
     "name": "stdout",
     "output_type": "stream",
     "text": [
      "<class 'pandas.core.frame.DataFrame'>\n",
      "Int64Index: 32504 entries, 1 to 42930\n",
      "Data columns (total 34 columns):\n",
      " #   Column                       Non-Null Count  Dtype  \n",
      "---  ------                       --------------  -----  \n",
      " 0   id                           32504 non-null  int64  \n",
      " 1   name                         32504 non-null  object \n",
      " 2   description                  32504 non-null  object \n",
      " 3   host_id                      32504 non-null  int64  \n",
      " 4   host_name                    32504 non-null  object \n",
      " 5   host_is_superhost            32504 non-null  int64  \n",
      " 6   host_total_listings_count    32504 non-null  float64\n",
      " 7   host_identity_verified       32504 non-null  int64  \n",
      " 8   neighbourhood                32504 non-null  object \n",
      " 9   neighbourhood_group          32504 non-null  object \n",
      " 10  property_type                32504 non-null  object \n",
      " 11  room_type                    32504 non-null  object \n",
      " 12  accommodates                 32504 non-null  int64  \n",
      " 13  bathrooms                    32504 non-null  object \n",
      " 14  bedrooms                     32504 non-null  float64\n",
      " 15  beds                         32504 non-null  float64\n",
      " 16  price                        32504 non-null  float64\n",
      " 17  minimum_nights               32504 non-null  int64  \n",
      " 18  maximum_nights               32504 non-null  int64  \n",
      " 19  has_availability             32504 non-null  int64  \n",
      " 20  availability_30              32504 non-null  int64  \n",
      " 21  availability_60              32504 non-null  int64  \n",
      " 22  availability_90              32504 non-null  int64  \n",
      " 23  availability_365             32504 non-null  int64  \n",
      " 24  number_of_reviews            32504 non-null  int64  \n",
      " 25  review_scores_rating         32504 non-null  float64\n",
      " 26  review_scores_accuracy       32504 non-null  float64\n",
      " 27  review_scores_cleanliness    32504 non-null  float64\n",
      " 28  review_scores_checkin        32504 non-null  float64\n",
      " 29  review_scores_communication  32504 non-null  float64\n",
      " 30  review_scores_location       32504 non-null  float64\n",
      " 31  review_scores_value          32504 non-null  float64\n",
      " 32  instant_bookable             32504 non-null  int64  \n",
      " 33  reviews_per_month            32504 non-null  float64\n",
      "dtypes: float64(12), int64(14), object(8)\n",
      "memory usage: 8.7+ MB\n"
     ]
    }
   ],
   "source": [
    "data_df.info()"
   ]
  },
  {
   "attachments": {},
   "cell_type": "markdown",
   "id": "3e58b9fa",
   "metadata": {},
   "source": [
    "import required pyspark and findspark related"
   ]
  },
  {
   "cell_type": "code",
   "execution_count": 14,
   "id": "2b0674f8",
   "metadata": {},
   "outputs": [],
   "source": [
    "import findspark\n",
    "from pyspark.sql import SparkSession;\n",
    "import pandas as pd\n",
    "findspark.init()"
   ]
  },
  {
   "attachments": {},
   "cell_type": "markdown",
   "id": "d8fa57b2",
   "metadata": {},
   "source": [
    "##### Create spark session with required ports"
   ]
  },
  {
   "cell_type": "code",
   "execution_count": 15,
   "id": "397c8d3c",
   "metadata": {},
   "outputs": [
    {
     "name": "stdout",
     "output_type": "stream",
     "text": [
      "Spark Session WebUI Port: 4041\n"
     ]
    }
   ],
   "source": [
    "spark = SparkSession.builder.master(\"local[4]\").appName(\"ISM6562 Spark App01\").enableHiveSupport().getOrCreate();\n",
    "spark_session_port = spark.sparkContext.uiWebUrl.split(\":\")[-1]\n",
    "print(\"Spark Session WebUI Port: \" + spark_session_port)"
   ]
  },
  {
   "attachments": {},
   "cell_type": "markdown",
   "id": "63e1102c",
   "metadata": {},
   "source": [
    "##### craete sprak content while allow python to perfom operaton in spark"
   ]
  },
  {
   "cell_type": "code",
   "execution_count": 16,
   "id": "1bc9d945",
   "metadata": {},
   "outputs": [],
   "source": [
    "sc=spark.sparkContext\n"
   ]
  },
  {
   "attachments": {},
   "cell_type": "markdown",
   "id": "31e132b9",
   "metadata": {},
   "source": [
    "##### Setting only log error in spark log set"
   ]
  },
  {
   "cell_type": "code",
   "execution_count": 17,
   "id": "9e50bb29",
   "metadata": {},
   "outputs": [],
   "source": [
    "sc.setLogLevel(\"ERROR\")"
   ]
  },
  {
   "cell_type": "code",
   "execution_count": null,
   "id": "38bdd0fe",
   "metadata": {},
   "outputs": [],
   "source": []
  },
  {
   "attachments": {},
   "cell_type": "markdown",
   "id": "9a862033",
   "metadata": {},
   "source": [
    "# read data using pandas & pass pandas data frame to spark"
   ]
  },
  {
   "cell_type": "code",
   "execution_count": 18,
   "id": "ef40f6a9",
   "metadata": {},
   "outputs": [],
   "source": [
    "# airbnb_df = pd.read_csv('Airbnb2.csv')\n",
    "# airbnb_df.head()"
   ]
  },
  {
   "cell_type": "code",
   "execution_count": 19,
   "id": "075fb117",
   "metadata": {},
   "outputs": [],
   "source": [
    "# #airbnb_df_spark = spark.createDataFrame(airbnb_df,  )\n",
    "# airbnb_df_spark = spark.read.csv(\"airbnb2.csv\",header= True)\n",
    "# airbnb_df_spark.show()\n"
   ]
  },
  {
   "attachments": {},
   "cell_type": "markdown",
   "id": "97bdf6f3",
   "metadata": {},
   "source": [
    "##### import required spark data types for"
   ]
  },
  {
   "cell_type": "code",
   "execution_count": 20,
   "id": "aaed7763",
   "metadata": {},
   "outputs": [],
   "source": [
    "from pyspark.sql.types import StructType,DoubleType,StructField,BooleanType,FloatType,StringType, IntegerType, DateType, LongType"
   ]
  },
  {
   "cell_type": "code",
   "execution_count": 23,
   "id": "724d3eaf",
   "metadata": {},
   "outputs": [],
   "source": [
    "\n",
    "mySchema = StructType([ StructField(\"id\", LongType(), True),\n",
    "StructField(\"name\", StringType(), True),\n",
    "StructField(\"description\", StringType(), True),\n",
    "StructField(\"host_id\", StringType(), True),\n",
    "StructField(\"host_name\", StringType(), True),\n",
    "StructField(\"host_is_superhost\", StringType(), True),\n",
    "StructField(\"host_total_listings_count\", StringType(), True),\n",
    "StructField(\"host_identity_verified\", StringType(), True),\n",
    "StructField(\"neighbourhood\", StringType(), True),\n",
    "StructField(\"neighbourhood_group\", StringType(), True),\n",
    "StructField(\"property_type\", StringType(), True),\n",
    "StructField(\"room_type\", StringType(), True),\n",
    "StructField(\"accommodates\", StringType(), True),\n",
    "StructField(\"bathrooms\", StringType(), True),\n",
    "StructField(\"bedrooms\", StringType(), True),\n",
    "StructField(\"beds\", IntegerType(), True),\n",
    "StructField(\"price\", FloatType(), True),\n",
    "StructField(\"maximum_nights\", StringType(), True),\n",
    "StructField(\"minimum_nights\", StringType(), True),\n",
    "StructField(\"has_availability\", StringType(), True),\n",
    "StructField(\"availability_30\", StringType(), True),\n",
    "StructField(\"availability_60\", StringType(), True),\n",
    "StructField(\"availability_90\", StringType(), True),\n",
    "StructField(\"availability_365\", StringType(), True),\n",
    "StructField(\"number_of_reviews\", StringType(), True),\n",
    "StructField(\"review_scores_rating\", StringType(), True),\n",
    "StructField(\"review_scores_accuracy\", StringType(), True),\n",
    "StructField(\"review_scores_cleanliness\", StringType(), True),\n",
    "StructField(\"review_scores_checkin\", StringType(), True),\n",
    "StructField(\"review_scores_communication\", StringType(), True),\n",
    "StructField(\"review_scores_location\", StringType(), True),\n",
    "StructField(\"review_scores_value\", StringType(), True),\n",
    "StructField(\"instant_bookable\", StringType(), True),\n",
    "StructField(\"reviews_per_month\", StringType(), True)])"
   ]
  },
  {
   "cell_type": "code",
   "execution_count": 37,
   "id": "29a6eaaa",
   "metadata": {},
   "outputs": [
    {
     "ename": "AnalysisException",
     "evalue": "Found duplicate column(s) in the data schema: `maximum_nights`",
     "output_type": "error",
     "traceback": [
      "\u001b[1;31m---------------------------------------------------------------------------\u001b[0m",
      "\u001b[1;31mAnalysisException\u001b[0m                         Traceback (most recent call last)",
      "Cell \u001b[1;32mIn[37], line 1\u001b[0m\n\u001b[1;32m----> 1\u001b[0m airbnb_local \u001b[39m=\u001b[39m spark\u001b[39m.\u001b[39;49mread\u001b[39m.\u001b[39;49mcsv(\u001b[39m'\u001b[39;49m\u001b[39mlistings.csv\u001b[39;49m\u001b[39m'\u001b[39;49m, header\u001b[39m=\u001b[39;49m\u001b[39mTrue\u001b[39;49;00m, schema\u001b[39m=\u001b[39;49mmySchema,nullValue\u001b[39m=\u001b[39;49m\u001b[39m\"\u001b[39;49m\u001b[39mNA\u001b[39;49m\u001b[39m\"\u001b[39;49m);\n\u001b[0;32m      2\u001b[0m airbnb_local\u001b[39m.\u001b[39mshow()\n",
      "File \u001b[1;32mc:\\Users\\rmura\\anaconda3\\envs\\spark\\lib\\site-packages\\pyspark\\sql\\readwriter.py:410\u001b[0m, in \u001b[0;36mDataFrameReader.csv\u001b[1;34m(self, path, schema, sep, encoding, quote, escape, comment, header, inferSchema, ignoreLeadingWhiteSpace, ignoreTrailingWhiteSpace, nullValue, nanValue, positiveInf, negativeInf, dateFormat, timestampFormat, maxColumns, maxCharsPerColumn, maxMalformedLogPerPartition, mode, columnNameOfCorruptRecord, multiLine, charToEscapeQuoteEscaping, samplingRatio, enforceSchema, emptyValue, locale, lineSep, pathGlobFilter, recursiveFileLookup, modifiedBefore, modifiedAfter, unescapedQuoteHandling)\u001b[0m\n\u001b[0;32m    408\u001b[0m     path \u001b[39m=\u001b[39m [path]\n\u001b[0;32m    409\u001b[0m \u001b[39mif\u001b[39;00m \u001b[39mtype\u001b[39m(path) \u001b[39m==\u001b[39m \u001b[39mlist\u001b[39m:\n\u001b[1;32m--> 410\u001b[0m     \u001b[39mreturn\u001b[39;00m \u001b[39mself\u001b[39m\u001b[39m.\u001b[39m_df(\u001b[39mself\u001b[39;49m\u001b[39m.\u001b[39;49m_jreader\u001b[39m.\u001b[39;49mcsv(\u001b[39mself\u001b[39;49m\u001b[39m.\u001b[39;49m_spark\u001b[39m.\u001b[39;49m_sc\u001b[39m.\u001b[39;49m_jvm\u001b[39m.\u001b[39;49mPythonUtils\u001b[39m.\u001b[39;49mtoSeq(path)))\n\u001b[0;32m    411\u001b[0m \u001b[39melif\u001b[39;00m \u001b[39misinstance\u001b[39m(path, RDD):\n\u001b[0;32m    412\u001b[0m     \u001b[39mdef\u001b[39;00m \u001b[39mfunc\u001b[39m(iterator):\n",
      "File \u001b[1;32mc:\\Users\\rmura\\anaconda3\\envs\\spark\\lib\\site-packages\\py4j\\java_gateway.py:1321\u001b[0m, in \u001b[0;36mJavaMember.__call__\u001b[1;34m(self, *args)\u001b[0m\n\u001b[0;32m   1315\u001b[0m command \u001b[39m=\u001b[39m proto\u001b[39m.\u001b[39mCALL_COMMAND_NAME \u001b[39m+\u001b[39m\\\n\u001b[0;32m   1316\u001b[0m     \u001b[39mself\u001b[39m\u001b[39m.\u001b[39mcommand_header \u001b[39m+\u001b[39m\\\n\u001b[0;32m   1317\u001b[0m     args_command \u001b[39m+\u001b[39m\\\n\u001b[0;32m   1318\u001b[0m     proto\u001b[39m.\u001b[39mEND_COMMAND_PART\n\u001b[0;32m   1320\u001b[0m answer \u001b[39m=\u001b[39m \u001b[39mself\u001b[39m\u001b[39m.\u001b[39mgateway_client\u001b[39m.\u001b[39msend_command(command)\n\u001b[1;32m-> 1321\u001b[0m return_value \u001b[39m=\u001b[39m get_return_value(\n\u001b[0;32m   1322\u001b[0m     answer, \u001b[39mself\u001b[39;49m\u001b[39m.\u001b[39;49mgateway_client, \u001b[39mself\u001b[39;49m\u001b[39m.\u001b[39;49mtarget_id, \u001b[39mself\u001b[39;49m\u001b[39m.\u001b[39;49mname)\n\u001b[0;32m   1324\u001b[0m \u001b[39mfor\u001b[39;00m temp_arg \u001b[39min\u001b[39;00m temp_args:\n\u001b[0;32m   1325\u001b[0m     temp_arg\u001b[39m.\u001b[39m_detach()\n",
      "File \u001b[1;32mc:\\Users\\rmura\\anaconda3\\envs\\spark\\lib\\site-packages\\pyspark\\sql\\utils.py:117\u001b[0m, in \u001b[0;36mcapture_sql_exception.<locals>.deco\u001b[1;34m(*a, **kw)\u001b[0m\n\u001b[0;32m    113\u001b[0m converted \u001b[39m=\u001b[39m convert_exception(e\u001b[39m.\u001b[39mjava_exception)\n\u001b[0;32m    114\u001b[0m \u001b[39mif\u001b[39;00m \u001b[39mnot\u001b[39;00m \u001b[39misinstance\u001b[39m(converted, UnknownException):\n\u001b[0;32m    115\u001b[0m     \u001b[39m# Hide where the exception came from that shows a non-Pythonic\u001b[39;00m\n\u001b[0;32m    116\u001b[0m     \u001b[39m# JVM exception message.\u001b[39;00m\n\u001b[1;32m--> 117\u001b[0m     \u001b[39mraise\u001b[39;00m converted \u001b[39mfrom\u001b[39;00m \u001b[39mNone\u001b[39;00m\n\u001b[0;32m    118\u001b[0m \u001b[39melse\u001b[39;00m:\n\u001b[0;32m    119\u001b[0m     \u001b[39mraise\u001b[39;00m\n",
      "\u001b[1;31mAnalysisException\u001b[0m: Found duplicate column(s) in the data schema: `maximum_nights`"
     ]
    }
   ],
   "source": [
    "airbnb_local = spark.read.csv('listings.csv', header=True, schema=mySchema,nullValue=\"NA\");\n",
    "airbnb_local.show()"
   ]
  },
  {
   "cell_type": "code",
   "execution_count": 34,
   "id": "774d5db1",
   "metadata": {},
   "outputs": [
    {
     "name": "stdout",
     "output_type": "stream",
     "text": [
      "root\n",
      " |-- id: double (nullable = true)\n",
      " |-- name: string (nullable = true)\n",
      " |-- description: string (nullable = true)\n",
      " |-- host_id: string (nullable = true)\n",
      " |-- host_name: string (nullable = true)\n",
      " |-- host_is_superhost: string (nullable = true)\n",
      " |-- host_total_listings_count: string (nullable = true)\n",
      " |-- host_identity_verified: string (nullable = true)\n",
      " |-- neighbourhood: string (nullable = true)\n",
      " |-- neighbourhood_group: string (nullable = true)\n",
      " |-- property_type: string (nullable = true)\n",
      " |-- room_type: string (nullable = true)\n",
      " |-- accommodates: string (nullable = true)\n",
      " |-- bathrooms: string (nullable = true)\n",
      " |-- bedrooms: string (nullable = true)\n",
      " |-- beds: string (nullable = true)\n",
      " |-- price: string (nullable = true)\n",
      " |-- minimum_nights: string (nullable = true)\n",
      " |-- maximum_nights: string (nullable = true)\n",
      " |-- has_availability: string (nullable = true)\n",
      " |-- availability_30: string (nullable = true)\n",
      " |-- availability_60: string (nullable = true)\n",
      " |-- availability_90: string (nullable = true)\n",
      " |-- availability_365: string (nullable = true)\n",
      " |-- number_of_reviews: string (nullable = true)\n",
      " |-- review_scores_rating: string (nullable = true)\n",
      " |-- review_scores_accuracy: string (nullable = true)\n",
      " |-- review_scores_cleanliness: string (nullable = true)\n",
      " |-- review_scores_checkin: string (nullable = true)\n",
      " |-- review_scores_communication: string (nullable = true)\n",
      " |-- review_scores_location: string (nullable = true)\n",
      " |-- review_scores_value: string (nullable = true)\n",
      " |-- instant_bookable: string (nullable = true)\n",
      " |-- reviews_per_month: string (nullable = true)\n",
      "\n"
     ]
    }
   ],
   "source": [
    "airbnb_local.printSchema()"
   ]
  },
  {
   "cell_type": "code",
   "execution_count": 25,
   "id": "e8652350",
   "metadata": {},
   "outputs": [
    {
     "ename": "TypeError",
     "evalue": "SparkSession.createDataFrame() got an unexpected keyword argument 'header'",
     "output_type": "error",
     "traceback": [
      "\u001b[1;31m---------------------------------------------------------------------------\u001b[0m",
      "\u001b[1;31mTypeError\u001b[0m                                 Traceback (most recent call last)",
      "Cell \u001b[1;32mIn[25], line 1\u001b[0m\n\u001b[1;32m----> 1\u001b[0m airbnb_df_spark1 \u001b[39m=\u001b[39m spark\u001b[39m.\u001b[39;49mcreateDataFrame(\u001b[39m\"\u001b[39;49m\u001b[39mlistings.csv\u001b[39;49m\u001b[39m\"\u001b[39;49m,schema\u001b[39m=\u001b[39;49mmySchema,header\u001b[39m=\u001b[39;49m\u001b[39mTrue\u001b[39;49;00m)\n\u001b[0;32m      2\u001b[0m airbnb_df_spark1\u001b[39m.\u001b[39mshow()\n",
      "\u001b[1;31mTypeError\u001b[0m: SparkSession.createDataFrame() got an unexpected keyword argument 'header'"
     ]
    }
   ],
   "source": [
    "airbnb_df_spark1 = spark.createDataFrame(\"listings.csv\",schema=mySchema,header=True)\n",
    "airbnb_df_spark1.show()"
   ]
  },
  {
   "attachments": {},
   "cell_type": "markdown",
   "id": "3c450923",
   "metadata": {},
   "source": [
    "##### load pandas data frame to spark"
   ]
  },
  {
   "cell_type": "code",
   "execution_count": null,
   "id": "31ecba99",
   "metadata": {},
   "outputs": [],
   "source": [
    "\n",
    "airbnb_df_spark = spark.createDataFrame(data_df)\n",
    "airbnb_df_spark.show()\n"
   ]
  },
  {
   "attachments": {},
   "cell_type": "markdown",
   "id": "a8a05e50",
   "metadata": {},
   "source": [
    "##### displayschema from  load daat frame to spark "
   ]
  },
  {
   "cell_type": "code",
   "execution_count": null,
   "id": "5f07f94e",
   "metadata": {},
   "outputs": [],
   "source": [
    "airbnb_df_spark.printSchema()"
   ]
  },
  {
   "attachments": {},
   "cell_type": "markdown",
   "id": "4cab5fd9",
   "metadata": {},
   "source": [
    "##### Check if any na values available in data set."
   ]
  },
  {
   "cell_type": "code",
   "execution_count": null,
   "metadata": {},
   "outputs": [],
   "source": [
    "airbnb_df_spark.fillna"
   ]
  },
  {
   "attachments": {},
   "cell_type": "markdown",
   "id": "28f9bb1a",
   "metadata": {},
   "source": [
    "##### CHceking the spark datatype"
   ]
  },
  {
   "cell_type": "code",
   "execution_count": null,
   "id": "0b72f1d0",
   "metadata": {},
   "outputs": [],
   "source": [
    "type(airbnb_df_spark)"
   ]
  },
  {
   "attachments": {},
   "cell_type": "markdown",
   "id": "4b806fda",
   "metadata": {},
   "source": [
    "##### Show the avialble tables in tha Spark dataware house"
   ]
  },
  {
   "cell_type": "code",
   "execution_count": null,
   "id": "2d91f92b",
   "metadata": {},
   "outputs": [],
   "source": [
    "spark.catalog.listTables()"
   ]
  },
  {
   "attachments": {},
   "cell_type": "markdown",
   "id": "0f9f5be8",
   "metadata": {},
   "source": [
    "##### Use default database a current user"
   ]
  },
  {
   "cell_type": "code",
   "execution_count": null,
   "id": "3a000f71",
   "metadata": {},
   "outputs": [],
   "source": [
    "airbnb_dw=spark.sql(\"use default\").show()"
   ]
  },
  {
   "attachments": {},
   "cell_type": "markdown",
   "id": "e385f10e",
   "metadata": {},
   "source": [
    "##### Show available tablesnin the current user database"
   ]
  },
  {
   "cell_type": "code",
   "execution_count": null,
   "id": "558a381b",
   "metadata": {},
   "outputs": [],
   "source": [
    "tables = spark.sql(\"show tables\").show()"
   ]
  },
  {
   "attachments": {},
   "cell_type": "markdown",
   "id": "aa233114",
   "metadata": {},
   "source": [
    "##### Install the spark SQL magic for simple interactions "
   ]
  },
  {
   "cell_type": "code",
   "execution_count": null,
   "id": "02e987c2",
   "metadata": {},
   "outputs": [],
   "source": [
    "# ! pip install sparksql-magic"
   ]
  },
  {
   "attachments": {},
   "cell_type": "markdown",
   "id": "d8e5afd5",
   "metadata": {},
   "source": [
    "#### Create the data in the persistant table"
   ]
  },
  {
   "cell_type": "code",
   "execution_count": null,
   "id": "1829e0f4",
   "metadata": {},
   "outputs": [],
   "source": [
    "# airbnb_df_spark.write.saveAsTable(\"default.airbnb\", mode='overwrite')\n"
   ]
  },
  {
   "attachments": {},
   "cell_type": "markdown",
   "id": "20d0fb04",
   "metadata": {},
   "source": [
    "#### Create a temporary variable without any filter from the original dataframe"
   ]
  },
  {
   "cell_type": "code",
   "execution_count": null,
   "id": "0770f1d2",
   "metadata": {},
   "outputs": [],
   "source": [
    "airbnb_df_spark.createOrReplaceTempView(\"airbnb_tmp_view\")"
   ]
  },
  {
   "attachments": {},
   "cell_type": "markdown",
   "id": "f8b66a15",
   "metadata": {},
   "source": [
    "##### Show tables"
   ]
  },
  {
   "cell_type": "code",
   "execution_count": null,
   "id": "ffca58d6",
   "metadata": {},
   "outputs": [],
   "source": [
    "tables = spark.sql(\"show tables\").show()"
   ]
  },
  {
   "attachments": {},
   "cell_type": "markdown",
   "id": "287f62b8",
   "metadata": {},
   "source": [
    "##### load the extension"
   ]
  },
  {
   "cell_type": "code",
   "execution_count": null,
   "id": "9e71df59",
   "metadata": {},
   "outputs": [],
   "source": [
    "%load_ext sparksql_magic"
   ]
  },
  {
   "attachments": {},
   "cell_type": "markdown",
   "id": "6670d8a1",
   "metadata": {},
   "source": [
    "##### Displaying top rows using Spark SQL Query format"
   ]
  },
  {
   "cell_type": "code",
   "execution_count": null,
   "id": "c15dc1e9",
   "metadata": {},
   "outputs": [],
   "source": [
    "%%sparksql\n",
    "select * from airbnb_tmp_view limit 2"
   ]
  },
  {
   "attachments": {},
   "cell_type": "markdown",
   "id": "43b020cf",
   "metadata": {},
   "source": [
    "##### Execute the SQL Spark query without extension"
   ]
  },
  {
   "cell_type": "code",
   "execution_count": null,
   "id": "895212ce",
   "metadata": {},
   "outputs": [],
   "source": [
    "spark.sql(\"select id from airbnb_tmp_view\").show(3)"
   ]
  },
  {
   "attachments": {},
   "cell_type": "markdown",
   "id": "e530c049",
   "metadata": {},
   "source": [
    "#### A query to get the count by using property type"
   ]
  },
  {
   "cell_type": "code",
   "execution_count": null,
   "id": "17945852",
   "metadata": {},
   "outputs": [],
   "source": [
    "%%sparksql \n",
    "select property_type, count(*) As AvgProperty from airbnb_tmp_view group by property_type"
   ]
  },
  {
   "attachments": {},
   "cell_type": "markdown",
   "id": "de4a20f1",
   "metadata": {},
   "source": [
    "#### A Query to get the DIstinct types of beds available"
   ]
  },
  {
   "cell_type": "code",
   "execution_count": null,
   "id": "5e57732e",
   "metadata": {},
   "outputs": [],
   "source": [
    "%%sparksql \n",
    "select DISTINCT(beds) from airbnb_tmp_view"
   ]
  },
  {
   "attachments": {},
   "cell_type": "markdown",
   "id": "2ee1f413",
   "metadata": {},
   "source": [
    "#### A query to get the price of rooms by grouping by property type"
   ]
  },
  {
   "cell_type": "code",
   "execution_count": null,
   "id": "a69c0c34",
   "metadata": {},
   "outputs": [],
   "source": [
    "%%sparksql \n",
    "select property_type, sum(price) As AvgProperty from airbnb_tmp_view group by property_type"
   ]
  },
  {
   "attachments": {},
   "cell_type": "markdown",
   "id": "c63c1f62",
   "metadata": {},
   "source": [
    "#### Creating the separte database only for property type of entire rental unit"
   ]
  },
  {
   "cell_type": "code",
   "execution_count": null,
   "id": "74e2994d",
   "metadata": {},
   "outputs": [],
   "source": [
    "df_unique_propertytype=airbnb_df_spark.filter(\"property_type=='Entire rental unit'\")"
   ]
  },
  {
   "attachments": {},
   "cell_type": "markdown",
   "id": "f9d00f54",
   "metadata": {},
   "source": [
    "#### Creating temporary view for created dataframe of entire rental unit property type"
   ]
  },
  {
   "cell_type": "code",
   "execution_count": null,
   "id": "9f731340",
   "metadata": {},
   "outputs": [],
   "source": [
    "df_unique_propertytype.createOrReplaceTempView(\"airbnb_tmp_view_enterroom\")"
   ]
  },
  {
   "cell_type": "code",
   "execution_count": null,
   "id": "597cccfb",
   "metadata": {},
   "outputs": [],
   "source": [
    "airbnb_dw=spark.sql(\"show tables\").show()"
   ]
  },
  {
   "attachments": {},
   "cell_type": "markdown",
   "id": "79b13e51",
   "metadata": {},
   "source": [
    "#### Query for getting the count of data in that created dataframe"
   ]
  },
  {
   "cell_type": "code",
   "execution_count": null,
   "metadata": {},
   "outputs": [],
   "source": [
    "%%sparksql \n",
    "select Count(*) from airbnb_tmp_view_enterroom"
   ]
  },
  {
   "cell_type": "code",
   "execution_count": null,
   "id": "0a4ad062",
   "metadata": {},
   "outputs": [],
   "source": [
    "%%sparksql \n",
    "select DISTINCT(beds) from airbnb_tmp_view_enterroom"
   ]
  },
  {
   "attachments": {},
   "cell_type": "markdown",
   "id": "df7364cf",
   "metadata": {},
   "source": [
    "##### From the above results, we can say that these are the distinct beds available in the property type of \"entire rent value\""
   ]
  },
  {
   "cell_type": "code",
   "execution_count": null,
   "id": "aa8140b5",
   "metadata": {},
   "outputs": [],
   "source": [
    "#spark.stop()"
   ]
  }
 ],
 "metadata": {
  "kernelspec": {
   "display_name": "spark",
   "language": "python",
   "name": "python3"
  },
  "language_info": {
   "codemirror_mode": {
    "name": "ipython",
    "version": 3
   },
   "file_extension": ".py",
   "mimetype": "text/x-python",
   "name": "python",
   "nbconvert_exporter": "python",
   "pygments_lexer": "ipython3",
   "version": "3.10.10"
  },
  "vscode": {
   "interpreter": {
    "hash": "69cfceaaa8400857ef80a2714b3cfcc0cbcf8331dd502837f1cb39fe233d78c4"
   }
  }
 },
 "nbformat": 4,
 "nbformat_minor": 5
}
