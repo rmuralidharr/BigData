{
 "cells": [
  {
   "cell_type": "markdown",
   "id": "33d6c4bd",
   "metadata": {},
   "source": [
    "# ISM6562.002S23\n",
    "\n",
    "## Team: APEX\n",
    "\n",
    "## Team mebers: Aswith Reddy Kovvuri, Muralidhar Reddy Reddem, Sindhura Alla\n"
   ]
  },
  {
   "cell_type": "markdown",
   "id": "183f42f3",
   "metadata": {},
   "source": [
    "##### About the Dataset:\n",
    "\n",
    "We have chosen one of the most happening cities, New York, for our analysis. The dataset includes 32,500 properties  which are listed in the Airbnb website.\n",
    "\n",
    "Listings, including full descriptions,Host details,Availabilty,Beds ,Bathroom count,Property type, review scores, Reviews, including unique id for each listing the price and availability for that day,\n",
    "##### About the Source:\n",
    "Airbnb, Inc is an American company that operates an online marketplace for lodging, primarily homestays for vacation rentals, and tourism activities. Based in San Francisco, California, the platform is accessible via website and mobile app. Airbnb does not own any of the listed properties; instead, it profits by receiving commission from each booking. The company was founded in 2008. Airbnb is a shortened version of its original name, AirBedandBreakfast.com.\n",
    "Inside Airbnb is a mission driven project that provides data and advocacy about Airbnb's impact on residential communities, where data and information empower communities to understand, decide and control the role of renting residential homes to tourists.\n",
    "##### Collaborators:\n",
    "Inside Airbnb relies on the kind contribution of a variety of collaborators and partners.\n",
    "* Murray Cox.,\n",
    "* Taylor Higgins. \n",
    "* Alice Corona.\n",
    "* Luca Lamonaca. \n",
    "* Michael \"Ziggy\" Mintz. \n",
    "\n",
    "##### Technology:\n",
    "The site uses the following Open Source technologies:- \n",
    "D3, Bootstrap, Python, PostgreSQL and Google Fonts.\n",
    "Maps are designed in Mapbox with OpenStreetMap data and hosted via Mapbox.\n",
    "The site is served by an Amazon S3 \"bucket\"."
   ]
  },
  {
   "cell_type": "markdown",
   "id": "1ec84f43",
   "metadata": {},
   "source": [
    "##### Importing the Required poackages"
   ]
  },
  {
   "cell_type": "code",
   "execution_count": 1,
   "id": "b0700f58",
   "metadata": {},
   "outputs": [],
   "source": [
    "import pandas as pd\n",
    "import findspark\n",
    "from pyspark.sql import SparkSession\n",
    "from pyspark.sql.functions import col, regexp_replace, trim, when, ceil, avg, coalesce\n",
    "from pyspark.ml.feature import StringIndexer\n",
    "from pyspark.ml.feature import VectorAssembler, StandardScaler\n",
    "from pyspark.ml import Pipeline\n",
    "from pyspark.ml.regression import LinearRegression\n",
    "import json\n",
    "from pyspark.sql.window import Window\n",
    "from pyspark.ml.classification import LinearSVC\n",
    "from pyspark.ml.classification import DecisionTreeClassifier\n",
    "from pyspark.ml.classification import MultilayerPerceptronClassifier"
   ]
  },
  {
   "cell_type": "markdown",
   "id": "6b510307",
   "metadata": {},
   "source": [
    "##### Building Spark Session and Creating context"
   ]
  },
  {
   "cell_type": "code",
   "execution_count": 2,
   "id": "bdd0aeba",
   "metadata": {},
   "outputs": [
    {
     "name": "stdout",
     "output_type": "stream",
     "text": [
      "Spark Session WebUI Port: 4040\n"
     ]
    }
   ],
   "source": [
    "findspark.init()\n",
    "\n",
    "spark = SparkSession.builder \\\n",
    "        .master(\"local[4]\") \\\n",
    "        .appName(\"ISM6562 Spark App01\") \\\n",
    "        .enableHiveSupport() \\\n",
    "        .getOrCreate()\n",
    "\n",
    "# Let's get the SparkContext object. It's the entry point to the Spark API. It's created when you create a sparksession\n",
    "sc = spark.sparkContext  \n",
    "\n",
    "# note: If you have multiple spark sessions running (like from a previous notebook you've run), \n",
    "# this spark session webUI will be on a different port than the default (4040). One way to \n",
    "# identify this part is with the following line. If there was only one spark session running, \n",
    "# this will be 4040. If it's higher, it means there are still other spark sesssions still running.\n",
    "spark_session_port = spark.sparkContext.uiWebUrl.split(\":\")[-1]\n",
    "print(\"Spark Session WebUI Port: \" + spark_session_port)\n",
    "\n",
    "# It's best if you find that the port number displayed below is not 4040, then you should shut down all other spark sessions and \n",
    "# run this code again. If you don't, you may have trouble accessing the data in the spark-warehouse directory."
   ]
  },
  {
   "cell_type": "code",
   "execution_count": 3,
   "id": "33860070",
   "metadata": {},
   "outputs": [],
   "source": [
    "# this will set the log level to ERROR. This will hide the INFO or WARNING messages that are printed out by default. If you want to see them, set this to INFO or WARN.\n",
    "sc.setLogLevel(\"ERROR\")"
   ]
  },
  {
   "cell_type": "code",
   "execution_count": 4,
   "id": "fd431174",
   "metadata": {},
   "outputs": [
    {
     "data": {
      "text/html": [
       "\n",
       "            <div>\n",
       "                <p><b>SparkSession - hive</b></p>\n",
       "                \n",
       "        <div>\n",
       "            <p><b>SparkContext</b></p>\n",
       "\n",
       "            <p><a href=\"http://host.docker.internal:4040\">Spark UI</a></p>\n",
       "\n",
       "            <dl>\n",
       "              <dt>Version</dt>\n",
       "                <dd><code>v3.2.1</code></dd>\n",
       "              <dt>Master</dt>\n",
       "                <dd><code>local[4]</code></dd>\n",
       "              <dt>AppName</dt>\n",
       "                <dd><code>ISM6562 Spark App01</code></dd>\n",
       "            </dl>\n",
       "        </div>\n",
       "        \n",
       "            </div>\n",
       "        "
      ],
      "text/plain": [
       "<pyspark.sql.session.SparkSession at 0x2416550f730>"
      ]
     },
     "execution_count": 4,
     "metadata": {},
     "output_type": "execute_result"
    }
   ],
   "source": [
    "spark"
   ]
  },
  {
   "cell_type": "markdown",
   "id": "c606e37d",
   "metadata": {},
   "source": [
    "#### Reading the data from source"
   ]
  },
  {
   "cell_type": "code",
   "execution_count": 5,
   "id": "1b3d0b8f",
   "metadata": {},
   "outputs": [
    {
     "name": "stdout",
     "output_type": "stream",
     "text": [
      "+------------------+--------------------+--------------+------------+-----------+--------------------+--------------------+---------+---------+----------+------------------+------------------+--------------------+-----------------+-------------------+-------------------------+----------------------+----------------------+----------------------------+--------------------+---------------+------------+--------------+--------+----+-------+--------------+--------------+----------------+---------------+---------------+---------------+----------------+-----------------+---------------------+----------------------+------------+-----------+--------------------+----------------------+-------------------------+---------------------+---------------------------+----------------------+-------------------+----------------+-----------------+---------------+\n",
      "|                id|         listing_url|     scrape_id|last_scraped|     source|                name|         description|  host_id|host_name|host_since|host_response_time|host_response_rate|host_acceptance_rate|host_is_superhost|host_listings_count|host_total_listings_count|host_identity_verified|neighbourhood_cleansed|neighbourhood_group_cleansed|       property_type|      room_type|accommodates|bathrooms_text|bedrooms|beds|  price|minimum_nights|maximum_nights|has_availability|availability_30|availability_60|availability_90|availability_365|number_of_reviews|number_of_reviews_ltm|number_of_reviews_l30d|first_review|last_review|review_scores_rating|review_scores_accuracy|review_scores_cleanliness|review_scores_checkin|review_scores_communication|review_scores_location|review_scores_value|instant_bookable|reviews_per_month|amenities_count|\n",
      "+------------------+--------------------+--------------+------------+-----------+--------------------+--------------------+---------+---------+----------+------------------+------------------+--------------------+-----------------+-------------------+-------------------------+----------------------+----------------------+----------------------------+--------------------+---------------+------------+--------------+--------+----+-------+--------------+--------------+----------------+---------------+---------------+---------------+----------------+-----------------+---------------------+----------------------+------------+-----------+--------------------+----------------------+-------------------------+---------------------+---------------------------+----------------------+-------------------+----------------+-----------------+---------------+\n",
      "|801749842377802394|https://www.airbn...|20230306014634|  2023-03-06|city scrape|A home away from ...|The whole group w...|495455523|  Michael|2023-01-10|              null|              null|                null|                f|                1.0|                      1.0|                     f|              Canarsie|                    Brooklyn|Private room in home|   Private room|           2|        1 bath|     1.0| 1.0|$143.00|             2|            30|               t|             30|             60|             90|             364|                0|                    0|                     0|        null|       null|                null|                  null|                     null|                 null|                       null|                  null|               null|               f|             null|             25|\n",
      "|765948794133787266|https://www.airbn...|20230306014634|  2023-03-06|city scrape|     Brooklyn Refuge|Take a break and ...|488760226|     Eric|2022-11-22|    within an hour|              100%|                100%|                f|                2.0|                      5.0|                     t|              Canarsie|                    Brooklyn|Private room in r...|   Private room|           1| 1 shared bath|     1.0| 1.0| $30.00|             2|          1125|               t|             15|             19|             38|              41|               13|                   13|                     5|  2022-12-06| 2023-02-19|                4.85|                  4.77|                     4.77|                 4.85|                       4.92|                  4.85|               4.92|               t|             4.29|              7|\n",
      "|636274456676328779|https://www.airbn...|20230306014634|  2023-03-06|city scrape|       Villa Masino.|Close to beach   ...|461263600|  Tommaso|2022-05-27|              null|              null|                null|                f|                1.0|                      1.0|                     f|           Tottenville|               Staten Island|        Entire villa|Entire home/apt|           6|       2 baths|     2.0| 2.0|$157.00|             1|           365|               t|             30|             60|             90|             364|                0|                    0|                     0|        null|       null|                null|                  null|                     null|                 null|                       null|                  null|               null|               f|             null|              3|\n",
      "|768125251187660469|https://www.airbn...|20230306014634|  2023-03-06|city scrape|1-Bedroom Private...|Private room with...|475699129|  Suliman|2022-08-18|    within an hour|               99%|                 98%|                t|                7.0|                      7.0|                     t|        Sheepshead Bay|                    Brooklyn|Private room in home|   Private room|           2|       2 baths|     3.0| 1.0| $89.00|             1|            20|               t|             30|             60|             90|             364|               15|                   15|                     4|  2022-12-10| 2023-02-07|                 5.0|                   5.0|                     4.87|                  5.0|                        5.0|                   5.0|                5.0|               t|             5.17|              7|\n",
      "|          49248255|https://www.airbn...|20230306014634|  2023-03-06|city scrape|Get the best of b...|Welcome to the gr...|397288055|Katherine|2021-04-16|    within an hour|               75%|                 68%|                f|                1.0|                      2.0|                     t|       North Riverdale|                       Bronx|  Entire rental unit|Entire home/apt|           3|        1 bath|     2.0| 2.0|$125.00|             3|            21|               t|              3|             17|             46|              46|               25|                   16|                     0|  2021-04-30| 2022-11-13|                4.48|                  4.56|                     4.44|                 4.72|                       4.88|                  4.72|               4.64|               f|             1.11|             43|\n",
      "+------------------+--------------------+--------------+------------+-----------+--------------------+--------------------+---------+---------+----------+------------------+------------------+--------------------+-----------------+-------------------+-------------------------+----------------------+----------------------+----------------------------+--------------------+---------------+------------+--------------+--------+----+-------+--------------+--------------+----------------+---------------+---------------+---------------+----------------+-----------------+---------------------+----------------------+------------+-----------+--------------------+----------------------+-------------------------+---------------------+---------------------------+----------------------+-------------------+----------------+-----------------+---------------+\n",
      "only showing top 5 rows\n",
      "\n"
     ]
    }
   ],
   "source": [
    "# Reading csv into pandas dataframe instead of spark dataframe directly. Csv file has column amenities with list of values. \n",
    "# As of today spark csv read doesn't support ArrayType(StringType). Pandas csv read is much more complex than spark, hence the choice\n",
    "# Of using pandas read csv instead of spark\n",
    "df = pd.read_csv('http://data.insideairbnb.com/united-states/ny/new-york-city/2023-03-06/data/listings.csv.gz', low_memory=False)\n",
    "df[\"amenities_count\"] = df[\"amenities\"].apply(lambda x: len(json.loads(x))) # Count number of amenities\n",
    "\n",
    "# Dropping columns that are list of strings like amenities as this is the main source of culprit for unable to spark upload to csv. \n",
    "# This has list of strings leading to issues while spark upload.\n",
    "cols_to_delete = ['host_neighbourhood', 'neighborhood_overview', 'host_location', \n",
    "                  'host_about', 'picture_url','host_url', 'host_thumbnail_url', 'host_picture_url', \n",
    "                  'host_verifications', 'host_has_profile_pic', \n",
    "                  'neighbourhood', 'latitude', 'longitude', 'bathrooms', 'amenities', 'minimum_minimum_nights',\n",
    "                  'maximum_minimum_nights', 'minimum_maximum_nights', 'maximum_maximum_nights', \n",
    "                  'minimum_nights_avg_ntm', 'maximum_nights_avg_ntm', 'calendar_updated', 'calendar_last_scraped', \n",
    "                  'license', \n",
    "                  'calculated_host_listings_count', 'calculated_host_listings_count_entire_homes', \n",
    "                  'calculated_host_listings_count_private_rooms', 'calculated_host_listings_count_shared_rooms']\n",
    "df = df.drop(cols_to_delete, axis=1)\n",
    "\n",
    "# Replace commas in string columns as commas are causing issues in spark upload of csv\n",
    "str_cols = ['name', 'description']\n",
    "for str_col in str_cols:\n",
    "    df[str_col] = df[str_col].str.replace(',', '')\n",
    "df.to_csv('listings.csv', index=False)\n",
    "df = spark.read.csv('listings.csv', header=True, inferSchema=True)\n",
    "df.show(5)"
   ]
  },
  {
   "cell_type": "markdown",
   "id": "05026346",
   "metadata": {},
   "source": [
    "##### Printing the Schema"
   ]
  },
  {
   "cell_type": "code",
   "execution_count": 6,
   "id": "2b3e644d",
   "metadata": {},
   "outputs": [
    {
     "name": "stdout",
     "output_type": "stream",
     "text": [
      "root\n",
      " |-- id: long (nullable = true)\n",
      " |-- listing_url: string (nullable = true)\n",
      " |-- scrape_id: long (nullable = true)\n",
      " |-- last_scraped: string (nullable = true)\n",
      " |-- source: string (nullable = true)\n",
      " |-- name: string (nullable = true)\n",
      " |-- description: string (nullable = true)\n",
      " |-- host_id: integer (nullable = true)\n",
      " |-- host_name: string (nullable = true)\n",
      " |-- host_since: string (nullable = true)\n",
      " |-- host_response_time: string (nullable = true)\n",
      " |-- host_response_rate: string (nullable = true)\n",
      " |-- host_acceptance_rate: string (nullable = true)\n",
      " |-- host_is_superhost: string (nullable = true)\n",
      " |-- host_listings_count: double (nullable = true)\n",
      " |-- host_total_listings_count: double (nullable = true)\n",
      " |-- host_identity_verified: string (nullable = true)\n",
      " |-- neighbourhood_cleansed: string (nullable = true)\n",
      " |-- neighbourhood_group_cleansed: string (nullable = true)\n",
      " |-- property_type: string (nullable = true)\n",
      " |-- room_type: string (nullable = true)\n",
      " |-- accommodates: integer (nullable = true)\n",
      " |-- bathrooms_text: string (nullable = true)\n",
      " |-- bedrooms: double (nullable = true)\n",
      " |-- beds: double (nullable = true)\n",
      " |-- price: string (nullable = true)\n",
      " |-- minimum_nights: integer (nullable = true)\n",
      " |-- maximum_nights: integer (nullable = true)\n",
      " |-- has_availability: string (nullable = true)\n",
      " |-- availability_30: integer (nullable = true)\n",
      " |-- availability_60: integer (nullable = true)\n",
      " |-- availability_90: integer (nullable = true)\n",
      " |-- availability_365: integer (nullable = true)\n",
      " |-- number_of_reviews: integer (nullable = true)\n",
      " |-- number_of_reviews_ltm: integer (nullable = true)\n",
      " |-- number_of_reviews_l30d: integer (nullable = true)\n",
      " |-- first_review: string (nullable = true)\n",
      " |-- last_review: string (nullable = true)\n",
      " |-- review_scores_rating: double (nullable = true)\n",
      " |-- review_scores_accuracy: double (nullable = true)\n",
      " |-- review_scores_cleanliness: double (nullable = true)\n",
      " |-- review_scores_checkin: double (nullable = true)\n",
      " |-- review_scores_communication: double (nullable = true)\n",
      " |-- review_scores_location: double (nullable = true)\n",
      " |-- review_scores_value: double (nullable = true)\n",
      " |-- instant_bookable: string (nullable = true)\n",
      " |-- reviews_per_month: double (nullable = true)\n",
      " |-- amenities_count: integer (nullable = true)\n",
      "\n"
     ]
    }
   ],
   "source": [
    "df.printSchema()"
   ]
  },
  {
   "cell_type": "markdown",
   "id": "3399cd25",
   "metadata": {},
   "source": [
    "#### Applying transformations for relevant columns"
   ]
  },
  {
   "cell_type": "code",
   "execution_count": 7,
   "id": "7d4f893d",
   "metadata": {},
   "outputs": [
    {
     "name": "stdout",
     "output_type": "stream",
     "text": [
      "+----------+------------------+--------------------+-----------------+-------------------------+----------------------+-------------+--------------------+---------------+------------+----------------+--------+----+-----+-----------------+-----------+--------------------+----------------------+-------------------------+---------------------+---------------------------+----------------------+-------------------+----------------+---------------+\n",
      "|host_since|host_response_rate|host_acceptance_rate|host_is_superhost|host_total_listings_count|host_identity_verified|neighbourhood|       property_type|      room_type|accommodates|       bathrooms|bedrooms|beds|price|number_of_reviews|last_review|review_scores_rating|review_scores_accuracy|review_scores_cleanliness|review_scores_checkin|review_scores_communication|review_scores_location|review_scores_value|instant_bookable|amenities_count|\n",
      "+----------+------------------+--------------------+-----------------+-------------------------+----------------------+-------------+--------------------+---------------+------------+----------------+--------+----+-----+-----------------+-----------+--------------------+----------------------+-------------------------+---------------------+---------------------------+----------------------+-------------------+----------------+---------------+\n",
      "|2022-11-22|             100.0|               100.0|                0|                      5.0|                     1|     Brooklyn|Private room in r...|   Private room|           1|   1 shared bath|     1.0| 1.0| 30.0|               13| 2023-02-19|                4.85|                  4.77|                     4.77|                 4.85|                       4.92|                  4.85|               4.92|               1|              7|\n",
      "|2022-08-18|              99.0|                98.0|                1|                      7.0|                     1|     Brooklyn|Private room in home|   Private room|           2|         2 baths|     3.0| 1.0| 89.0|               15| 2023-02-07|                 5.0|                   5.0|                     4.87|                  5.0|                        5.0|                   5.0|                5.0|               1|              7|\n",
      "|2021-04-16|              75.0|                68.0|                0|                      2.0|                     1|        Bronx|  Entire rental unit|Entire home/apt|           3|          1 bath|     2.0| 2.0|125.0|               25| 2022-11-13|                4.48|                  4.56|                     4.44|                 4.72|                       4.88|                  4.72|               4.64|               0|             43|\n",
      "|2019-01-26|             100.0|                99.0|                0|                      7.0|                     1|       Queens|Private room in r...|   Private room|           3|   1 shared bath|     1.0| 1.0| 63.0|               40| 2023-01-15|                4.68|                  4.88|                     4.55|                 4.78|                       4.78|                  4.93|               4.68|               1|             21|\n",
      "|2016-06-12|               0.0|                50.0|                0|                      1.0|                     1|Staten Island|  Entire rental unit|Entire home/apt|           3|          1 bath|     1.0| 3.0|118.0|                3| 2022-06-25|                 5.0|                   5.0|                      5.0|                  5.0|                        5.0|                   5.0|                5.0|               0|             12|\n",
      "|2015-12-15|              86.0|                63.0|                0|                     20.0|                     1|       Queens|Private room in home|   Private room|           1|   1 shared bath|     1.0| 1.0| 49.0|                1| 2022-11-30|                 5.0|                   5.0|                      5.0|                  5.0|                        5.0|                   5.0|                5.0|               0|             13|\n",
      "|2014-09-17|             100.0|                29.0|                1|                      2.0|                     1|        Bronx|  Entire rental unit|Entire home/apt|           4|          1 bath|     2.0| 2.0|115.0|               16| 2021-06-26|                 5.0|                  4.93|                     4.93|                 4.93|                       4.93|                   4.8|               4.73|               0|             38|\n",
      "|2022-11-07|             100.0|               100.0|                0|                      1.0|                     0|       Queens|         Entire home|Entire home/apt|           4|          1 bath|     3.0| 5.0|179.0|                2| 2023-02-26|                 5.0|                   5.0|                      5.0|                  5.0|                        5.0|                   5.0|                5.0|               1|             51|\n",
      "|2022-09-11|              74.0|               100.0|                0|                      2.0|                     0|       Queens|  Entire rental unit|Entire home/apt|           7|          1 bath|     3.0| 5.0|172.0|               17| 2023-01-06|                4.76|                  4.82|                     4.88|                  5.0|                       4.82|                  4.24|               4.82|               0|             10|\n",
      "|2018-03-22|               0.0|               100.0|                0|                      2.0|                     1|       Queens|Private room in home|   Private room|           1|   1 shared bath|     1.0| 1.0| 68.0|                6| 2022-11-16|                 5.0|                  4.83|                     4.83|                 4.83|                        5.0|                  4.83|               4.83|               0|             22|\n",
      "|2020-12-18|             100.0|               100.0|                1|                      3.0|                     1|       Queens|         Entire home|Entire home/apt|           6|         2 baths|     2.0| 3.0|380.0|                8| 2023-02-15|                4.88|                  4.88|                      5.0|                  5.0|                        5.0|                  4.88|               4.75|               0|             62|\n",
      "|2021-07-17|             100.0|               100.0|                0|                      1.0|                     1|Staten Island|   Entire guesthouse|Entire home/apt|           7|       1.5 baths|     3.0| 4.0|175.0|               77| 2023-02-12|                4.61|                  4.77|                     4.55|                 4.88|                        4.9|                  4.82|               4.68|               0|             50|\n",
      "|2019-06-01|             100.0|               100.0|                0|                      2.0|                     0|       Queens|Private room in home|   Private room|           2|1.5 shared baths|     1.0| 1.0| 60.0|               13| 2022-11-23|                4.54|                  4.62|                     4.31|                 4.62|                       4.77|                  4.46|               4.38|               0|             31|\n",
      "|2019-05-28|             100.0|                58.0|                0|                      6.0|                     1|     Brooklyn|  Entire rental unit|Entire home/apt|           4|          1 bath|     1.0| 2.0|109.0|                6| 2022-12-17|                4.83|                  4.83|                     4.83|                 4.83|                       4.83|                  4.83|               4.83|               0|             17|\n",
      "|2015-08-25|             100.0|               100.0|                0|                     13.0|                     1|       Queens|Private room in home|   Private room|           1|   1 shared bath|     1.0| 2.0|105.0|                1| 2023-02-01|                 5.0|                   5.0|                      5.0|                  5.0|                        5.0|                   5.0|                5.0|               0|             22|\n",
      "|2020-10-07|              75.0|                89.0|                0|                     10.0|                     0|       Queens|  Entire rental unit|Entire home/apt|           2|          1 bath|     1.0| 1.0| 80.0|                3| 2022-10-31|                4.67|                   5.0|                     4.67|                  5.0|                        5.0|                   5.0|                5.0|               1|              9|\n",
      "|2018-09-12|             100.0|                85.0|                0|                      1.0|                     1|       Queens|         Entire home|Entire home/apt|           2|          1 bath|     1.0| 1.0| 90.0|               13| 2022-09-24|                4.31|                  4.77|                     4.46|                 4.69|                       4.54|                  4.38|               4.54|               0|             35|\n",
      "|2021-09-11|             100.0|               100.0|                0|                      2.0|                     1|       Queens|Private room in home|   Private room|           2|   1 shared bath|     1.0| 1.0| 85.0|                2| 2022-10-31|                 5.0|                   5.0|                      4.5|                  5.0|                        5.0|                   5.0|                5.0|               0|             22|\n",
      "|2022-09-10|               0.0|               100.0|                0|                      1.0|                     1|       Queens|Private room in r...|   Private room|           2|         2 baths|     2.0| 1.0| 99.0|                1| 2022-09-28|                 5.0|                   5.0|                      5.0|                  4.0|                        5.0|                   4.0|                5.0|               1|              2|\n",
      "|2020-12-13|             100.0|                99.0|                1|                      4.0|                     1|       Queens|  Entire rental unit|Entire home/apt|           6|          1 bath|     2.0| 2.0|216.0|               86| 2023-02-27|                4.95|                  4.97|                     4.97|                 4.95|                       4.95|                  4.99|                4.9|               0|             42|\n",
      "+----------+------------------+--------------------+-----------------+-------------------------+----------------------+-------------+--------------------+---------------+------------+----------------+--------+----+-----+-----------------+-----------+--------------------+----------------------+-------------------------+---------------------+---------------------------+----------------------+-------------------+----------------+---------------+\n",
      "only showing top 20 rows\n",
      "\n"
     ]
    }
   ],
   "source": [
    "# Converting relevant columns to date\n",
    "dt_cols = ['host_since', 'first_review', 'last_review']\n",
    "for dt_col in dt_cols:\n",
    "    df = df.withColumn(dt_col, col(dt_col).cast(\"date\"))\n",
    "\n",
    "# Converting relevant columns to float\n",
    "float_cols = ['review_scores_rating', 'review_scores_accuracy', 'review_scores_cleanliness', 'review_scores_checkin', \n",
    "              'review_scores_communication', 'review_scores_location', 'review_scores_value']\n",
    "for float_col in float_cols:\n",
    "    df = df.withColumn(float_col, col(float_col).cast(\"float\"))\n",
    "\n",
    "# Cleaning up percentage columns\n",
    "per_cols = ['host_response_rate', 'host_acceptance_rate']\n",
    "for per_col in per_cols:\n",
    "    df = df.withColumn(per_col, regexp_replace(trim(col(per_col)), \"%\", \"\").cast(\"float\"))\n",
    "    df = df.fillna({per_col: 0})\n",
    "\n",
    "# Cleaning up price column\n",
    "# Removing rows that have 0 price as it's erroneous to have zero price for a listing\n",
    "df = df.withColumn(\"price\", regexp_replace(trim(col(\"price\")), \"\\$\", \"\").cast(\"float\"))\n",
    "df = df.filter(col(\"price\") > 1)\n",
    "\n",
    "\n",
    "# Converting string represented boolean columns\n",
    "bool_cols = ['host_is_superhost', 'host_identity_verified', 'has_availability', 'instant_bookable']\n",
    "for bool_col in bool_cols:\n",
    "    df = df.fillna({bool_col: 'f'})\n",
    "    df = df.withColumn(bool_col, when(col(bool_col) == \"t\", 1).otherwise(0))\n",
    "\n",
    "\n",
    "# Handling beds and bedrooms nan values\n",
    "# Handling cases where there are number of beds but not bedrooms\n",
    "df = df.withColumn(\"bedrooms\", coalesce(col(\"bedrooms\"), when(col(\"beds\").isNotNull(), ceil(col(\"beds\") / 2)).otherwise(None)))\n",
    "# Using same assumption, fill na values in beds if there are bedrooms\n",
    "df = df.withColumn(\"beds\", coalesce(col(\"beds\"), when(col(\"bedrooms\").isNotNull(), col(\"bedrooms\") * 2).otherwise(None)))\n",
    "df = df.dropna(subset=['beds', 'bedrooms'], how=\"all\")\n",
    "\n",
    "\n",
    "# Removing rows with null ratings as ratings are important factor for price\n",
    "df = df.na.drop(subset=[\"review_scores_rating\"])\n",
    "# Other review columns that are null can be reasonably assumed to have same rating as review_scores_rating\n",
    "for rating_col in ['review_scores_accuracy', 'review_scores_cleanliness', 'review_scores_checkin', 'review_scores_communication', 'review_scores_location', 'review_scores_value']:\n",
    "    df = df.withColumn(rating_col, coalesce(rating_col, 'review_scores_rating'))\n",
    "\n",
    "# Filling nas for host_total_listings_count\n",
    "df = df.fillna({'host_total_listings_count': 1})\n",
    "\n",
    "# Renaming columns\n",
    "df = df.withColumnRenamed(\"neighbourhood_group_cleansed\", \"neighbourhood\").drop(\"neighbourhood_group_cleansed\")\n",
    "df = df.withColumnRenamed(\"bathrooms_text\", \"bathrooms\").drop(\"bathrooms_text\")\n",
    "\n",
    "data_cols = [\"host_since\", \"host_response_rate\", \"host_acceptance_rate\", \"host_is_superhost\", \"host_total_listings_count\", \n",
    "             \"host_identity_verified\", \"neighbourhood\", \"property_type\", \"room_type\", \"accommodates\",\n",
    "             \"bathrooms\", \"bedrooms\", \"beds\", \"price\", \"number_of_reviews\", \"last_review\",\t\"review_scores_rating\", \n",
    "             \"review_scores_accuracy\", \"review_scores_cleanliness\", \"review_scores_checkin\", \"review_scores_communication\", \n",
    "             \"review_scores_location\", \"review_scores_value\", \"instant_bookable\", \"amenities_count\"]\n",
    "data = df.select(data_cols).dropna()\n",
    "data.show()"
   ]
  },
  {
   "cell_type": "markdown",
   "id": "9967040a",
   "metadata": {},
   "source": [
    "##### Save data to hive store"
   ]
  },
  {
   "cell_type": "code",
   "execution_count": null,
   "id": "4568657e",
   "metadata": {},
   "outputs": [],
   "source": [
    "spark.sql('drop table if exists airbnb_newyork')\n",
    "data.write.saveAsTable('airbnb_newyork')"
   ]
  },
  {
   "cell_type": "markdown",
   "id": "04aa18a2",
   "metadata": {},
   "source": [
    "### Determine if listing is over priced or under priced considering relevant factors "
   ]
  },
  {
   "cell_type": "markdown",
   "id": "f5ab6c01",
   "metadata": {},
   "source": [
    "### Regression analysis"
   ]
  },
  {
   "cell_type": "code",
   "execution_count": 9,
   "id": "ae28fe2e",
   "metadata": {},
   "outputs": [
    {
     "name": "stdout",
     "output_type": "stream",
     "text": [
      "+------------------+--------------------+-----------------+-------------------------+----------------------+-------------+--------------------+---------------+------------+-------------+--------+----+-----+-----------------+--------------------+----------------+---------------+\n",
      "|host_response_rate|host_acceptance_rate|host_is_superhost|host_total_listings_count|host_identity_verified|neighbourhood|       property_type|      room_type|accommodates|    bathrooms|bedrooms|beds|price|number_of_reviews|review_scores_rating|instant_bookable|amenities_count|\n",
      "+------------------+--------------------+-----------------+-------------------------+----------------------+-------------+--------------------+---------------+------------+-------------+--------+----+-----+-----------------+--------------------+----------------+---------------+\n",
      "|             100.0|                89.0|                0|                     13.0|                     1|     Brooklyn|Private room in t...|   Private room|           2|1 shared bath|     1.0| 1.0|199.0|               42|                4.76|               0|             42|\n",
      "|             100.0|                 0.0|                0|                     15.0|                     1|       Queens|  Entire rental unit|Entire home/apt|           2|       1 bath|     1.0| 1.0|169.0|               73|                4.78|               0|             24|\n",
      "|               0.0|                20.0|                0|                      2.0|                     1|     Brooklyn|Private room in r...|   Private room|           1|1 shared bath|     1.0| 1.0| 50.0|                3|                 5.0|               0|             18|\n",
      "|               0.0|                20.0|                0|                      2.0|                     1|     Brooklyn|Private room in r...|   Private room|           2|1 shared bath|     1.0| 2.0| 40.0|                1|                 5.0|               0|             14|\n",
      "|             100.0|               100.0|                1|                      5.0|                     1|       Queens|         Entire home|Entire home/apt|           4|       1 bath|     2.0| 2.0|185.0|               14|                 5.0|               1|             47|\n",
      "+------------------+--------------------+-----------------+-------------------------+----------------------+-------------+--------------------+---------------+------------+-------------+--------+----+-----+-----------------+--------------------+----------------+---------------+\n",
      "only showing top 5 rows\n",
      "\n"
     ]
    }
   ],
   "source": [
    "cols_filtered = [\"host_response_rate\", \"host_acceptance_rate\", \"host_is_superhost\", \"host_total_listings_count\", \n",
    "                 \"host_identity_verified\", \"neighbourhood\", \"property_type\", \"room_type\", \"accommodates\",\n",
    "                 \"bathrooms\", \"bedrooms\", \"beds\", \"price\", \"number_of_reviews\", \"review_scores_rating\", \n",
    "                 \"instant_bookable\", \"amenities_count\"]\n",
    "train_data, test_data=data.randomSplit([0.7,0.3])\n",
    "train_data = train_data.select(cols_filtered)\n",
    "test_data = test_data.select(cols_filtered)\n",
    "train_data.show(5)"
   ]
  },
  {
   "cell_type": "code",
   "execution_count": 10,
   "id": "0fa67b71",
   "metadata": {},
   "outputs": [],
   "source": [
    "# Using StringIndexer to convert the categorical columns to hold numerical data\n",
    "neighbourhood_group = StringIndexer(inputCol='neighbourhood',outputCol='neighbourhood_group',handleInvalid='keep')\n",
    "property_type_group = StringIndexer(inputCol='property_type',outputCol='property_type_group',handleInvalid='keep')\n",
    "room_type_group = StringIndexer(inputCol='room_type',outputCol='room_type_group',handleInvalid='keep')\n",
    "bathrooms_group = StringIndexer(inputCol='bathrooms',outputCol='bathrooms_group',handleInvalid='keep')"
   ]
  },
  {
   "cell_type": "code",
   "execution_count": 11,
   "id": "493f5474",
   "metadata": {},
   "outputs": [],
   "source": [
    "assembler = VectorAssembler(\n",
    "    inputCols=[\n",
    "        \"host_is_superhost\", \n",
    "        \"host_total_listings_count\", \n",
    "        \"host_identity_verified\", \n",
    "        \"neighbourhood_group\",\n",
    "        'property_type_group',\n",
    "        'room_type_group',\n",
    "        \"accommodates\", \n",
    "        'bathrooms_group',\n",
    "        \"bedrooms\", \n",
    "        \"beds\", \n",
    "        \"number_of_reviews\", \n",
    "        \"review_scores_rating\", \n",
    "        \"instant_bookable\",\n",
    "        \"amenities_count\"\n",
    "    ],\n",
    "    outputCol=\"features\"\n",
    ")"
   ]
  },
  {
   "cell_type": "code",
   "execution_count": 12,
   "id": "c5d5e786",
   "metadata": {},
   "outputs": [],
   "source": [
    "pipe = Pipeline(stages=[\n",
    "    neighbourhood_group,\n",
    "    property_type_group,\n",
    "    room_type_group,\n",
    "    bathrooms_group,\n",
    "    assembler\n",
    "    ]\n",
    ")"
   ]
  },
  {
   "cell_type": "code",
   "execution_count": 13,
   "id": "648dc4ad",
   "metadata": {},
   "outputs": [],
   "source": [
    "fitted_pipe=pipe.fit(train_data)"
   ]
  },
  {
   "cell_type": "code",
   "execution_count": 14,
   "id": "0927b248",
   "metadata": {},
   "outputs": [
    {
     "name": "stdout",
     "output_type": "stream",
     "text": [
      "+------------------+--------------------+-----------------+-------------------------+----------------------+-------------+--------------------+---------------+------------+-------------+--------+----+-----+-----------------+--------------------+----------------+---------------+-------------------+-------------------+---------------+---------------+--------------------+\n",
      "|host_response_rate|host_acceptance_rate|host_is_superhost|host_total_listings_count|host_identity_verified|neighbourhood|       property_type|      room_type|accommodates|    bathrooms|bedrooms|beds|price|number_of_reviews|review_scores_rating|instant_bookable|amenities_count|neighbourhood_group|property_type_group|room_type_group|bathrooms_group|            features|\n",
      "+------------------+--------------------+-----------------+-------------------------+----------------------+-------------+--------------------+---------------+------------+-------------+--------+----+-----+-----------------+--------------------+----------------+---------------+-------------------+-------------------+---------------+---------------+--------------------+\n",
      "|             100.0|                89.0|                0|                     13.0|                     1|     Brooklyn|Private room in t...|   Private room|           2|1 shared bath|     1.0| 1.0|199.0|               42|                4.76|               0|             42|                0.0|                5.0|            1.0|            1.0|[0.0,13.0,1.0,0.0...|\n",
      "|             100.0|                 0.0|                0|                     15.0|                     1|       Queens|  Entire rental unit|Entire home/apt|           2|       1 bath|     1.0| 1.0|169.0|               73|                4.78|               0|             24|                2.0|                0.0|            0.0|            0.0|[0.0,15.0,1.0,2.0...|\n",
      "|               0.0|                20.0|                0|                      2.0|                     1|     Brooklyn|Private room in r...|   Private room|           1|1 shared bath|     1.0| 1.0| 50.0|                3|                 5.0|               0|             18|                0.0|                1.0|            1.0|            1.0|[0.0,2.0,1.0,0.0,...|\n",
      "|               0.0|                20.0|                0|                      2.0|                     1|     Brooklyn|Private room in r...|   Private room|           2|1 shared bath|     1.0| 2.0| 40.0|                1|                 5.0|               0|             14|                0.0|                1.0|            1.0|            1.0|[0.0,2.0,1.0,0.0,...|\n",
      "|             100.0|               100.0|                1|                      5.0|                     1|       Queens|         Entire home|Entire home/apt|           4|       1 bath|     2.0| 2.0|185.0|               14|                 5.0|               1|             47|                2.0|                3.0|            0.0|            0.0|[1.0,5.0,1.0,2.0,...|\n",
      "+------------------+--------------------+-----------------+-------------------------+----------------------+-------------+--------------------+---------------+------------+-------------+--------+----+-----+-----------------+--------------------+----------------+---------------+-------------------+-------------------+---------------+---------------+--------------------+\n",
      "only showing top 5 rows\n",
      "\n"
     ]
    }
   ],
   "source": [
    "train_data=fitted_pipe.transform(train_data)\n",
    "train_data.show(5)"
   ]
  },
  {
   "cell_type": "code",
   "execution_count": 15,
   "id": "1bf132d4",
   "metadata": {},
   "outputs": [
    {
     "name": "stdout",
     "output_type": "stream",
     "text": [
      "+------------------+--------------------+-----------------+-------------------------+----------------------+-------------+--------------------+---------------+------------+-------------+--------+----+-----+-----------------+--------------------+----------------+---------------+-------------------+-------------------+---------------+---------------+--------------------+\n",
      "|host_response_rate|host_acceptance_rate|host_is_superhost|host_total_listings_count|host_identity_verified|neighbourhood|       property_type|      room_type|accommodates|    bathrooms|bedrooms|beds|price|number_of_reviews|review_scores_rating|instant_bookable|amenities_count|neighbourhood_group|property_type_group|room_type_group|bathrooms_group|            features|\n",
      "+------------------+--------------------+-----------------+-------------------------+----------------------+-------------+--------------------+---------------+------------+-------------+--------+----+-----+-----------------+--------------------+----------------+---------------+-------------------+-------------------+---------------+---------------+--------------------+\n",
      "|             100.0|                96.0|                1|                      5.0|                     1|     Brooklyn|  Entire rental unit|Entire home/apt|           2|       1 bath|     1.0| 1.0|140.0|                4|                4.75|               1|             47|                0.0|                0.0|            0.0|            0.0|[1.0,5.0,1.0,0.0,...|\n",
      "|               0.0|                 0.0|                0|                      3.0|                     1|    Manhattan|Private room in r...|   Private room|           2|1 shared bath|     1.0| 1.0| 55.0|               98|                4.89|               0|             10|                1.0|                1.0|            1.0|            1.0|[0.0,3.0,1.0,1.0,...|\n",
      "|             100.0|                67.0|                0|                      2.0|                     1|     Brooklyn|Private room in r...|   Private room|           2|1 shared bath|     2.0| 3.0|125.0|                2|                 4.5|               0|             30|                0.0|                1.0|            1.0|            1.0|[0.0,2.0,1.0,0.0,...|\n",
      "|             100.0|               100.0|                1|                      9.0|                     1|     Brooklyn|Private room in home|   Private room|           1|1 shared bath|     1.0| 2.0| 42.0|               13|                4.77|               0|             24|                0.0|                2.0|            1.0|            1.0|[1.0,9.0,1.0,0.0,...|\n",
      "|               0.0|                 0.0|                0|                      2.0|                     1|     Brooklyn|  Entire rental unit|Entire home/apt|           2|       1 bath|     2.0| 2.0|200.0|               52|                4.67|               0|             26|                0.0|                0.0|            0.0|            0.0|(14,[1,2,6,8,9,10...|\n",
      "+------------------+--------------------+-----------------+-------------------------+----------------------+-------------+--------------------+---------------+------------+-------------+--------+----+-----+-----------------+--------------------+----------------+---------------+-------------------+-------------------+---------------+---------------+--------------------+\n",
      "only showing top 5 rows\n",
      "\n"
     ]
    }
   ],
   "source": [
    "test_data=fitted_pipe.transform(test_data)\n",
    "test_data.show(5)"
   ]
  },
  {
   "cell_type": "code",
   "execution_count": 16,
   "id": "5b0a3e1b",
   "metadata": {},
   "outputs": [],
   "source": [
    "lr_model = LinearRegression(labelCol='price')\n",
    "fit_model = lr_model.fit(train_data.select(['features', 'price']))"
   ]
  },
  {
   "cell_type": "code",
   "execution_count": 17,
   "id": "b2094df6",
   "metadata": {},
   "outputs": [
    {
     "name": "stdout",
     "output_type": "stream",
     "text": [
      "+------------------+--------------------+-----------------+-------------------------+----------------------+-------------+--------------------+---------------+------------+-------------+--------+----+-----+-----------------+--------------------+----------------+---------------+-------------------+-------------------+---------------+---------------+--------------------+------------------+\n",
      "|host_response_rate|host_acceptance_rate|host_is_superhost|host_total_listings_count|host_identity_verified|neighbourhood|       property_type|      room_type|accommodates|    bathrooms|bedrooms|beds|price|number_of_reviews|review_scores_rating|instant_bookable|amenities_count|neighbourhood_group|property_type_group|room_type_group|bathrooms_group|            features|        prediction|\n",
      "+------------------+--------------------+-----------------+-------------------------+----------------------+-------------+--------------------+---------------+------------+-------------+--------+----+-----+-----------------+--------------------+----------------+---------------+-------------------+-------------------+---------------+---------------+--------------------+------------------+\n",
      "|             100.0|                96.0|                1|                      5.0|                     1|     Brooklyn|  Entire rental unit|Entire home/apt|           2|       1 bath|     1.0| 1.0|140.0|                4|                4.75|               1|             47|                0.0|                0.0|            0.0|            0.0|[1.0,5.0,1.0,0.0,...| 172.3727718051572|\n",
      "|               0.0|                 0.0|                0|                      3.0|                     1|    Manhattan|Private room in r...|   Private room|           2|1 shared bath|     1.0| 1.0| 55.0|               98|                4.89|               0|             10|                1.0|                1.0|            1.0|            1.0|[0.0,3.0,1.0,1.0,...|  79.3056708651953|\n",
      "|             100.0|                67.0|                0|                      2.0|                     1|     Brooklyn|Private room in r...|   Private room|           2|1 shared bath|     2.0| 3.0|125.0|                2|                 4.5|               0|             30|                0.0|                1.0|            1.0|            1.0|[0.0,2.0,1.0,0.0,...|115.02980304833997|\n",
      "|             100.0|               100.0|                1|                      9.0|                     1|     Brooklyn|Private room in home|   Private room|           1|1 shared bath|     1.0| 2.0| 42.0|               13|                4.77|               0|             24|                0.0|                2.0|            1.0|            1.0|[1.0,9.0,1.0,0.0,...| 79.38672386768718|\n",
      "|               0.0|                 0.0|                0|                      2.0|                     1|     Brooklyn|  Entire rental unit|Entire home/apt|           2|       1 bath|     2.0| 2.0|200.0|               52|                4.67|               0|             26|                0.0|                0.0|            0.0|            0.0|(14,[1,2,6,8,9,10...|163.82250353233016|\n",
      "+------------------+--------------------+-----------------+-------------------------+----------------------+-------------+--------------------+---------------+------------+-------------+--------+----+-----+-----------------+--------------------+----------------+---------------+-------------------+-------------------+---------------+---------------+--------------------+------------------+\n",
      "only showing top 5 rows\n",
      "\n"
     ]
    }
   ],
   "source": [
    "results = fit_model.transform(test_data)\n",
    "results.show(5)"
   ]
  },
  {
   "cell_type": "code",
   "execution_count": 18,
   "id": "6b37982c",
   "metadata": {},
   "outputs": [
    {
     "name": "stdout",
     "output_type": "stream",
     "text": [
      "+-----+------------------+\n",
      "|price|        prediction|\n",
      "+-----+------------------+\n",
      "|140.0| 172.3727718051572|\n",
      "| 55.0|  79.3056708651953|\n",
      "|125.0|115.02980304833997|\n",
      "| 42.0| 79.38672386768718|\n",
      "|200.0|163.82250353233016|\n",
      "+-----+------------------+\n",
      "only showing top 5 rows\n",
      "\n"
     ]
    }
   ],
   "source": [
    "results.select(['price', 'prediction']).show(5)"
   ]
  },
  {
   "cell_type": "code",
   "execution_count": 19,
   "id": "c522824f",
   "metadata": {},
   "outputs": [],
   "source": [
    "test_results = fit_model.evaluate(test_data)"
   ]
  },
  {
   "cell_type": "code",
   "execution_count": 20,
   "id": "6ee8859e",
   "metadata": {},
   "outputs": [
    {
     "name": "stdout",
     "output_type": "stream",
     "text": [
      "RMSE:    97.724\n",
      "Ex Var: 4977.520\n",
      "MAE:     62.989\n",
      "MSE:    9549.981\n",
      "RMSE:    97.724\n",
      "R2:       0.356\n"
     ]
    }
   ],
   "source": [
    "print(f\"{'RMSE:':7s} {test_results.rootMeanSquaredError:>7.3f}\")\n",
    "print(f\"{'Ex Var:':7s} {test_results.explainedVariance:>7.3f}\")\n",
    "print(f\"{'MAE:':7s} {test_results.meanAbsoluteError:>7.3f}\")\n",
    "print(f\"{'MSE:':7s} {test_results.meanSquaredError:>7.3f}\")\n",
    "print(f\"{'RMSE:':7s} {test_results.rootMeanSquaredError:>7.3f}\")\n",
    "print(f\"{'R2:':7s} {test_results.r2:>7.3f}\")"
   ]
  },
  {
   "cell_type": "markdown",
   "id": "eb963481",
   "metadata": {},
   "source": [
    "## logistic reg\n"
   ]
  },
  {
   "cell_type": "code",
   "execution_count": 21,
   "id": "650e843b",
   "metadata": {},
   "outputs": [],
   "source": [
    "from pyspark.ml.classification import LogisticRegression"
   ]
  },
  {
   "cell_type": "code",
   "execution_count": 22,
   "id": "952e7f51",
   "metadata": {},
   "outputs": [],
   "source": [
    "log_model = LogisticRegression(labelCol='price')"
   ]
  },
  {
   "cell_type": "code",
   "execution_count": 23,
   "id": "82856eb9",
   "metadata": {},
   "outputs": [],
   "source": [
    "fit_model = log_model.fit(train_data.select(['features', 'price']))"
   ]
  },
  {
   "cell_type": "code",
   "execution_count": 24,
   "id": "4cf15f19",
   "metadata": {},
   "outputs": [
    {
     "name": "stdout",
     "output_type": "stream",
     "text": [
      "+------------------+--------------------+-----------------+-------------------------+----------------------+-------------+--------------------+---------------+------------+-------------+--------+----+-----+-----------------+--------------------+----------------+---------------+-------------------+-------------------+---------------+---------------+--------------------+--------------------+--------------------+----------+\n",
      "|host_response_rate|host_acceptance_rate|host_is_superhost|host_total_listings_count|host_identity_verified|neighbourhood|       property_type|      room_type|accommodates|    bathrooms|bedrooms|beds|price|number_of_reviews|review_scores_rating|instant_bookable|amenities_count|neighbourhood_group|property_type_group|room_type_group|bathrooms_group|            features|       rawPrediction|         probability|prediction|\n",
      "+------------------+--------------------+-----------------+-------------------------+----------------------+-------------+--------------------+---------------+------------+-------------+--------+----+-----+-----------------+--------------------+----------------+---------------+-------------------+-------------------+---------------+---------------+--------------------+--------------------+--------------------+----------+\n",
      "|             100.0|                96.0|                1|                      5.0|                     1|     Brooklyn|  Entire rental unit|Entire home/apt|           2|       1 bath|     1.0| 1.0|140.0|                4|                4.75|               1|             47|                0.0|                0.0|            0.0|            0.0|[1.0,5.0,1.0,0.0,...|[-2.6867111099054...|[9.84310423156090...|     120.0|\n",
      "|               0.0|                 0.0|                0|                      3.0|                     1|    Manhattan|Private room in r...|   Private room|           2|1 shared bath|     1.0| 1.0| 55.0|               98|                4.89|               0|             10|                1.0|                1.0|            1.0|            1.0|[0.0,3.0,1.0,1.0,...|[-1.8321998576181...|[3.55379496578027...|      50.0|\n",
      "|             100.0|                67.0|                0|                      2.0|                     1|     Brooklyn|Private room in r...|   Private room|           2|1 shared bath|     2.0| 3.0|125.0|                2|                 4.5|               0|             30|                0.0|                1.0|            1.0|            1.0|[0.0,2.0,1.0,0.0,...|[-2.2375142764983...|[6.19006611567684...|      50.0|\n",
      "|             100.0|               100.0|                1|                      9.0|                     1|     Brooklyn|Private room in home|   Private room|           1|1 shared bath|     1.0| 2.0| 42.0|               13|                4.77|               0|             24|                0.0|                2.0|            1.0|            1.0|[1.0,9.0,1.0,0.0,...|[-2.1065691170331...|[3.78723896762259...|      45.0|\n",
      "|               0.0|                 0.0|                0|                      2.0|                     1|     Brooklyn|  Entire rental unit|Entire home/apt|           2|       1 bath|     2.0| 2.0|200.0|               52|                4.67|               0|             26|                0.0|                0.0|            0.0|            0.0|(14,[1,2,6,8,9,10...|[-2.4926286808627...|[1.04221749531122...|     150.0|\n",
      "+------------------+--------------------+-----------------+-------------------------+----------------------+-------------+--------------------+---------------+------------+-------------+--------+----+-----+-----------------+--------------------+----------------+---------------+-------------------+-------------------+---------------+---------------+--------------------+--------------------+--------------------+----------+\n",
      "only showing top 5 rows\n",
      "\n"
     ]
    }
   ],
   "source": [
    "results = fit_model.transform(test_data)\n",
    "results.show(5)"
   ]
  },
  {
   "cell_type": "code",
   "execution_count": 25,
   "id": "d1ed096a",
   "metadata": {},
   "outputs": [
    {
     "name": "stdout",
     "output_type": "stream",
     "text": [
      "+-----+----------+\n",
      "|price|prediction|\n",
      "+-----+----------+\n",
      "|140.0|     120.0|\n",
      "| 55.0|      50.0|\n",
      "|125.0|      50.0|\n",
      "| 42.0|      45.0|\n",
      "|200.0|     150.0|\n",
      "+-----+----------+\n",
      "only showing top 5 rows\n",
      "\n"
     ]
    }
   ],
   "source": [
    "results.select(['price', 'prediction']).show(5)"
   ]
  },
  {
   "cell_type": "code",
   "execution_count": 26,
   "id": "01c95794",
   "metadata": {},
   "outputs": [],
   "source": [
    "test_results = fit_model.evaluate(test_data)"
   ]
  },
  {
   "cell_type": "code",
   "execution_count": 27,
   "id": "77ca8b11",
   "metadata": {},
   "outputs": [],
   "source": [
    "from pyspark.ml.evaluation import BinaryClassificationEvaluator\n",
    "\n",
    "AUC_evaluator = BinaryClassificationEvaluator(rawPredictionCol='prediction',labelCol='price',metricName='areaUnderROC')\n",
    "\n",
    "AUC = AUC_evaluator.evaluate(results)"
   ]
  },
  {
   "cell_type": "code",
   "execution_count": 28,
   "id": "395f8f38",
   "metadata": {},
   "outputs": [
    {
     "name": "stdout",
     "output_type": "stream",
     "text": [
      "The area under the curve is 1.0\n"
     ]
    }
   ],
   "source": [
    "print(\"The area under the curve is {}\".format(AUC))"
   ]
  },
  {
   "cell_type": "code",
   "execution_count": 29,
   "id": "56e48db1",
   "metadata": {},
   "outputs": [],
   "source": [
    "PR_evaluator = BinaryClassificationEvaluator(rawPredictionCol='prediction',labelCol='price',metricName='areaUnderPR')\n",
    "PR = PR_evaluator.evaluate(results)"
   ]
  },
  {
   "cell_type": "code",
   "execution_count": 30,
   "id": "c677b5cb",
   "metadata": {},
   "outputs": [
    {
     "name": "stdout",
     "output_type": "stream",
     "text": [
      "The area under the PR curve is 1.0\n"
     ]
    }
   ],
   "source": [
    "print(\"The area under the PR curve is {}\".format(PR))"
   ]
  },
  {
   "cell_type": "code",
   "execution_count": 31,
   "id": "70326719",
   "metadata": {},
   "outputs": [],
   "source": [
    "from pyspark.ml.evaluation import MulticlassClassificationEvaluator\n",
    "\n",
    "ACC_evaluator = MulticlassClassificationEvaluator(  #  Multiclass or Binary, the accuracy is calculated in the same way.\n",
    "    labelCol=\"price\", predictionCol=\"prediction\", metricName=\"accuracy\")\n",
    "\n",
    "accuracy = ACC_evaluator.evaluate(results)"
   ]
  },
  {
   "cell_type": "code",
   "execution_count": 32,
   "id": "a881269a",
   "metadata": {},
   "outputs": [
    {
     "name": "stdout",
     "output_type": "stream",
     "text": [
      "The accuracy of the model is 0.04541213063763608\n"
     ]
    }
   ],
   "source": [
    "print(\"The accuracy of the model is {}\".format(accuracy))"
   ]
  },
  {
   "cell_type": "markdown",
   "id": "06924f2b",
   "metadata": {},
   "source": [
    "### Classification"
   ]
  },
  {
   "cell_type": "code",
   "execution_count": 33,
   "id": "f70f8a59",
   "metadata": {},
   "outputs": [
    {
     "name": "stdout",
     "output_type": "stream",
     "text": [
      "+----------+------------------+--------------------+-----------------+-------------------------+----------------------+-------------+------------------+---------------+------------+---------+--------+----+-----+-----------------+-----------+--------------------+----------------------+-------------------------+---------------------+---------------------------+----------------------+-------------------+----------------+---------------+----------------+--------------------+--------------+\n",
      "|host_since|host_response_rate|host_acceptance_rate|host_is_superhost|host_total_listings_count|host_identity_verified|neighbourhood|     property_type|      room_type|accommodates|bathrooms|bedrooms|beds|price|number_of_reviews|last_review|review_scores_rating|review_scores_accuracy|review_scores_cleanliness|review_scores_checkin|review_scores_communication|review_scores_location|review_scores_value|instant_bookable|amenities_count|price_per_person|avg_price_per_person|price_category|\n",
      "+----------+------------------+--------------------+-----------------+-------------------------+----------------------+-------------+------------------+---------------+------------+---------+--------+----+-----+-----------------+-----------+--------------------+----------------------+-------------------------+---------------------+---------------------------+----------------------+-------------------+----------------+---------------+----------------+--------------------+--------------+\n",
      "|2015-12-30|              94.0|                91.0|                0|                      6.0|                     1|        Bronx|Entire guest suite|Entire home/apt|           5|   1 bath|     2.0| 3.0| 99.0|                4| 2023-01-23|                4.75|                   4.5|                      5.0|                  5.0|                       4.75|                   4.5|                4.5|               0|             17|            19.8|    36.6030303030303|    DISCOUNTED|\n",
      "|2020-02-25|             100.0|                88.0|                0|                      2.0|                     1|        Bronx|Entire guest suite|Entire home/apt|           4|   1 bath|     1.0| 1.0| 84.0|               43| 2023-03-02|                4.84|                  4.93|                     4.93|                 4.98|                       4.98|                  4.84|               4.81|               1|             43|            21.0|    36.6030303030303|    DISCOUNTED|\n",
      "|2017-01-03|              90.0|                99.0|                0|                     17.0|                     1|        Bronx|Entire guest suite|Entire home/apt|           2|   1 bath|     1.0| 1.0|165.0|              113| 2022-12-31|                4.84|                  4.86|                     4.79|                 4.92|                       4.87|                  4.79|               4.68|               1|             60|            82.5|    36.6030303030303|        COSTLY|\n",
      "|2014-12-31|             100.0|               100.0|                0|                      2.0|                     1|        Bronx|Entire guest suite|Entire home/apt|           4|   1 bath|     2.0| 2.0|160.0|                1| 2022-12-30|                 5.0|                   5.0|                      5.0|                  5.0|                        5.0|                   5.0|                5.0|               0|             21|            40.0|    36.6030303030303|    DISCOUNTED|\n",
      "|2013-07-31|              97.0|                95.0|                0|                      7.0|                     0|        Bronx|Entire guest suite|Entire home/apt|           4|   1 bath|     1.0| 2.0| 90.0|               94| 2023-02-20|                4.63|                   4.7|                      4.6|                 4.73|                        4.8|                  4.49|               4.66|               0|             30|            22.5|    36.6030303030303|    DISCOUNTED|\n",
      "+----------+------------------+--------------------+-----------------+-------------------------+----------------------+-------------+------------------+---------------+------------+---------+--------+----+-----+-----------------+-----------+--------------------+----------------------+-------------------------+---------------------+---------------------------+----------------------+-------------------+----------------+---------------+----------------+--------------------+--------------+\n",
      "only showing top 5 rows\n",
      "\n"
     ]
    }
   ],
   "source": [
    "# Find Average price per person by group. Group is defined as (host_is_superhost, neighbourhood, property_type, room_type)\n",
    "# Create categories of price based on average price\n",
    "data_clf = data.select(\"*\")\n",
    "data_clf = data_clf.withColumn('price_per_person', col('price')/col('accommodates'))\n",
    "group_cols = ['neighbourhood', 'host_is_superhost', 'property_type', 'room_type']\n",
    "\n",
    "w = Window.partitionBy(group_cols)\n",
    "data_clf = data_clf.withColumn(\"avg_price_per_person\", avg('price_per_person').over(w))\n",
    "percent_band = 0.2\n",
    "data_clf = data_clf.withColumn(\n",
    "    'price_category',\n",
    "    when(col(\"price_per_person\") > (1 + percent_band) * col('avg_price_per_person'), \"COSTLY\").\n",
    "    when(col(\"price_per_person\") < (1 + percent_band) * col('avg_price_per_person'), \"DISCOUNTED\").\n",
    "    otherwise(\"ECONOMICAL\")\n",
    ")\n",
    "data_clf.show(5)\n"
   ]
  },
  {
   "cell_type": "code",
   "execution_count": 34,
   "id": "3b1ef72e",
   "metadata": {},
   "outputs": [
    {
     "name": "stdout",
     "output_type": "stream",
     "text": [
      "+----------+------------------+--------------------+-----------------+-------------------------+----------------------+-------------+------------------+---------------+------------+---------+--------+----+-----+-----------------+-----------+--------------------+----------------------+-------------------------+---------------------+---------------------------+----------------------+-------------------+----------------+---------------+----------------+--------------------+--------------+--------------------+\n",
      "|host_since|host_response_rate|host_acceptance_rate|host_is_superhost|host_total_listings_count|host_identity_verified|neighbourhood|     property_type|      room_type|accommodates|bathrooms|bedrooms|beds|price|number_of_reviews|last_review|review_scores_rating|review_scores_accuracy|review_scores_cleanliness|review_scores_checkin|review_scores_communication|review_scores_location|review_scores_value|instant_bookable|amenities_count|price_per_person|avg_price_per_person|price_category|price_category_group|\n",
      "+----------+------------------+--------------------+-----------------+-------------------------+----------------------+-------------+------------------+---------------+------------+---------+--------+----+-----+-----------------+-----------+--------------------+----------------------+-------------------------+---------------------+---------------------------+----------------------+-------------------+----------------+---------------+----------------+--------------------+--------------+--------------------+\n",
      "|2015-12-30|              94.0|                91.0|                0|                      6.0|                     1|        Bronx|Entire guest suite|Entire home/apt|           5|   1 bath|     2.0| 3.0| 99.0|                4| 2023-01-23|                4.75|                   4.5|                      5.0|                  5.0|                       4.75|                   4.5|                4.5|               0|             17|            19.8|    36.6030303030303|    DISCOUNTED|                 0.0|\n",
      "|2020-02-25|             100.0|                88.0|                0|                      2.0|                     1|        Bronx|Entire guest suite|Entire home/apt|           4|   1 bath|     1.0| 1.0| 84.0|               43| 2023-03-02|                4.84|                  4.93|                     4.93|                 4.98|                       4.98|                  4.84|               4.81|               1|             43|            21.0|    36.6030303030303|    DISCOUNTED|                 0.0|\n",
      "|2017-01-03|              90.0|                99.0|                0|                     17.0|                     1|        Bronx|Entire guest suite|Entire home/apt|           2|   1 bath|     1.0| 1.0|165.0|              113| 2022-12-31|                4.84|                  4.86|                     4.79|                 4.92|                       4.87|                  4.79|               4.68|               1|             60|            82.5|    36.6030303030303|        COSTLY|                 1.0|\n",
      "|2014-12-31|             100.0|               100.0|                0|                      2.0|                     1|        Bronx|Entire guest suite|Entire home/apt|           4|   1 bath|     2.0| 2.0|160.0|                1| 2022-12-30|                 5.0|                   5.0|                      5.0|                  5.0|                        5.0|                   5.0|                5.0|               0|             21|            40.0|    36.6030303030303|    DISCOUNTED|                 0.0|\n",
      "|2013-07-31|              97.0|                95.0|                0|                      7.0|                     0|        Bronx|Entire guest suite|Entire home/apt|           4|   1 bath|     1.0| 2.0| 90.0|               94| 2023-02-20|                4.63|                   4.7|                      4.6|                 4.73|                        4.8|                  4.49|               4.66|               0|             30|            22.5|    36.6030303030303|    DISCOUNTED|                 0.0|\n",
      "+----------+------------------+--------------------+-----------------+-------------------------+----------------------+-------------+------------------+---------------+------------+---------+--------+----+-----+-----------------+-----------+--------------------+----------------------+-------------------------+---------------------+---------------------------+----------------------+-------------------+----------------+---------------+----------------+--------------------+--------------+--------------------+\n",
      "only showing top 5 rows\n",
      "\n"
     ]
    }
   ],
   "source": [
    "# Use StringIndexer to convert the categorical columns to hold numerical data\n",
    "price_category_group = StringIndexer(inputCol='price_category',outputCol='price_category_group',handleInvalid='keep')\n",
    "data_clf = price_category_group.fit(data_clf).transform(data_clf)\n",
    "data_clf.show(5)"
   ]
  },
  {
   "cell_type": "markdown",
   "id": "1617ee34",
   "metadata": {},
   "source": [
    "#### Decision Tree"
   ]
  },
  {
   "cell_type": "code",
   "execution_count": 35,
   "id": "cba769af",
   "metadata": {},
   "outputs": [
    {
     "name": "stdout",
     "output_type": "stream",
     "text": [
      "+------------------+--------------------+-----------------+-------------------------+----------------------+-------------+--------------------+---------------+------------+-------------+--------+----+-----+-----------------+--------------------+----------------+---------------+--------------------+\n",
      "|host_response_rate|host_acceptance_rate|host_is_superhost|host_total_listings_count|host_identity_verified|neighbourhood|       property_type|      room_type|accommodates|    bathrooms|bedrooms|beds|price|number_of_reviews|review_scores_rating|instant_bookable|amenities_count|price_category_group|\n",
      "+------------------+--------------------+-----------------+-------------------------+----------------------+-------------+--------------------+---------------+------------+-------------+--------+----+-----+-----------------+--------------------+----------------+---------------+--------------------+\n",
      "|             100.0|                24.0|                0|                      5.0|                     1|     Brooklyn|  Entire rental unit|Entire home/apt|           4|       1 bath|     3.0| 3.0| 99.0|               44|                4.88|               0|             15|                 0.0|\n",
      "|             100.0|                89.0|                0|                     13.0|                     1|     Brooklyn|Shared room in to...|    Shared room|           2|1 shared bath|     1.0| 1.0| 99.0|               10|                 4.5|               0|             43|                 1.0|\n",
      "|             100.0|                89.0|                0|                     13.0|                     1|     Brooklyn|Shared room in to...|    Shared room|           2|1 shared bath|     1.0| 1.0| 99.0|               31|                4.71|               0|             43|                 1.0|\n",
      "|              74.0|                22.0|                0|                      9.0|                     1|    Manhattan|  Entire rental unit|Entire home/apt|           1|       1 bath|     1.0| 1.0|150.0|                2|                 5.0|               0|             28|                 1.0|\n",
      "|              74.0|                22.0|                0|                      9.0|                     1|    Manhattan|  Entire rental unit|Entire home/apt|           1|       1 bath|     1.0| 1.0|150.0|               49|                4.68|               0|             32|                 1.0|\n",
      "+------------------+--------------------+-----------------+-------------------------+----------------------+-------------+--------------------+---------------+------------+-------------+--------+----+-----+-----------------+--------------------+----------------+---------------+--------------------+\n",
      "only showing top 5 rows\n",
      "\n"
     ]
    }
   ],
   "source": [
    "cols_filtered = [\"host_response_rate\", \"host_acceptance_rate\", \"host_is_superhost\", \"host_total_listings_count\", \n",
    "                 \"host_identity_verified\", \"neighbourhood\", \"property_type\", \"room_type\", \"accommodates\",\n",
    "                 \"bathrooms\", \"bedrooms\", \"beds\", \"price\", \"number_of_reviews\", \"review_scores_rating\", \n",
    "                 \"instant_bookable\", \"amenities_count\", \"price_category_group\"]\n",
    "train_data, test_data=data_clf.randomSplit([0.7,0.3])\n",
    "train_data = train_data.select(cols_filtered)\n",
    "test_data = test_data.select(cols_filtered)\n",
    "train_data.show(5)"
   ]
  },
  {
   "cell_type": "code",
   "execution_count": 36,
   "id": "d1459611",
   "metadata": {},
   "outputs": [],
   "source": [
    "dt_model = DecisionTreeClassifier(labelCol='price_category_group', maxBins=5000)"
   ]
  },
  {
   "cell_type": "code",
   "execution_count": 37,
   "id": "bd42e018",
   "metadata": {},
   "outputs": [],
   "source": [
    "pipe = Pipeline(stages=[\n",
    "    neighbourhood_group,\n",
    "    property_type_group,\n",
    "    room_type_group,\n",
    "    bathrooms_group,\n",
    "    assembler,\n",
    "    dt_model\n",
    "    ]\n",
    ")"
   ]
  },
  {
   "cell_type": "code",
   "execution_count": 38,
   "id": "98b2fcc6",
   "metadata": {},
   "outputs": [],
   "source": [
    "fit_model=pipe.fit(train_data)"
   ]
  },
  {
   "cell_type": "code",
   "execution_count": 39,
   "id": "d8ce57f1",
   "metadata": {},
   "outputs": [],
   "source": [
    "results = fit_model.transform(test_data)"
   ]
  },
  {
   "cell_type": "code",
   "execution_count": 40,
   "id": "3c1a49ea",
   "metadata": {},
   "outputs": [
    {
     "name": "stdout",
     "output_type": "stream",
     "text": [
      "+--------------------+----------+\n",
      "|price_category_group|prediction|\n",
      "+--------------------+----------+\n",
      "|                 0.0|       0.0|\n",
      "|                 1.0|       1.0|\n",
      "|                 1.0|       0.0|\n",
      "|                 0.0|       0.0|\n",
      "|                 0.0|       0.0|\n",
      "+--------------------+----------+\n",
      "only showing top 5 rows\n",
      "\n"
     ]
    }
   ],
   "source": [
    "results.select(['price_category_group','prediction']).show(5)"
   ]
  },
  {
   "cell_type": "code",
   "execution_count": 41,
   "id": "bc8049c8",
   "metadata": {},
   "outputs": [
    {
     "name": "stdout",
     "output_type": "stream",
     "text": [
      "The accuracy of the decision tree classifier is 0.7811759859952631\n"
     ]
    }
   ],
   "source": [
    "from pyspark.ml.evaluation import MulticlassClassificationEvaluator\n",
    "ACC_evaluator = MulticlassClassificationEvaluator(\n",
    "    labelCol=\"price_category_group\", predictionCol=\"prediction\", metricName=\"accuracy\")\n",
    "\n",
    "accuracy = ACC_evaluator.evaluate(results)\n",
    "\n",
    "print(f\"The accuracy of the decision tree classifier is {accuracy}\")"
   ]
  },
  {
   "cell_type": "code",
   "execution_count": 43,
   "id": "bf4e122e",
   "metadata": {},
   "outputs": [
    {
     "name": "stdout",
     "output_type": "stream",
     "text": [
      "The area under the curve is 0.66\n"
     ]
    }
   ],
   "source": [
    "from pyspark.ml.evaluation import BinaryClassificationEvaluator\n",
    "\n",
    "AUC_evaluator = BinaryClassificationEvaluator(rawPredictionCol='prediction',labelCol='price_category_group',metricName='areaUnderROC')\n",
    "AUC = AUC_evaluator.evaluate(results)\n",
    "\n",
    "print(f\"The area under the curve is {AUC:.2f}\")"
   ]
  },
  {
   "cell_type": "code",
   "execution_count": 44,
   "id": "f76f0d28",
   "metadata": {},
   "outputs": [
    {
     "name": "stdout",
     "output_type": "stream",
     "text": [
      "The area under the PR curve is 0.5137904801545486\n"
     ]
    }
   ],
   "source": [
    "PR_evaluator = BinaryClassificationEvaluator(rawPredictionCol='prediction',labelCol='price_category_group',metricName='areaUnderPR')\n",
    "PR = PR_evaluator.evaluate(results)\n",
    "\n",
    "print(\"The area under the PR curve is {}\".format(PR))"
   ]
  },
  {
   "cell_type": "code",
   "execution_count": 46,
   "id": "6ee73f7d",
   "metadata": {},
   "outputs": [
    {
     "name": "stdout",
     "output_type": "stream",
     "text": [
      "Below is the confusion matrix: \n",
      " [[6589  601]\n",
      " [1524  997]]\n"
     ]
    }
   ],
   "source": [
    "from sklearn.metrics import confusion_matrix\n",
    "\n",
    "y_true = results.select(\"price_category_group\")\n",
    "y_true = y_true.toPandas()\n",
    " \n",
    "y_pred = results.select(\"prediction\")\n",
    "y_pred = y_pred.toPandas()\n",
    " \n",
    "cnf_matrix = confusion_matrix(y_true, y_pred)\n",
    "print(\"Below is the confusion matrix: \\n {}\".format(cnf_matrix))"
   ]
  },
  {
   "cell_type": "code",
   "execution_count": 48,
   "id": "d2b54d74",
   "metadata": {},
   "outputs": [],
   "source": [
    "tn = cnf_matrix[0][0]\n",
    "fp = cnf_matrix[0][1]\n",
    "fn = cnf_matrix[1][0]\n",
    "tp = cnf_matrix[1][1]\n",
    "\n",
    "accuracy = (tp+tn)/(tp+tn+fp+fn)\n",
    "precision = tp/(tp+fp)\n",
    "recall = tp/(tp+fn)\n",
    "f1_score = 2*(precision*recall)/(precision+recall)"
   ]
  },
  {
   "cell_type": "code",
   "execution_count": 49,
   "id": "e19d2586",
   "metadata": {},
   "outputs": [
    {
     "name": "stdout",
     "output_type": "stream",
     "text": [
      "Accuracy: 0.78\n",
      "Precision: 0.62\n",
      "Recall: 0.40\n",
      "F1 Score: 0.48\n"
     ]
    }
   ],
   "source": [
    "print(f\"Accuracy: {accuracy:.2f}\")\n",
    "print(f\"Precision: {precision:.2f}\")\n",
    "print(f\"Recall: {recall:.2f}\")\n",
    "print(f\"F1 Score: {f1_score:.2f}\")"
   ]
  },
  {
   "cell_type": "markdown",
   "id": "aaa6d702",
   "metadata": {},
   "source": [
    "#### MLP Classifier"
   ]
  },
  {
   "cell_type": "code",
   "execution_count": null,
   "id": "ba9aee76",
   "metadata": {},
   "outputs": [
    {
     "name": "stdout",
     "output_type": "stream",
     "text": [
      "+------------------+--------------------+-----------------+-------------------------+----------------------+-------------+--------------------+---------------+------------+-------------+--------+----+-----+-----------------+--------------------+----------------+---------------+--------------------+\n",
      "|host_response_rate|host_acceptance_rate|host_is_superhost|host_total_listings_count|host_identity_verified|neighbourhood|       property_type|      room_type|accommodates|    bathrooms|bedrooms|beds|price|number_of_reviews|review_scores_rating|instant_bookable|amenities_count|price_category_group|\n",
      "+------------------+--------------------+-----------------+-------------------------+----------------------+-------------+--------------------+---------------+------------+-------------+--------+----+-----+-----------------+--------------------+----------------+---------------+--------------------+\n",
      "|             100.0|                25.0|                0|                      3.0|                     1|    Manhattan|  Entire rental unit|Entire home/apt|           2|       1 bath|     2.0| 2.0|124.0|                4|                 5.0|               0|             21|                 0.0|\n",
      "|             100.0|                89.0|                0|                     13.0|                     1|     Brooklyn|Shared room in to...|    Shared room|           2|1 shared bath|     1.0| 1.0| 99.0|               31|                4.71|               0|             43|                 1.0|\n",
      "|              74.0|                22.0|                0|                      9.0|                     1|    Manhattan|  Entire rental unit|Entire home/apt|           1|       1 bath|     1.0| 1.0|150.0|                2|                 5.0|               0|             28|                 1.0|\n",
      "|              74.0|                22.0|                0|                      9.0|                     1|    Manhattan|  Entire rental unit|Entire home/apt|           1|       1 bath|     1.0| 1.0|150.0|               49|                4.68|               0|             32|                 1.0|\n",
      "|              74.0|                22.0|                0|                      9.0|                     1|    Manhattan|  Entire rental unit|Entire home/apt|           1|       1 bath|     1.0| 1.0|195.0|                2|                 5.0|               0|             33|                 1.0|\n",
      "+------------------+--------------------+-----------------+-------------------------+----------------------+-------------+--------------------+---------------+------------+-------------+--------+----+-----+-----------------+--------------------+----------------+---------------+--------------------+\n",
      "only showing top 5 rows\n",
      "\n"
     ]
    }
   ],
   "source": [
    "cols_filtered = [\"host_response_rate\", \"host_acceptance_rate\", \"host_is_superhost\", \"host_total_listings_count\", \n",
    "                 \"host_identity_verified\", \"neighbourhood\", \"property_type\", \"room_type\", \"accommodates\",\n",
    "                 \"bathrooms\", \"bedrooms\", \"beds\", \"price\", \"number_of_reviews\", \"review_scores_rating\", \n",
    "                 \"instant_bookable\", \"amenities_count\", \"price_category_group\"]\n",
    "train_data, test_data=data_clf.randomSplit([0.7,0.3])\n",
    "train_data = train_data.select(cols_filtered)\n",
    "test_data = test_data.select(cols_filtered)\n",
    "train_data.show(5)"
   ]
  },
  {
   "cell_type": "code",
   "execution_count": null,
   "id": "a2783f1d",
   "metadata": {},
   "outputs": [
    {
     "name": "stdout",
     "output_type": "stream",
     "text": [
      "+--------------------+\n",
      "|price_category_group|\n",
      "+--------------------+\n",
      "|                 0.0|\n",
      "|                 1.0|\n",
      "|                 2.0|\n",
      "+--------------------+\n",
      "\n"
     ]
    }
   ],
   "source": [
    "train_data.select('price_category_group').distinct().show()\n"
   ]
  },
  {
   "cell_type": "code",
   "execution_count": null,
   "id": "c96042ae",
   "metadata": {},
   "outputs": [],
   "source": [
    "scaler = StandardScaler(inputCol=\"features\", outputCol=\"scaled_features\")"
   ]
  },
  {
   "cell_type": "code",
   "execution_count": null,
   "id": "45f5e26a",
   "metadata": {},
   "outputs": [],
   "source": [
    "mlp_model = MultilayerPerceptronClassifier().\\\n",
    "        setLabelCol(\"price_category_group\").\\\n",
    "        setFeaturesCol(\"scaled_features\").\\\n",
    "        setSeed(20).\\\n",
    "        setLayers([14, 24, 18, 4])"
   ]
  },
  {
   "cell_type": "code",
   "execution_count": null,
   "id": "1dc06f8e",
   "metadata": {},
   "outputs": [],
   "source": [
    "pipe = Pipeline(stages=[\n",
    "    neighbourhood_group,\n",
    "    property_type_group,\n",
    "    room_type_group,\n",
    "    bathrooms_group,\n",
    "    assembler,\n",
    "    scaler,\n",
    "    mlp_model\n",
    "    ]\n",
    ")"
   ]
  },
  {
   "cell_type": "code",
   "execution_count": null,
   "id": "a81dbc60",
   "metadata": {},
   "outputs": [
    {
     "name": "stderr",
     "output_type": "stream",
     "text": [
      "                                                                                \r"
     ]
    }
   ],
   "source": [
    "fit_model=pipe.fit(train_data)"
   ]
  },
  {
   "cell_type": "code",
   "execution_count": null,
   "id": "27b51257",
   "metadata": {},
   "outputs": [],
   "source": [
    "results = fit_model.transform(test_data)"
   ]
  },
  {
   "cell_type": "code",
   "execution_count": null,
   "id": "24ad4c57",
   "metadata": {},
   "outputs": [
    {
     "name": "stdout",
     "output_type": "stream",
     "text": [
      "+--------------------+----------+\n",
      "|price_category_group|prediction|\n",
      "+--------------------+----------+\n",
      "|                 0.0|       0.0|\n",
      "|                 1.0|       0.0|\n",
      "|                 1.0|       1.0|\n",
      "|                 1.0|       0.0|\n",
      "|                 0.0|       0.0|\n",
      "+--------------------+----------+\n",
      "only showing top 5 rows\n",
      "\n"
     ]
    }
   ],
   "source": [
    "results.select(['price_category_group','prediction']).show(5)"
   ]
  },
  {
   "cell_type": "code",
   "execution_count": null,
   "id": "0c76154d",
   "metadata": {},
   "outputs": [
    {
     "name": "stdout",
     "output_type": "stream",
     "text": [
      "The accuracy of the MLP classifier is 0.7792048929663609\n"
     ]
    }
   ],
   "source": [
    "from pyspark.ml.evaluation import MulticlassClassificationEvaluator\n",
    "ACC_evaluator = MulticlassClassificationEvaluator(\n",
    "    labelCol=\"price_category_group\", predictionCol=\"prediction\", metricName=\"accuracy\")\n",
    "\n",
    "accuracy = ACC_evaluator.evaluate(results)\n",
    "\n",
    "print(f\"The accuracy of the MLP classifier is {accuracy}\")"
   ]
  },
  {
   "cell_type": "code",
   "execution_count": 50,
   "id": "f6aba026",
   "metadata": {},
   "outputs": [
    {
     "name": "stdout",
     "output_type": "stream",
     "text": [
      "The area under the curve is 0.66\n"
     ]
    }
   ],
   "source": [
    "from pyspark.ml.evaluation import BinaryClassificationEvaluator\n",
    "\n",
    "AUC_evaluator = BinaryClassificationEvaluator(rawPredictionCol='prediction',labelCol='price_category_group',metricName='areaUnderROC')\n",
    "AUC = AUC_evaluator.evaluate(results)\n",
    "\n",
    "print(f\"The area under the curve is {AUC:.2f}\")"
   ]
  },
  {
   "cell_type": "code",
   "execution_count": 51,
   "id": "15adcaf4",
   "metadata": {},
   "outputs": [
    {
     "name": "stdout",
     "output_type": "stream",
     "text": [
      "The area under the PR curve is 0.5137904801545486\n"
     ]
    }
   ],
   "source": [
    "PR_evaluator = BinaryClassificationEvaluator(rawPredictionCol='prediction',labelCol='price_category_group',metricName='areaUnderPR')\n",
    "PR = PR_evaluator.evaluate(results)\n",
    "\n",
    "print(\"The area under the PR curve is {}\".format(PR))"
   ]
  },
  {
   "cell_type": "code",
   "execution_count": 52,
   "id": "7607d669",
   "metadata": {},
   "outputs": [
    {
     "name": "stdout",
     "output_type": "stream",
     "text": [
      "Below is the confusion matrix: \n",
      " [[6589  601]\n",
      " [1524  997]]\n"
     ]
    }
   ],
   "source": [
    "from sklearn.metrics import confusion_matrix\n",
    "\n",
    "y_true = results.select(\"price_category_group\")\n",
    "y_true = y_true.toPandas()\n",
    " \n",
    "y_pred = results.select(\"prediction\")\n",
    "y_pred = y_pred.toPandas()\n",
    " \n",
    "cnf_matrix = confusion_matrix(y_true, y_pred)\n",
    "print(\"Below is the confusion matrix: \\n {}\".format(cnf_matrix))"
   ]
  },
  {
   "cell_type": "code",
   "execution_count": 53,
   "id": "4f885974",
   "metadata": {},
   "outputs": [],
   "source": [
    "tn = cnf_matrix[0][0]\n",
    "fp = cnf_matrix[0][1]\n",
    "fn = cnf_matrix[1][0]\n",
    "tp = cnf_matrix[1][1]\n",
    "\n",
    "accuracy = (tp+tn)/(tp+tn+fp+fn)\n",
    "precision = tp/(tp+fp)\n",
    "recall = tp/(tp+fn)\n",
    "f1_score = 2*(precision*recall)/(precision+recall)"
   ]
  },
  {
   "cell_type": "code",
   "execution_count": 54,
   "id": "59a204bc",
   "metadata": {},
   "outputs": [
    {
     "name": "stdout",
     "output_type": "stream",
     "text": [
      "Accuracy: 0.78\n",
      "Precision: 0.62\n",
      "Recall: 0.40\n",
      "F1 Score: 0.48\n"
     ]
    }
   ],
   "source": [
    "print(f\"Accuracy: {accuracy:.2f}\")\n",
    "print(f\"Precision: {precision:.2f}\")\n",
    "print(f\"Recall: {recall:.2f}\")\n",
    "print(f\"F1 Score: {f1_score:.2f}\")\n"
   ]
  }
 ],
 "metadata": {
  "kernelspec": {
   "display_name": "Python 3 (ipykernel)",
   "language": "python",
   "name": "python3"
  },
  "language_info": {
   "codemirror_mode": {
    "name": "ipython",
    "version": 3
   },
   "file_extension": ".py",
   "mimetype": "text/x-python",
   "name": "python",
   "nbconvert_exporter": "python",
   "pygments_lexer": "ipython3",
   "version": "3.9.16"
  },
  "vscode": {
   "interpreter": {
    "hash": "69cfceaaa8400857ef80a2714b3cfcc0cbcf8331dd502837f1cb39fe233d78c4"
   }
  }
 },
 "nbformat": 4,
 "nbformat_minor": 5
}
